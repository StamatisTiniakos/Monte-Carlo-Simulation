{
 "cells": [
  {
   "cell_type": "code",
   "execution_count": 1,
   "metadata": {},
   "outputs": [],
   "source": [
    "import pandas_datareader.data as web\n",
    "import pandas as pd\n",
    "import datetime as dt\n",
    "import numpy as np\n",
    "from sklearn.linear_model import LinearRegression\n",
    "%matplotlib inline\n",
    "import matplotlib.pyplot as plt"
   ]
  },
  {
   "cell_type": "code",
   "execution_count": 2,
   "metadata": {},
   "outputs": [],
   "source": [
    "#Number of simulations\n",
    "num_simulations = 1000\n",
    "#Number of years\n",
    "num_years = 5"
   ]
  },
  {
   "cell_type": "markdown",
   "metadata": {},
   "source": [
    "# Import data & create dataframe"
   ]
  },
  {
   "cell_type": "markdown",
   "metadata": {},
   "source": [
    "In this exercise two datasets will be used. The first one includes historic revenue growth, GDP growth and inflation while the second includes five-year forecasts for GDP growth and inflation. The historic figures where extracted from Fever-Tree annual accounts and the office of national statistics while the forecasted from the September 2020 PWC UK Economic Update."
   ]
  },
  {
   "cell_type": "code",
   "execution_count": 3,
   "metadata": {},
   "outputs": [],
   "source": [
    "#read historic data\n",
    "df = pd.read_csv('data.csv',header=None)\n",
    "df.columns=['revenue','%gdp_growth','%inflation']\n",
    "#read forecasted data\n",
    "df_fct = pd.read_csv('data_fct.csv',header=None)\n",
    "df_fct.columns=['%gdp_growth_fct_vs','%inflation_fct_vs','%gdp_growth_fct_ls','%inflation_fct_ls']"
   ]
  },
  {
   "cell_type": "code",
   "execution_count": 4,
   "metadata": {},
   "outputs": [
    {
     "data": {
      "text/html": [
       "<div>\n",
       "<style scoped>\n",
       "    .dataframe tbody tr th:only-of-type {\n",
       "        vertical-align: middle;\n",
       "    }\n",
       "\n",
       "    .dataframe tbody tr th {\n",
       "        vertical-align: top;\n",
       "    }\n",
       "\n",
       "    .dataframe thead th {\n",
       "        text-align: right;\n",
       "    }\n",
       "</style>\n",
       "<table border=\"1\" class=\"dataframe\">\n",
       "  <thead>\n",
       "    <tr style=\"text-align: right;\">\n",
       "      <th></th>\n",
       "      <th>revenue</th>\n",
       "      <th>%gdp_growth</th>\n",
       "      <th>%inflation</th>\n",
       "    </tr>\n",
       "  </thead>\n",
       "  <tbody>\n",
       "    <tr>\n",
       "      <th>0</th>\n",
       "      <td>0.097304</td>\n",
       "      <td>0.015</td>\n",
       "      <td>0.018</td>\n",
       "    </tr>\n",
       "    <tr>\n",
       "      <th>1</th>\n",
       "      <td>0.395067</td>\n",
       "      <td>0.013</td>\n",
       "      <td>0.025</td>\n",
       "    </tr>\n",
       "    <tr>\n",
       "      <th>2</th>\n",
       "      <td>0.664476</td>\n",
       "      <td>0.019</td>\n",
       "      <td>0.027</td>\n",
       "    </tr>\n",
       "    <tr>\n",
       "      <th>3</th>\n",
       "      <td>0.725461</td>\n",
       "      <td>0.019</td>\n",
       "      <td>0.007</td>\n",
       "    </tr>\n",
       "    <tr>\n",
       "      <th>4</th>\n",
       "      <td>0.707993</td>\n",
       "      <td>0.024</td>\n",
       "      <td>0.004</td>\n",
       "    </tr>\n",
       "    <tr>\n",
       "      <th>5</th>\n",
       "      <td>0.488756</td>\n",
       "      <td>0.026</td>\n",
       "      <td>0.015</td>\n",
       "    </tr>\n",
       "    <tr>\n",
       "      <th>6</th>\n",
       "      <td>0.438395</td>\n",
       "      <td>0.021</td>\n",
       "      <td>0.026</td>\n",
       "    </tr>\n",
       "    <tr>\n",
       "      <th>7</th>\n",
       "      <td>0.350000</td>\n",
       "      <td>0.015</td>\n",
       "      <td>0.028</td>\n",
       "    </tr>\n",
       "    <tr>\n",
       "      <th>8</th>\n",
       "      <td>0.791045</td>\n",
       "      <td>0.015</td>\n",
       "      <td>0.045</td>\n",
       "    </tr>\n",
       "  </tbody>\n",
       "</table>\n",
       "</div>"
      ],
      "text/plain": [
       "    revenue  %gdp_growth  %inflation\n",
       "0  0.097304        0.015       0.018\n",
       "1  0.395067        0.013       0.025\n",
       "2  0.664476        0.019       0.027\n",
       "3  0.725461        0.019       0.007\n",
       "4  0.707993        0.024       0.004\n",
       "5  0.488756        0.026       0.015\n",
       "6  0.438395        0.021       0.026\n",
       "7  0.350000        0.015       0.028\n",
       "8  0.791045        0.015       0.045"
      ]
     },
     "execution_count": 4,
     "metadata": {},
     "output_type": "execute_result"
    }
   ],
   "source": [
    "df"
   ]
  },
  {
   "cell_type": "code",
   "execution_count": 5,
   "metadata": {},
   "outputs": [
    {
     "data": {
      "text/html": [
       "<div>\n",
       "<style scoped>\n",
       "    .dataframe tbody tr th:only-of-type {\n",
       "        vertical-align: middle;\n",
       "    }\n",
       "\n",
       "    .dataframe tbody tr th {\n",
       "        vertical-align: top;\n",
       "    }\n",
       "\n",
       "    .dataframe thead th {\n",
       "        text-align: right;\n",
       "    }\n",
       "</style>\n",
       "<table border=\"1\" class=\"dataframe\">\n",
       "  <thead>\n",
       "    <tr style=\"text-align: right;\">\n",
       "      <th></th>\n",
       "      <th>%gdp_growth_fct_vs</th>\n",
       "      <th>%inflation_fct_vs</th>\n",
       "      <th>%gdp_growth_fct_ls</th>\n",
       "      <th>%inflation_fct_ls</th>\n",
       "    </tr>\n",
       "  </thead>\n",
       "  <tbody>\n",
       "    <tr>\n",
       "      <th>0</th>\n",
       "      <td>0.018</td>\n",
       "      <td>0.0162</td>\n",
       "      <td>0.018</td>\n",
       "      <td>0.0162</td>\n",
       "    </tr>\n",
       "    <tr>\n",
       "      <th>1</th>\n",
       "      <td>0.018</td>\n",
       "      <td>0.0162</td>\n",
       "      <td>0.018</td>\n",
       "      <td>0.0162</td>\n",
       "    </tr>\n",
       "    <tr>\n",
       "      <th>2</th>\n",
       "      <td>0.018</td>\n",
       "      <td>0.0162</td>\n",
       "      <td>0.018</td>\n",
       "      <td>0.0162</td>\n",
       "    </tr>\n",
       "    <tr>\n",
       "      <th>3</th>\n",
       "      <td>0.101</td>\n",
       "      <td>0.0150</td>\n",
       "      <td>0.039</td>\n",
       "      <td>0.0120</td>\n",
       "    </tr>\n",
       "    <tr>\n",
       "      <th>4</th>\n",
       "      <td>-0.111</td>\n",
       "      <td>0.0050</td>\n",
       "      <td>-0.120</td>\n",
       "      <td>0.0050</td>\n",
       "    </tr>\n",
       "  </tbody>\n",
       "</table>\n",
       "</div>"
      ],
      "text/plain": [
       "   %gdp_growth_fct_vs  %inflation_fct_vs  %gdp_growth_fct_ls  \\\n",
       "0               0.018             0.0162               0.018   \n",
       "1               0.018             0.0162               0.018   \n",
       "2               0.018             0.0162               0.018   \n",
       "3               0.101             0.0150               0.039   \n",
       "4              -0.111             0.0050              -0.120   \n",
       "\n",
       "   %inflation_fct_ls  \n",
       "0             0.0162  \n",
       "1             0.0162  \n",
       "2             0.0162  \n",
       "3             0.0120  \n",
       "4             0.0050  "
      ]
     },
     "execution_count": 5,
     "metadata": {},
     "output_type": "execute_result"
    }
   ],
   "source": [
    "df_fct"
   ]
  },
  {
   "cell_type": "markdown",
   "metadata": {},
   "source": [
    "# Linkage between GDP & inflation, and the revenue growth of Fevertree"
   ]
  },
  {
   "cell_type": "markdown",
   "metadata": {},
   "source": [
    "A linear relationship is assumed between revenue growth, GDP growth & inflation. Revenue is the dependent variable while GDP growth and inflation are the independent variables.\n",
    "\n",
    "Multiple linear regression is used to calculate the two coefficients (b1, b2) along and the intercept (b0).\n",
    "\n",
    "$ y =b ₀+b ₁x ₁+b₂x₂+c$  \n",
    "\n",
    "Where y is the revenue growth, b0 the intercept, b1 the coefficient for GDP growth and b2 the coefficient for inflation. After calculating the coefficients and the intercept the equation above becomes:\n",
    "\n",
    "$revenue Growth = 24.92*gdp Growth + 5.62*inflation - 0.06$"
   ]
  },
  {
   "cell_type": "code",
   "execution_count": 6,
   "metadata": {},
   "outputs": [],
   "source": [
    "# create linear regression object\n",
    "mlr = LinearRegression()"
   ]
  },
  {
   "cell_type": "code",
   "execution_count": 7,
   "metadata": {},
   "outputs": [
    {
     "data": {
      "text/plain": [
       "LinearRegression()"
      ]
     },
     "execution_count": 7,
     "metadata": {},
     "output_type": "execute_result"
    }
   ],
   "source": [
    "# fit linear regression\n",
    "mlr.fit(df[['%gdp_growth', '%inflation']], df['revenue'])"
   ]
  },
  {
   "cell_type": "code",
   "execution_count": 8,
   "metadata": {},
   "outputs": [],
   "source": [
    "intercept = mlr.intercept_\n",
    "coefficients = mlr.coef_\n",
    "gdp_coef = coefficients[0]\n",
    "inf_coef = coefficients[1]"
   ]
  },
  {
   "cell_type": "markdown",
   "metadata": {},
   "source": [
    "# Functions"
   ]
  },
  {
   "cell_type": "code",
   "execution_count": 9,
   "metadata": {},
   "outputs": [],
   "source": [
    "def monteCarloDataframe(num_simulations,num_years,gdp_mean,gdp_std,inf_mean,inf_std,gdp_coef,inf_coef,last_revenue,ebitda_pct):\n",
    "    '''Performs the monte carlo simulation and returns a dataframe'''\n",
    "    simulation_df = pd.DataFrame()\n",
    "    for x in range(num_simulations):\n",
    "        count = 0\n",
    "\n",
    "        ebitda_series = []\n",
    "        revenue_series = []\n",
    "        gdp_growth = np.random.normal(loc = gdp_mean, scale = gdp_std)\n",
    "        inflation = np.random.normal(loc = inf_mean, scale = inf_std)\n",
    "        revenue_growth = gdp_coef*gdp_growth + inf_coef*inflation\n",
    "        revenue = last_revenue*(1+revenue_growth)\n",
    "        revenue_series.append(revenue)\n",
    "        ebitda = revenue*ebitda_pct\n",
    "        ebitda_series.append(ebitda)\n",
    "\n",
    "        for y in range(num_years):\n",
    "            if count==num_years-1:\n",
    "                break\n",
    "            gdp_growth = np.random.normal(loc = gdp_mean, scale = gdp_std)\n",
    "            inflation = np.random.normal(loc = inf_mean, scale = inf_std)\n",
    "            revenue_growth = gdp_coef*gdp_growth + inf_coef*inflation\n",
    "            revenue = revenue_series[count]*(1+revenue_growth)\n",
    "            revenue_series.append(revenue)\n",
    "            ebitda = revenue*ebitda_pct\n",
    "            ebitda_series.append(ebitda)\n",
    "            count+=1\n",
    "        simulation_df[x] = ebitda_series\n",
    "        \n",
    "    return simulation_df"
   ]
  },
  {
   "cell_type": "code",
   "execution_count": 10,
   "metadata": {},
   "outputs": [],
   "source": [
    "def createPlot(simulation_df):\n",
    "    ''' Creates a plot'''\n",
    "    fig = plt.figure()\n",
    "    fig.suptitle('Monte Carlo Simulation Fever-Tree')\n",
    "    plt.plot(simulation_df)\n",
    "    plt.axhline(y=last_ebitda,color='r',linestyle='-')\n",
    "    plt.xlabel('Years')\n",
    "    plt.ylabel('EBITDA')\n",
    "    plt.show()"
   ]
  },
  {
   "cell_type": "markdown",
   "metadata": {},
   "source": [
    "# Scenario_1 - Covid didn't Happen"
   ]
  },
  {
   "cell_type": "markdown",
   "metadata": {},
   "source": [
    "The first scenario assumes that covid did not occur and as a result there is no major fluctuations in UK economy. The following assumptions are used:\n",
    "\n",
    "* GDP Growth follows a normal distribution with mean equal to 1.8% and a standard deviation equal to 0.44% (based on past 9 years GDP growth). \n",
    "* Inflation follows a normal distribution with mean 2.1% and standard deviation of 1.2% (based on inflation of the past 9 years)\n",
    "* EBITDA as a percentage of revenues is always the same and equal to 31.52% (average EBITDA of fever-tree the last 7 years)\n",
    "* Inflation and GDP are independent variables e.g. changes in inflation does not affect GDP and vice versa."
   ]
  },
  {
   "cell_type": "code",
   "execution_count": 11,
   "metadata": {},
   "outputs": [],
   "source": [
    "# standard deviation of gdp growth and inflation\n",
    "gdp_std = df['%gdp_growth'].std()\n",
    "inf_std = df['%inflation'].std()\n",
    "#mean of gdp and inflation\n",
    "gdp_mean = df['%gdp_growth'].mean()\n",
    "inf_mean = df['%inflation'].mean()\n",
    "#last reported revenue in millions \n",
    "last_revenue  = 260.5\n",
    "#EBITDA as % of revenue\n",
    "ebitda_pct = 0.3152\n",
    "#last EBITDA\n",
    "last_ebitda = 77.00"
   ]
  },
  {
   "cell_type": "code",
   "execution_count": 12,
   "metadata": {},
   "outputs": [],
   "source": [
    "simulation_df_sc1 = monteCarloDataframe(num_simulations,num_years,gdp_mean,gdp_std,inf_mean,inf_std,gdp_coef,inf_coef,last_revenue,ebitda_pct)"
   ]
  },
  {
   "cell_type": "code",
   "execution_count": 13,
   "metadata": {},
   "outputs": [
    {
     "data": {
      "text/html": [
       "<div>\n",
       "<style scoped>\n",
       "    .dataframe tbody tr th:only-of-type {\n",
       "        vertical-align: middle;\n",
       "    }\n",
       "\n",
       "    .dataframe tbody tr th {\n",
       "        vertical-align: top;\n",
       "    }\n",
       "\n",
       "    .dataframe thead th {\n",
       "        text-align: right;\n",
       "    }\n",
       "</style>\n",
       "<table border=\"1\" class=\"dataframe\">\n",
       "  <thead>\n",
       "    <tr style=\"text-align: right;\">\n",
       "      <th></th>\n",
       "      <th>0</th>\n",
       "      <th>1</th>\n",
       "      <th>2</th>\n",
       "      <th>3</th>\n",
       "      <th>4</th>\n",
       "      <th>5</th>\n",
       "      <th>6</th>\n",
       "      <th>7</th>\n",
       "      <th>8</th>\n",
       "      <th>9</th>\n",
       "      <th>...</th>\n",
       "      <th>990</th>\n",
       "      <th>991</th>\n",
       "      <th>992</th>\n",
       "      <th>993</th>\n",
       "      <th>994</th>\n",
       "      <th>995</th>\n",
       "      <th>996</th>\n",
       "      <th>997</th>\n",
       "      <th>998</th>\n",
       "      <th>999</th>\n",
       "    </tr>\n",
       "  </thead>\n",
       "  <tbody>\n",
       "    <tr>\n",
       "      <th>0</th>\n",
       "      <td>117.717188</td>\n",
       "      <td>143.097231</td>\n",
       "      <td>118.235744</td>\n",
       "      <td>135.135318</td>\n",
       "      <td>126.194550</td>\n",
       "      <td>137.047296</td>\n",
       "      <td>126.018377</td>\n",
       "      <td>127.739134</td>\n",
       "      <td>116.292059</td>\n",
       "      <td>126.468808</td>\n",
       "      <td>...</td>\n",
       "      <td>113.505502</td>\n",
       "      <td>130.594946</td>\n",
       "      <td>126.474580</td>\n",
       "      <td>127.829901</td>\n",
       "      <td>121.897078</td>\n",
       "      <td>112.261558</td>\n",
       "      <td>118.412699</td>\n",
       "      <td>106.265099</td>\n",
       "      <td>125.332175</td>\n",
       "      <td>143.117538</td>\n",
       "    </tr>\n",
       "    <tr>\n",
       "      <th>1</th>\n",
       "      <td>191.205409</td>\n",
       "      <td>232.773777</td>\n",
       "      <td>184.246566</td>\n",
       "      <td>222.152707</td>\n",
       "      <td>175.887488</td>\n",
       "      <td>216.210677</td>\n",
       "      <td>209.281886</td>\n",
       "      <td>196.867546</td>\n",
       "      <td>173.788842</td>\n",
       "      <td>173.857693</td>\n",
       "      <td>...</td>\n",
       "      <td>194.846142</td>\n",
       "      <td>220.941606</td>\n",
       "      <td>208.312597</td>\n",
       "      <td>206.483544</td>\n",
       "      <td>196.920324</td>\n",
       "      <td>203.391493</td>\n",
       "      <td>217.052642</td>\n",
       "      <td>144.492380</td>\n",
       "      <td>219.135688</td>\n",
       "      <td>209.172213</td>\n",
       "    </tr>\n",
       "    <tr>\n",
       "      <th>2</th>\n",
       "      <td>318.054871</td>\n",
       "      <td>370.861820</td>\n",
       "      <td>272.056628</td>\n",
       "      <td>381.977537</td>\n",
       "      <td>269.432387</td>\n",
       "      <td>356.592570</td>\n",
       "      <td>315.845482</td>\n",
       "      <td>307.368852</td>\n",
       "      <td>303.171993</td>\n",
       "      <td>278.388478</td>\n",
       "      <td>...</td>\n",
       "      <td>309.262588</td>\n",
       "      <td>331.720245</td>\n",
       "      <td>327.165183</td>\n",
       "      <td>304.462896</td>\n",
       "      <td>291.207946</td>\n",
       "      <td>355.862576</td>\n",
       "      <td>338.939618</td>\n",
       "      <td>201.832870</td>\n",
       "      <td>329.852074</td>\n",
       "      <td>286.492162</td>\n",
       "    </tr>\n",
       "    <tr>\n",
       "      <th>3</th>\n",
       "      <td>461.384259</td>\n",
       "      <td>499.917636</td>\n",
       "      <td>436.869029</td>\n",
       "      <td>698.482149</td>\n",
       "      <td>442.326093</td>\n",
       "      <td>513.023542</td>\n",
       "      <td>457.325287</td>\n",
       "      <td>585.188212</td>\n",
       "      <td>514.507164</td>\n",
       "      <td>457.588536</td>\n",
       "      <td>...</td>\n",
       "      <td>471.690602</td>\n",
       "      <td>535.676805</td>\n",
       "      <td>483.823521</td>\n",
       "      <td>503.556074</td>\n",
       "      <td>465.852431</td>\n",
       "      <td>506.526846</td>\n",
       "      <td>560.859911</td>\n",
       "      <td>330.044026</td>\n",
       "      <td>569.994892</td>\n",
       "      <td>482.679264</td>\n",
       "    </tr>\n",
       "    <tr>\n",
       "      <th>4</th>\n",
       "      <td>671.437502</td>\n",
       "      <td>737.822936</td>\n",
       "      <td>606.225424</td>\n",
       "      <td>1207.070234</td>\n",
       "      <td>668.912050</td>\n",
       "      <td>839.671711</td>\n",
       "      <td>714.397653</td>\n",
       "      <td>752.351423</td>\n",
       "      <td>730.858196</td>\n",
       "      <td>802.528022</td>\n",
       "      <td>...</td>\n",
       "      <td>605.466136</td>\n",
       "      <td>710.799452</td>\n",
       "      <td>736.611305</td>\n",
       "      <td>709.557749</td>\n",
       "      <td>788.795134</td>\n",
       "      <td>759.214509</td>\n",
       "      <td>916.934556</td>\n",
       "      <td>532.087600</td>\n",
       "      <td>882.445977</td>\n",
       "      <td>893.082930</td>\n",
       "    </tr>\n",
       "  </tbody>\n",
       "</table>\n",
       "<p>5 rows × 1000 columns</p>\n",
       "</div>"
      ],
      "text/plain": [
       "          0           1           2            3           4           5    \\\n",
       "0  117.717188  143.097231  118.235744   135.135318  126.194550  137.047296   \n",
       "1  191.205409  232.773777  184.246566   222.152707  175.887488  216.210677   \n",
       "2  318.054871  370.861820  272.056628   381.977537  269.432387  356.592570   \n",
       "3  461.384259  499.917636  436.869029   698.482149  442.326093  513.023542   \n",
       "4  671.437502  737.822936  606.225424  1207.070234  668.912050  839.671711   \n",
       "\n",
       "          6           7           8           9    ...         990  \\\n",
       "0  126.018377  127.739134  116.292059  126.468808  ...  113.505502   \n",
       "1  209.281886  196.867546  173.788842  173.857693  ...  194.846142   \n",
       "2  315.845482  307.368852  303.171993  278.388478  ...  309.262588   \n",
       "3  457.325287  585.188212  514.507164  457.588536  ...  471.690602   \n",
       "4  714.397653  752.351423  730.858196  802.528022  ...  605.466136   \n",
       "\n",
       "          991         992         993         994         995         996  \\\n",
       "0  130.594946  126.474580  127.829901  121.897078  112.261558  118.412699   \n",
       "1  220.941606  208.312597  206.483544  196.920324  203.391493  217.052642   \n",
       "2  331.720245  327.165183  304.462896  291.207946  355.862576  338.939618   \n",
       "3  535.676805  483.823521  503.556074  465.852431  506.526846  560.859911   \n",
       "4  710.799452  736.611305  709.557749  788.795134  759.214509  916.934556   \n",
       "\n",
       "          997         998         999  \n",
       "0  106.265099  125.332175  143.117538  \n",
       "1  144.492380  219.135688  209.172213  \n",
       "2  201.832870  329.852074  286.492162  \n",
       "3  330.044026  569.994892  482.679264  \n",
       "4  532.087600  882.445977  893.082930  \n",
       "\n",
       "[5 rows x 1000 columns]"
      ]
     },
     "execution_count": 13,
     "metadata": {},
     "output_type": "execute_result"
    }
   ],
   "source": [
    "# 5 years projection(rows) 1000 simulations (columns)\n",
    "simulation_df_sc1"
   ]
  },
  {
   "cell_type": "code",
   "execution_count": 14,
   "metadata": {},
   "outputs": [
    {
     "data": {
      "image/png": "[encoded data removed]",
      "text/plain": [
       "<Figure size 432x288 with 1 Axes>"
      ]
     },
     "metadata": {
      "needs_background": "light"
     },
     "output_type": "display_data"
    }
   ],
   "source": [
    "createPlot(simulation_df_sc1)"
   ]
  },
  {
   "cell_type": "markdown",
   "metadata": {},
   "source": [
    "# Scenario_2 - Covid did Happen - VShaped Recession"
   ]
  },
  {
   "cell_type": "markdown",
   "metadata": {},
   "source": [
    "The second scenario assumes a major recession in UK economy in 2020, a sharp recovery in 2021 and steady growth thereafter. The GDP growth and inflation forecasts for 2020 and 2021 were obtained from the September PWC UK Economic Update. The GDP growth and inflation for 2022, 2023 and 2024 is assumed to be equal to the average of the last 5 years which signals a return to normality in the medium to long term. The following assumption are used:\n",
    "\n",
    "* GDP Growth follows a normal distribution with mean equal to 0.8% and a standard deviation equal to 7.6% (based on 5 years forecasted Vshaped GDP growth). \n",
    "* Inflation follows a normal distribution with mean 1.3% and standard deviation of 0.4% (based on 5 years forecasted Vshaped inflation).\n",
    "* EBITDA as a percentage of revenues is always the same and equal to 31.52% (average EBITDA of fever-tree the last 7 years).\n",
    "* Inflation and GDP are independent variables e.g. changes in inflation does not affect GDP and vice versa."
   ]
  },
  {
   "cell_type": "code",
   "execution_count": 15,
   "metadata": {},
   "outputs": [],
   "source": [
    "# standard deviation of gdp growth and inflation\n",
    "gdp_std = df_fct['%gdp_growth_fct_vs'].std()\n",
    "inf_std = df_fct['%inflation_fct_vs'].std()\n",
    "#mean of gdp and inflation\n",
    "gdp_mean = df_fct['%gdp_growth_fct_vs'].mean()\n",
    "inf_mean = df_fct['%inflation_fct_vs'].mean()\n",
    "#last reported revenue in millions \n",
    "last_revenue  = 260.5\n",
    "#EBITDA as % of revenue\n",
    "ebitda_pct = 0.3152\n",
    "#last EBITDA\n",
    "last_ebitda = 77.00"
   ]
  },
  {
   "cell_type": "code",
   "execution_count": 16,
   "metadata": {},
   "outputs": [],
   "source": [
    "simulation_df_sc2 = monteCarloDataframe(num_simulations,num_years,gdp_mean,gdp_std,inf_mean,inf_std,gdp_coef,inf_coef,last_revenue,ebitda_pct)"
   ]
  },
  {
   "cell_type": "code",
   "execution_count": 17,
   "metadata": {},
   "outputs": [
    {
     "data": {
      "text/html": [
       "<div>\n",
       "<style scoped>\n",
       "    .dataframe tbody tr th:only-of-type {\n",
       "        vertical-align: middle;\n",
       "    }\n",
       "\n",
       "    .dataframe tbody tr th {\n",
       "        vertical-align: top;\n",
       "    }\n",
       "\n",
       "    .dataframe thead th {\n",
       "        text-align: right;\n",
       "    }\n",
       "</style>\n",
       "<table border=\"1\" class=\"dataframe\">\n",
       "  <thead>\n",
       "    <tr style=\"text-align: right;\">\n",
       "      <th></th>\n",
       "      <th>0</th>\n",
       "      <th>1</th>\n",
       "      <th>2</th>\n",
       "      <th>3</th>\n",
       "      <th>4</th>\n",
       "      <th>5</th>\n",
       "      <th>6</th>\n",
       "      <th>7</th>\n",
       "      <th>8</th>\n",
       "      <th>9</th>\n",
       "      <th>...</th>\n",
       "      <th>990</th>\n",
       "      <th>991</th>\n",
       "      <th>992</th>\n",
       "      <th>993</th>\n",
       "      <th>994</th>\n",
       "      <th>995</th>\n",
       "      <th>996</th>\n",
       "      <th>997</th>\n",
       "      <th>998</th>\n",
       "      <th>999</th>\n",
       "    </tr>\n",
       "  </thead>\n",
       "  <tbody>\n",
       "    <tr>\n",
       "      <th>0</th>\n",
       "      <td>119.842314</td>\n",
       "      <td>193.763807</td>\n",
       "      <td>225.815567</td>\n",
       "      <td>84.168244</td>\n",
       "      <td>-112.388368</td>\n",
       "      <td>71.475792</td>\n",
       "      <td>179.151804</td>\n",
       "      <td>-155.485294</td>\n",
       "      <td>-21.290015</td>\n",
       "      <td>197.512141</td>\n",
       "      <td>...</td>\n",
       "      <td>102.274774</td>\n",
       "      <td>272.299963</td>\n",
       "      <td>-72.846208</td>\n",
       "      <td>266.608455</td>\n",
       "      <td>-4.253919</td>\n",
       "      <td>34.141393</td>\n",
       "      <td>191.596885</td>\n",
       "      <td>-228.768825</td>\n",
       "      <td>76.700071</td>\n",
       "      <td>-180.613942</td>\n",
       "    </tr>\n",
       "    <tr>\n",
       "      <th>1</th>\n",
       "      <td>154.787662</td>\n",
       "      <td>106.703927</td>\n",
       "      <td>590.719533</td>\n",
       "      <td>276.969930</td>\n",
       "      <td>11.731892</td>\n",
       "      <td>308.035779</td>\n",
       "      <td>797.844144</td>\n",
       "      <td>-391.748628</td>\n",
       "      <td>103.708820</td>\n",
       "      <td>49.890990</td>\n",
       "      <td>...</td>\n",
       "      <td>111.043373</td>\n",
       "      <td>103.875346</td>\n",
       "      <td>-42.773479</td>\n",
       "      <td>567.998824</td>\n",
       "      <td>-5.777904</td>\n",
       "      <td>54.087560</td>\n",
       "      <td>-386.486444</td>\n",
       "      <td>-120.843061</td>\n",
       "      <td>121.126304</td>\n",
       "      <td>169.620744</td>\n",
       "    </tr>\n",
       "    <tr>\n",
       "      <th>2</th>\n",
       "      <td>206.918436</td>\n",
       "      <td>13.501353</td>\n",
       "      <td>-835.444265</td>\n",
       "      <td>1279.726938</td>\n",
       "      <td>18.730268</td>\n",
       "      <td>189.464541</td>\n",
       "      <td>681.869449</td>\n",
       "      <td>-982.803244</td>\n",
       "      <td>-83.055805</td>\n",
       "      <td>157.307699</td>\n",
       "      <td>...</td>\n",
       "      <td>440.972865</td>\n",
       "      <td>169.929545</td>\n",
       "      <td>-58.385113</td>\n",
       "      <td>-831.787922</td>\n",
       "      <td>3.213974</td>\n",
       "      <td>91.790870</td>\n",
       "      <td>-217.668200</td>\n",
       "      <td>27.319641</td>\n",
       "      <td>-59.910976</td>\n",
       "      <td>-1.437612</td>\n",
       "    </tr>\n",
       "    <tr>\n",
       "      <th>3</th>\n",
       "      <td>1067.481999</td>\n",
       "      <td>3.273822</td>\n",
       "      <td>-1258.218329</td>\n",
       "      <td>-852.032645</td>\n",
       "      <td>39.436879</td>\n",
       "      <td>-647.505445</td>\n",
       "      <td>942.748536</td>\n",
       "      <td>-1362.685653</td>\n",
       "      <td>-143.451532</td>\n",
       "      <td>134.691477</td>\n",
       "      <td>...</td>\n",
       "      <td>1740.036000</td>\n",
       "      <td>523.064103</td>\n",
       "      <td>-47.583299</td>\n",
       "      <td>-1691.432317</td>\n",
       "      <td>13.490670</td>\n",
       "      <td>262.956702</td>\n",
       "      <td>450.930237</td>\n",
       "      <td>-22.465462</td>\n",
       "      <td>-42.109122</td>\n",
       "      <td>-1.212371</td>\n",
       "    </tr>\n",
       "    <tr>\n",
       "      <th>4</th>\n",
       "      <td>2044.435803</td>\n",
       "      <td>6.653562</td>\n",
       "      <td>-2767.804848</td>\n",
       "      <td>-765.847161</td>\n",
       "      <td>134.654732</td>\n",
       "      <td>-759.181107</td>\n",
       "      <td>-156.757965</td>\n",
       "      <td>752.775116</td>\n",
       "      <td>-165.681095</td>\n",
       "      <td>60.261999</td>\n",
       "      <td>...</td>\n",
       "      <td>-709.316776</td>\n",
       "      <td>1676.961067</td>\n",
       "      <td>-52.467355</td>\n",
       "      <td>152.144403</td>\n",
       "      <td>22.674559</td>\n",
       "      <td>470.475473</td>\n",
       "      <td>973.494969</td>\n",
       "      <td>-22.145109</td>\n",
       "      <td>-120.932149</td>\n",
       "      <td>-0.435498</td>\n",
       "    </tr>\n",
       "  </tbody>\n",
       "</table>\n",
       "<p>5 rows × 1000 columns</p>\n",
       "</div>"
      ],
      "text/plain": [
       "           0           1            2            3           4           5    \\\n",
       "0   119.842314  193.763807   225.815567    84.168244 -112.388368   71.475792   \n",
       "1   154.787662  106.703927   590.719533   276.969930   11.731892  308.035779   \n",
       "2   206.918436   13.501353  -835.444265  1279.726938   18.730268  189.464541   \n",
       "3  1067.481999    3.273822 -1258.218329  -852.032645   39.436879 -647.505445   \n",
       "4  2044.435803    6.653562 -2767.804848  -765.847161  134.654732 -759.181107   \n",
       "\n",
       "          6            7           8           9    ...          990  \\\n",
       "0  179.151804  -155.485294  -21.290015  197.512141  ...   102.274774   \n",
       "1  797.844144  -391.748628  103.708820   49.890990  ...   111.043373   \n",
       "2  681.869449  -982.803244  -83.055805  157.307699  ...   440.972865   \n",
       "3  942.748536 -1362.685653 -143.451532  134.691477  ...  1740.036000   \n",
       "4 -156.757965   752.775116 -165.681095   60.261999  ...  -709.316776   \n",
       "\n",
       "           991        992          993        994         995         996  \\\n",
       "0   272.299963 -72.846208   266.608455  -4.253919   34.141393  191.596885   \n",
       "1   103.875346 -42.773479   567.998824  -5.777904   54.087560 -386.486444   \n",
       "2   169.929545 -58.385113  -831.787922   3.213974   91.790870 -217.668200   \n",
       "3   523.064103 -47.583299 -1691.432317  13.490670  262.956702  450.930237   \n",
       "4  1676.961067 -52.467355   152.144403  22.674559  470.475473  973.494969   \n",
       "\n",
       "          997         998         999  \n",
       "0 -228.768825   76.700071 -180.613942  \n",
       "1 -120.843061  121.126304  169.620744  \n",
       "2   27.319641  -59.910976   -1.437612  \n",
       "3  -22.465462  -42.109122   -1.212371  \n",
       "4  -22.145109 -120.932149   -0.435498  \n",
       "\n",
       "[5 rows x 1000 columns]"
      ]
     },
     "execution_count": 17,
     "metadata": {},
     "output_type": "execute_result"
    }
   ],
   "source": [
    "# 5 years projection(rows) 1000 simulations (columns)\n",
    "simulation_df_sc2"
   ]
  },
  {
   "cell_type": "code",
   "execution_count": 18,
   "metadata": {},
   "outputs": [
    {
     "data": {
      "image/png": "[encoded data removed]",
      "text/plain": [
       "<Figure size 432x288 with 1 Axes>"
      ]
     },
     "metadata": {
      "needs_background": "light"
     },
     "output_type": "display_data"
    }
   ],
   "source": [
    "createPlot(simulation_df_sc2)"
   ]
  },
  {
   "cell_type": "markdown",
   "metadata": {},
   "source": [
    "# Scenario_3 - Covid did Happen - LShaped Recession"
   ]
  },
  {
   "cell_type": "markdown",
   "metadata": {},
   "source": [
    "The third scenario assumes a major recession in UK economy in 2020 and gradual recovery from 2021 onwards. The GDP growth and inflation forecasts for 2020 and 2021 were obtained from the September PWC UK Economic Update. I assumed a GDP growth and inflation for 2022, 2023 and 2024 will equal to the average of the last 5 years which signals a return to normality in the medium to long term. The following assumption are used:\n",
    "\n",
    "* GDP Growth follows a normal distribution with mean equal to -0.53% and a standard deviation equal to 6.4% (based on 5 years forecasted Lshaped GDP growth). \n",
    "* Inflation follows a normal distribution with mean 1.3% and standard deviation of 0.48% (based on 5 years forecasted Lshaped inflation).\n",
    "* EBITDA as a percentage of revenues is always the same and equal to 31.52% (average EBITDA of fever-tree the last 7 years).\n",
    "* Inflation and GDP are independent variables e.g. changes in inflation does not affect GDP and vice versa."
   ]
  },
  {
   "cell_type": "code",
   "execution_count": 19,
   "metadata": {},
   "outputs": [],
   "source": [
    "# standard deviation of gdp growth and inflation\n",
    "gdp_std = df_fct['%gdp_growth_fct_ls'].std()\n",
    "inf_std = df_fct['%inflation_fct_ls'].std()\n",
    "#mean of gdp and inflation\n",
    "gdp_mean = df_fct['%gdp_growth_fct_ls'].mean()\n",
    "inf_mean = df_fct['%inflation_fct_ls'].mean()\n",
    "#last reported revenue in millions \n",
    "last_revenue  = 260.5\n",
    "#EBITDA as % of revenue\n",
    "ebitda_pct = 0.3152\n",
    "#last EBITDA\n",
    "last_ebitda = 77.00"
   ]
  },
  {
   "cell_type": "code",
   "execution_count": 20,
   "metadata": {},
   "outputs": [
    {
     "data": {
      "text/plain": [
       "0.004889989775040435"
      ]
     },
     "execution_count": 20,
     "metadata": {},
     "output_type": "execute_result"
    }
   ],
   "source": [
    "inf_std"
   ]
  },
  {
   "cell_type": "code",
   "execution_count": 21,
   "metadata": {},
   "outputs": [],
   "source": [
    "simulation_df_sc3 = monteCarloDataframe(num_simulations,num_years,gdp_mean,gdp_std,inf_mean,inf_std,gdp_coef,inf_coef,last_revenue,ebitda_pct)"
   ]
  },
  {
   "cell_type": "code",
   "execution_count": 22,
   "metadata": {},
   "outputs": [
    {
     "data": {
      "text/html": [
       "<div>\n",
       "<style scoped>\n",
       "    .dataframe tbody tr th:only-of-type {\n",
       "        vertical-align: middle;\n",
       "    }\n",
       "\n",
       "    .dataframe tbody tr th {\n",
       "        vertical-align: top;\n",
       "    }\n",
       "\n",
       "    .dataframe thead th {\n",
       "        text-align: right;\n",
       "    }\n",
       "</style>\n",
       "<table border=\"1\" class=\"dataframe\">\n",
       "  <thead>\n",
       "    <tr style=\"text-align: right;\">\n",
       "      <th></th>\n",
       "      <th>0</th>\n",
       "      <th>1</th>\n",
       "      <th>2</th>\n",
       "      <th>3</th>\n",
       "      <th>4</th>\n",
       "      <th>5</th>\n",
       "      <th>6</th>\n",
       "      <th>7</th>\n",
       "      <th>8</th>\n",
       "      <th>9</th>\n",
       "      <th>...</th>\n",
       "      <th>990</th>\n",
       "      <th>991</th>\n",
       "      <th>992</th>\n",
       "      <th>993</th>\n",
       "      <th>994</th>\n",
       "      <th>995</th>\n",
       "      <th>996</th>\n",
       "      <th>997</th>\n",
       "      <th>998</th>\n",
       "      <th>999</th>\n",
       "    </tr>\n",
       "  </thead>\n",
       "  <tbody>\n",
       "    <tr>\n",
       "      <th>0</th>\n",
       "      <td>55.319611</td>\n",
       "      <td>2.844270</td>\n",
       "      <td>-110.020151</td>\n",
       "      <td>-78.747477</td>\n",
       "      <td>206.381531</td>\n",
       "      <td>-37.053287</td>\n",
       "      <td>42.037727</td>\n",
       "      <td>75.533011</td>\n",
       "      <td>57.711221</td>\n",
       "      <td>211.429641</td>\n",
       "      <td>...</td>\n",
       "      <td>433.437548</td>\n",
       "      <td>-28.889286</td>\n",
       "      <td>85.604774</td>\n",
       "      <td>11.588011</td>\n",
       "      <td>84.310755</td>\n",
       "      <td>169.113141</td>\n",
       "      <td>120.436343</td>\n",
       "      <td>-99.690020</td>\n",
       "      <td>-66.182917</td>\n",
       "      <td>341.262103</td>\n",
       "    </tr>\n",
       "    <tr>\n",
       "      <th>1</th>\n",
       "      <td>26.456964</td>\n",
       "      <td>0.887934</td>\n",
       "      <td>-142.735821</td>\n",
       "      <td>-262.333597</td>\n",
       "      <td>283.163715</td>\n",
       "      <td>-3.886995</td>\n",
       "      <td>-64.326617</td>\n",
       "      <td>271.295492</td>\n",
       "      <td>-82.982896</td>\n",
       "      <td>-432.194843</td>\n",
       "      <td>...</td>\n",
       "      <td>1630.127937</td>\n",
       "      <td>-22.345722</td>\n",
       "      <td>-134.813091</td>\n",
       "      <td>25.050263</td>\n",
       "      <td>30.429038</td>\n",
       "      <td>398.091128</td>\n",
       "      <td>213.954254</td>\n",
       "      <td>-63.946940</td>\n",
       "      <td>39.992318</td>\n",
       "      <td>550.378562</td>\n",
       "    </tr>\n",
       "    <tr>\n",
       "      <th>2</th>\n",
       "      <td>53.284408</td>\n",
       "      <td>0.456029</td>\n",
       "      <td>-216.935493</td>\n",
       "      <td>164.419576</td>\n",
       "      <td>613.734759</td>\n",
       "      <td>-3.069705</td>\n",
       "      <td>-76.648971</td>\n",
       "      <td>-253.275824</td>\n",
       "      <td>-298.701420</td>\n",
       "      <td>-1304.932808</td>\n",
       "      <td>...</td>\n",
       "      <td>-399.024478</td>\n",
       "      <td>6.611069</td>\n",
       "      <td>-237.112286</td>\n",
       "      <td>-26.896170</td>\n",
       "      <td>-29.262058</td>\n",
       "      <td>246.367899</td>\n",
       "      <td>761.230137</td>\n",
       "      <td>-19.338808</td>\n",
       "      <td>-14.554527</td>\n",
       "      <td>354.392782</td>\n",
       "    </tr>\n",
       "    <tr>\n",
       "      <th>3</th>\n",
       "      <td>90.167440</td>\n",
       "      <td>-0.282235</td>\n",
       "      <td>-592.107566</td>\n",
       "      <td>-66.749487</td>\n",
       "      <td>-351.856512</td>\n",
       "      <td>-2.057497</td>\n",
       "      <td>15.862599</td>\n",
       "      <td>-53.496976</td>\n",
       "      <td>-86.909262</td>\n",
       "      <td>-2219.030559</td>\n",
       "      <td>...</td>\n",
       "      <td>-341.330618</td>\n",
       "      <td>5.890011</td>\n",
       "      <td>-217.202722</td>\n",
       "      <td>-22.699580</td>\n",
       "      <td>14.812773</td>\n",
       "      <td>319.055808</td>\n",
       "      <td>460.220294</td>\n",
       "      <td>-11.020503</td>\n",
       "      <td>28.862385</td>\n",
       "      <td>1136.115456</td>\n",
       "    </tr>\n",
       "    <tr>\n",
       "      <th>4</th>\n",
       "      <td>290.447776</td>\n",
       "      <td>0.124381</td>\n",
       "      <td>-1292.978062</td>\n",
       "      <td>85.148362</td>\n",
       "      <td>-851.967315</td>\n",
       "      <td>-0.895487</td>\n",
       "      <td>44.363353</td>\n",
       "      <td>-53.433030</td>\n",
       "      <td>-18.541135</td>\n",
       "      <td>-3919.094425</td>\n",
       "      <td>...</td>\n",
       "      <td>-437.775810</td>\n",
       "      <td>18.020331</td>\n",
       "      <td>-206.084156</td>\n",
       "      <td>-11.314000</td>\n",
       "      <td>-5.967222</td>\n",
       "      <td>180.030712</td>\n",
       "      <td>1273.714473</td>\n",
       "      <td>-17.387393</td>\n",
       "      <td>53.521585</td>\n",
       "      <td>-2000.614035</td>\n",
       "    </tr>\n",
       "  </tbody>\n",
       "</table>\n",
       "<p>5 rows × 1000 columns</p>\n",
       "</div>"
      ],
      "text/plain": [
       "          0         1            2           3           4          5    \\\n",
       "0   55.319611  2.844270  -110.020151  -78.747477  206.381531 -37.053287   \n",
       "1   26.456964  0.887934  -142.735821 -262.333597  283.163715  -3.886995   \n",
       "2   53.284408  0.456029  -216.935493  164.419576  613.734759  -3.069705   \n",
       "3   90.167440 -0.282235  -592.107566  -66.749487 -351.856512  -2.057497   \n",
       "4  290.447776  0.124381 -1292.978062   85.148362 -851.967315  -0.895487   \n",
       "\n",
       "         6           7           8            9    ...          990  \\\n",
       "0  42.037727   75.533011   57.711221   211.429641  ...   433.437548   \n",
       "1 -64.326617  271.295492  -82.982896  -432.194843  ...  1630.127937   \n",
       "2 -76.648971 -253.275824 -298.701420 -1304.932808  ...  -399.024478   \n",
       "3  15.862599  -53.496976  -86.909262 -2219.030559  ...  -341.330618   \n",
       "4  44.363353  -53.433030  -18.541135 -3919.094425  ...  -437.775810   \n",
       "\n",
       "         991         992        993        994         995          996  \\\n",
       "0 -28.889286   85.604774  11.588011  84.310755  169.113141   120.436343   \n",
       "1 -22.345722 -134.813091  25.050263  30.429038  398.091128   213.954254   \n",
       "2   6.611069 -237.112286 -26.896170 -29.262058  246.367899   761.230137   \n",
       "3   5.890011 -217.202722 -22.699580  14.812773  319.055808   460.220294   \n",
       "4  18.020331 -206.084156 -11.314000  -5.967222  180.030712  1273.714473   \n",
       "\n",
       "         997        998          999  \n",
       "0 -99.690020 -66.182917   341.262103  \n",
       "1 -63.946940  39.992318   550.378562  \n",
       "2 -19.338808 -14.554527   354.392782  \n",
       "3 -11.020503  28.862385  1136.115456  \n",
       "4 -17.387393  53.521585 -2000.614035  \n",
       "\n",
       "[5 rows x 1000 columns]"
      ]
     },
     "execution_count": 22,
     "metadata": {},
     "output_type": "execute_result"
    }
   ],
   "source": [
    "# 5 years projection(rows) 1000 simulations (columns)\n",
    "simulation_df_sc3"
   ]
  },
  {
   "cell_type": "code",
   "execution_count": 23,
   "metadata": {},
   "outputs": [
    {
     "data": {
      "image/png": "[encoded data removed]",
      "text/plain": [
       "<Figure size 432x288 with 1 Axes>"
      ]
     },
     "metadata": {
      "needs_background": "light"
     },
     "output_type": "display_data"
    }
   ],
   "source": [
    "createPlot(simulation_df_sc3)"
   ]
  },
  {
   "cell_type": "markdown",
   "metadata": {},
   "source": [
    "# Scenario_4 - Covid did Happen - LShaped Recession - Major Fixed costs"
   ]
  },
  {
   "cell_type": "markdown",
   "metadata": {},
   "source": [
    "The forth scenario makes the same assumptions as scenario_3 in terms of gdp growth and inflation but this time it assumes that fever-tree has major fixed costs associated with cost of sales and as a result EBITDA as a % of sales is lower. The following assumption are used:\n",
    "\n",
    "* GDP Growth follows a normal distribution with mean equal to -0.53% and a standard deviation equal to 6.4% (based on 5 years forecasted Lshaped GDP growth). \n",
    "* Inflation follows a normal distribution with mean 1.3% and standard deviation of 0.48% (based on 5 years forecasted Lshaped inflation)\n",
    "* EBITDA as a percentage of revenues is always the same and equal to 20.00%.\n",
    "* Inflation and GDP are independent variables e.g. changes in inflation does not affect GDP and vice versa."
   ]
  },
  {
   "cell_type": "code",
   "execution_count": 24,
   "metadata": {},
   "outputs": [],
   "source": [
    "# standard deviation of gdp growth and inflation\n",
    "gdp_std = df_fct['%gdp_growth_fct_ls'].std()\n",
    "inf_std = df_fct['%inflation_fct_ls'].std()\n",
    "#mean of gdp and inflation\n",
    "gdp_mean = df_fct['%gdp_growth_fct_ls'].mean()\n",
    "inf_mean = df_fct['%inflation_fct_ls'].mean()\n",
    "#last reported revenue in millions \n",
    "last_revenue  = 260.5\n",
    "#EBITDA as % of revenue\n",
    "ebitda_pct = 0.20\n",
    "#last EBITDA\n",
    "last_ebitda = 77.00"
   ]
  },
  {
   "cell_type": "code",
   "execution_count": 25,
   "metadata": {},
   "outputs": [],
   "source": [
    "simulation_df_sc4 = monteCarloDataframe(num_simulations,num_years,gdp_mean,gdp_std,inf_mean,inf_std,gdp_coef,inf_coef,last_revenue,ebitda_pct)"
   ]
  },
  {
   "cell_type": "code",
   "execution_count": 26,
   "metadata": {},
   "outputs": [
    {
     "data": {
      "text/html": [
       "<div>\n",
       "<style scoped>\n",
       "    .dataframe tbody tr th:only-of-type {\n",
       "        vertical-align: middle;\n",
       "    }\n",
       "\n",
       "    .dataframe tbody tr th {\n",
       "        vertical-align: top;\n",
       "    }\n",
       "\n",
       "    .dataframe thead th {\n",
       "        text-align: right;\n",
       "    }\n",
       "</style>\n",
       "<table border=\"1\" class=\"dataframe\">\n",
       "  <thead>\n",
       "    <tr style=\"text-align: right;\">\n",
       "      <th></th>\n",
       "      <th>0</th>\n",
       "      <th>1</th>\n",
       "      <th>2</th>\n",
       "      <th>3</th>\n",
       "      <th>4</th>\n",
       "      <th>5</th>\n",
       "      <th>6</th>\n",
       "      <th>7</th>\n",
       "      <th>8</th>\n",
       "      <th>9</th>\n",
       "      <th>...</th>\n",
       "      <th>990</th>\n",
       "      <th>991</th>\n",
       "      <th>992</th>\n",
       "      <th>993</th>\n",
       "      <th>994</th>\n",
       "      <th>995</th>\n",
       "      <th>996</th>\n",
       "      <th>997</th>\n",
       "      <th>998</th>\n",
       "      <th>999</th>\n",
       "    </tr>\n",
       "  </thead>\n",
       "  <tbody>\n",
       "    <tr>\n",
       "      <th>0</th>\n",
       "      <td>-10.933048</td>\n",
       "      <td>63.566549</td>\n",
       "      <td>98.700661</td>\n",
       "      <td>161.673080</td>\n",
       "      <td>81.960490</td>\n",
       "      <td>47.212677</td>\n",
       "      <td>105.949407</td>\n",
       "      <td>34.994052</td>\n",
       "      <td>-68.938336</td>\n",
       "      <td>99.228186</td>\n",
       "      <td>...</td>\n",
       "      <td>179.387824</td>\n",
       "      <td>34.083536</td>\n",
       "      <td>-50.989054</td>\n",
       "      <td>-107.381149</td>\n",
       "      <td>104.429931</td>\n",
       "      <td>-43.636966</td>\n",
       "      <td>72.541674</td>\n",
       "      <td>-35.276799</td>\n",
       "      <td>110.136494</td>\n",
       "      <td>121.508340</td>\n",
       "    </tr>\n",
       "    <tr>\n",
       "      <th>1</th>\n",
       "      <td>19.677997</td>\n",
       "      <td>77.035215</td>\n",
       "      <td>38.288816</td>\n",
       "      <td>136.756906</td>\n",
       "      <td>155.060095</td>\n",
       "      <td>100.992944</td>\n",
       "      <td>164.886771</td>\n",
       "      <td>32.763403</td>\n",
       "      <td>-186.452904</td>\n",
       "      <td>59.103062</td>\n",
       "      <td>...</td>\n",
       "      <td>222.715550</td>\n",
       "      <td>68.563771</td>\n",
       "      <td>39.785948</td>\n",
       "      <td>247.259927</td>\n",
       "      <td>246.660774</td>\n",
       "      <td>-54.915368</td>\n",
       "      <td>100.632491</td>\n",
       "      <td>-42.411417</td>\n",
       "      <td>33.804502</td>\n",
       "      <td>84.010384</td>\n",
       "    </tr>\n",
       "    <tr>\n",
       "      <th>2</th>\n",
       "      <td>18.349561</td>\n",
       "      <td>119.246928</td>\n",
       "      <td>82.021814</td>\n",
       "      <td>209.342883</td>\n",
       "      <td>182.785877</td>\n",
       "      <td>561.405896</td>\n",
       "      <td>-192.811452</td>\n",
       "      <td>26.875476</td>\n",
       "      <td>-660.302833</td>\n",
       "      <td>29.047269</td>\n",
       "      <td>...</td>\n",
       "      <td>257.740392</td>\n",
       "      <td>122.744095</td>\n",
       "      <td>92.517667</td>\n",
       "      <td>553.774154</td>\n",
       "      <td>728.467780</td>\n",
       "      <td>-38.963969</td>\n",
       "      <td>127.293263</td>\n",
       "      <td>-85.139777</td>\n",
       "      <td>73.390845</td>\n",
       "      <td>-81.279243</td>\n",
       "    </tr>\n",
       "    <tr>\n",
       "      <th>3</th>\n",
       "      <td>-2.602086</td>\n",
       "      <td>265.161815</td>\n",
       "      <td>-18.417277</td>\n",
       "      <td>195.791998</td>\n",
       "      <td>148.459470</td>\n",
       "      <td>106.821980</td>\n",
       "      <td>-306.731599</td>\n",
       "      <td>43.390062</td>\n",
       "      <td>-1098.854358</td>\n",
       "      <td>68.803326</td>\n",
       "      <td>...</td>\n",
       "      <td>-29.649859</td>\n",
       "      <td>97.808771</td>\n",
       "      <td>-112.426598</td>\n",
       "      <td>-532.891118</td>\n",
       "      <td>1184.834048</td>\n",
       "      <td>-53.667028</td>\n",
       "      <td>352.400995</td>\n",
       "      <td>14.854697</td>\n",
       "      <td>93.241177</td>\n",
       "      <td>-188.539952</td>\n",
       "    </tr>\n",
       "    <tr>\n",
       "      <th>4</th>\n",
       "      <td>-3.093612</td>\n",
       "      <td>332.398634</td>\n",
       "      <td>-25.845798</td>\n",
       "      <td>208.276461</td>\n",
       "      <td>-17.619740</td>\n",
       "      <td>420.898600</td>\n",
       "      <td>-322.386508</td>\n",
       "      <td>-42.192936</td>\n",
       "      <td>175.710286</td>\n",
       "      <td>179.166992</td>\n",
       "      <td>...</td>\n",
       "      <td>-69.309021</td>\n",
       "      <td>-116.647992</td>\n",
       "      <td>-482.863407</td>\n",
       "      <td>-887.633716</td>\n",
       "      <td>1509.618944</td>\n",
       "      <td>33.295192</td>\n",
       "      <td>26.072958</td>\n",
       "      <td>26.737046</td>\n",
       "      <td>3.982985</td>\n",
       "      <td>256.517275</td>\n",
       "    </tr>\n",
       "  </tbody>\n",
       "</table>\n",
       "<p>5 rows × 1000 columns</p>\n",
       "</div>"
      ],
      "text/plain": [
       "         0           1          2           3           4           5    \\\n",
       "0 -10.933048   63.566549  98.700661  161.673080   81.960490   47.212677   \n",
       "1  19.677997   77.035215  38.288816  136.756906  155.060095  100.992944   \n",
       "2  18.349561  119.246928  82.021814  209.342883  182.785877  561.405896   \n",
       "3  -2.602086  265.161815 -18.417277  195.791998  148.459470  106.821980   \n",
       "4  -3.093612  332.398634 -25.845798  208.276461  -17.619740  420.898600   \n",
       "\n",
       "          6          7            8           9    ...         990  \\\n",
       "0  105.949407  34.994052   -68.938336   99.228186  ...  179.387824   \n",
       "1  164.886771  32.763403  -186.452904   59.103062  ...  222.715550   \n",
       "2 -192.811452  26.875476  -660.302833   29.047269  ...  257.740392   \n",
       "3 -306.731599  43.390062 -1098.854358   68.803326  ...  -29.649859   \n",
       "4 -322.386508 -42.192936   175.710286  179.166992  ...  -69.309021   \n",
       "\n",
       "          991         992         993          994        995         996  \\\n",
       "0   34.083536  -50.989054 -107.381149   104.429931 -43.636966   72.541674   \n",
       "1   68.563771   39.785948  247.259927   246.660774 -54.915368  100.632491   \n",
       "2  122.744095   92.517667  553.774154   728.467780 -38.963969  127.293263   \n",
       "3   97.808771 -112.426598 -532.891118  1184.834048 -53.667028  352.400995   \n",
       "4 -116.647992 -482.863407 -887.633716  1509.618944  33.295192   26.072958   \n",
       "\n",
       "         997         998         999  \n",
       "0 -35.276799  110.136494  121.508340  \n",
       "1 -42.411417   33.804502   84.010384  \n",
       "2 -85.139777   73.390845  -81.279243  \n",
       "3  14.854697   93.241177 -188.539952  \n",
       "4  26.737046    3.982985  256.517275  \n",
       "\n",
       "[5 rows x 1000 columns]"
      ]
     },
     "execution_count": 26,
     "metadata": {},
     "output_type": "execute_result"
    }
   ],
   "source": [
    "# 5 years projection(rows) 1000 simulations (columns)\n",
    "simulation_df_sc4"
   ]
  },
  {
   "cell_type": "code",
   "execution_count": 27,
   "metadata": {},
   "outputs": [
    {
     "data": {
      "image/png": "[encoded data removed]",
      "text/plain": [
       "<Figure size 432x288 with 1 Axes>"
      ]
     },
     "metadata": {
      "needs_background": "light"
     },
     "output_type": "display_data"
    }
   ],
   "source": [
    "createPlot(simulation_df_sc4)"
   ]
  },
  {
   "cell_type": "markdown",
   "metadata": {},
   "source": [
    "# Scenario_5 - Covid did Happen - VShaped Recession - Major Fixed costs"
   ]
  },
  {
   "cell_type": "markdown",
   "metadata": {},
   "source": [
    "The forth scenario makes the same assumptions as scenario_2 in terms of gdp growth and inflation but this time it assumes that fever-tree has major fixed costs associated with cost of sales and as a result EBITDA as a % of sales is lower. The following assumption are used:\n",
    "\n",
    "* GDP Growth follows a normal distribution with mean equal to 0.8% and a standard deviation equal to 7.6% (based on 5 years forecasted Vshaped GDP growth). \n",
    "* Inflation follows a normal distribution with mean 1.3% and standard deviation of 0.4% (based on 5 years forecasted Vshaped inflation)\n",
    "* EBITDA as a percentage of revenues is always the same and equal to 20.00% (average EBITDA of fever-tree the last 7 years)\n",
    "* Inflation and GDP are independent variables e.g. changes in inflation does not affect GDP and vice versa."
   ]
  },
  {
   "cell_type": "code",
   "execution_count": 28,
   "metadata": {},
   "outputs": [],
   "source": [
    "# standard deviation of gdp growth and inflation\n",
    "gdp_std = df_fct['%gdp_growth_fct_vs'].std()\n",
    "inf_std = df_fct['%inflation_fct_vs'].std()\n",
    "#mean of gdp and inflation\n",
    "gdp_mean = df_fct['%gdp_growth_fct_vs'].mean()\n",
    "inf_mean = df_fct['%inflation_fct_vs'].mean()\n",
    "#last reported revenue in millions \n",
    "last_revenue  = 260.5\n",
    "#EBITDA as % of revenue\n",
    "ebitda_pct = 0.20\n",
    "#last EBITDA\n",
    "last_ebitda = 77.00"
   ]
  },
  {
   "cell_type": "code",
   "execution_count": 29,
   "metadata": {},
   "outputs": [],
   "source": [
    "simulation_df_sc5 = monteCarloDataframe(num_simulations,num_years,gdp_mean,gdp_std,inf_mean,inf_std,gdp_coef,inf_coef,last_revenue,ebitda_pct)"
   ]
  },
  {
   "cell_type": "code",
   "execution_count": 30,
   "metadata": {},
   "outputs": [
    {
     "data": {
      "text/html": [
       "<div>\n",
       "<style scoped>\n",
       "    .dataframe tbody tr th:only-of-type {\n",
       "        vertical-align: middle;\n",
       "    }\n",
       "\n",
       "    .dataframe tbody tr th {\n",
       "        vertical-align: top;\n",
       "    }\n",
       "\n",
       "    .dataframe thead th {\n",
       "        text-align: right;\n",
       "    }\n",
       "</style>\n",
       "<table border=\"1\" class=\"dataframe\">\n",
       "  <thead>\n",
       "    <tr style=\"text-align: right;\">\n",
       "      <th></th>\n",
       "      <th>0</th>\n",
       "      <th>1</th>\n",
       "      <th>2</th>\n",
       "      <th>3</th>\n",
       "      <th>4</th>\n",
       "      <th>5</th>\n",
       "      <th>6</th>\n",
       "      <th>7</th>\n",
       "      <th>8</th>\n",
       "      <th>9</th>\n",
       "      <th>...</th>\n",
       "      <th>990</th>\n",
       "      <th>991</th>\n",
       "      <th>992</th>\n",
       "      <th>993</th>\n",
       "      <th>994</th>\n",
       "      <th>995</th>\n",
       "      <th>996</th>\n",
       "      <th>997</th>\n",
       "      <th>998</th>\n",
       "      <th>999</th>\n",
       "    </tr>\n",
       "  </thead>\n",
       "  <tbody>\n",
       "    <tr>\n",
       "      <th>0</th>\n",
       "      <td>-45.613312</td>\n",
       "      <td>-1.503281</td>\n",
       "      <td>164.779159</td>\n",
       "      <td>-167.141263</td>\n",
       "      <td>109.715746</td>\n",
       "      <td>24.565780</td>\n",
       "      <td>-138.694047</td>\n",
       "      <td>141.208228</td>\n",
       "      <td>98.417962</td>\n",
       "      <td>24.373770</td>\n",
       "      <td>...</td>\n",
       "      <td>31.921887</td>\n",
       "      <td>75.972502</td>\n",
       "      <td>134.122304</td>\n",
       "      <td>70.484661</td>\n",
       "      <td>178.851817</td>\n",
       "      <td>-100.026292</td>\n",
       "      <td>205.256462</td>\n",
       "      <td>-5.240399</td>\n",
       "      <td>71.622838</td>\n",
       "      <td>-61.099827</td>\n",
       "    </tr>\n",
       "    <tr>\n",
       "      <th>1</th>\n",
       "      <td>-12.136556</td>\n",
       "      <td>-0.094867</td>\n",
       "      <td>-298.407770</td>\n",
       "      <td>-352.510547</td>\n",
       "      <td>340.149429</td>\n",
       "      <td>33.871866</td>\n",
       "      <td>-318.923496</td>\n",
       "      <td>-275.114868</td>\n",
       "      <td>32.045545</td>\n",
       "      <td>3.220868</td>\n",
       "      <td>...</td>\n",
       "      <td>228.479567</td>\n",
       "      <td>308.826914</td>\n",
       "      <td>95.583763</td>\n",
       "      <td>41.046806</td>\n",
       "      <td>126.943603</td>\n",
       "      <td>-40.982802</td>\n",
       "      <td>150.966472</td>\n",
       "      <td>-10.255534</td>\n",
       "      <td>199.057653</td>\n",
       "      <td>-76.936463</td>\n",
       "    </tr>\n",
       "    <tr>\n",
       "      <th>2</th>\n",
       "      <td>-31.303889</td>\n",
       "      <td>0.049256</td>\n",
       "      <td>478.904851</td>\n",
       "      <td>359.217782</td>\n",
       "      <td>374.237101</td>\n",
       "      <td>-98.282125</td>\n",
       "      <td>345.305681</td>\n",
       "      <td>443.269671</td>\n",
       "      <td>273.917025</td>\n",
       "      <td>10.929402</td>\n",
       "      <td>...</td>\n",
       "      <td>478.708233</td>\n",
       "      <td>-870.129230</td>\n",
       "      <td>-167.390687</td>\n",
       "      <td>188.844403</td>\n",
       "      <td>146.715552</td>\n",
       "      <td>-26.563606</td>\n",
       "      <td>-193.394023</td>\n",
       "      <td>1.865182</td>\n",
       "      <td>597.525006</td>\n",
       "      <td>102.493200</td>\n",
       "    </tr>\n",
       "    <tr>\n",
       "      <th>3</th>\n",
       "      <td>21.179904</td>\n",
       "      <td>0.137121</td>\n",
       "      <td>1186.566713</td>\n",
       "      <td>734.212027</td>\n",
       "      <td>679.397637</td>\n",
       "      <td>-217.991646</td>\n",
       "      <td>181.490072</td>\n",
       "      <td>319.657468</td>\n",
       "      <td>-118.095253</td>\n",
       "      <td>-2.338081</td>\n",
       "      <td>...</td>\n",
       "      <td>-203.659277</td>\n",
       "      <td>-3609.285265</td>\n",
       "      <td>-329.696290</td>\n",
       "      <td>820.906496</td>\n",
       "      <td>-311.335744</td>\n",
       "      <td>-6.431842</td>\n",
       "      <td>-656.727123</td>\n",
       "      <td>-2.395787</td>\n",
       "      <td>2172.751345</td>\n",
       "      <td>-98.083576</td>\n",
       "    </tr>\n",
       "    <tr>\n",
       "      <th>4</th>\n",
       "      <td>45.812119</td>\n",
       "      <td>0.475281</td>\n",
       "      <td>5981.558274</td>\n",
       "      <td>147.242040</td>\n",
       "      <td>553.202191</td>\n",
       "      <td>-817.601891</td>\n",
       "      <td>-35.641375</td>\n",
       "      <td>320.875869</td>\n",
       "      <td>-201.161882</td>\n",
       "      <td>0.016919</td>\n",
       "      <td>...</td>\n",
       "      <td>-542.549875</td>\n",
       "      <td>-7942.968633</td>\n",
       "      <td>-45.099455</td>\n",
       "      <td>1154.112662</td>\n",
       "      <td>378.563359</td>\n",
       "      <td>1.866372</td>\n",
       "      <td>-367.816987</td>\n",
       "      <td>-12.497328</td>\n",
       "      <td>6480.458399</td>\n",
       "      <td>-243.627282</td>\n",
       "    </tr>\n",
       "  </tbody>\n",
       "</table>\n",
       "<p>5 rows × 1000 columns</p>\n",
       "</div>"
      ],
      "text/plain": [
       "         0         1            2           3           4           5    \\\n",
       "0 -45.613312 -1.503281   164.779159 -167.141263  109.715746   24.565780   \n",
       "1 -12.136556 -0.094867  -298.407770 -352.510547  340.149429   33.871866   \n",
       "2 -31.303889  0.049256   478.904851  359.217782  374.237101  -98.282125   \n",
       "3  21.179904  0.137121  1186.566713  734.212027  679.397637 -217.991646   \n",
       "4  45.812119  0.475281  5981.558274  147.242040  553.202191 -817.601891   \n",
       "\n",
       "          6           7           8          9    ...         990  \\\n",
       "0 -138.694047  141.208228   98.417962  24.373770  ...   31.921887   \n",
       "1 -318.923496 -275.114868   32.045545   3.220868  ...  228.479567   \n",
       "2  345.305681  443.269671  273.917025  10.929402  ...  478.708233   \n",
       "3  181.490072  319.657468 -118.095253  -2.338081  ... -203.659277   \n",
       "4  -35.641375  320.875869 -201.161882   0.016919  ... -542.549875   \n",
       "\n",
       "           991         992          993         994         995         996  \\\n",
       "0    75.972502  134.122304    70.484661  178.851817 -100.026292  205.256462   \n",
       "1   308.826914   95.583763    41.046806  126.943603  -40.982802  150.966472   \n",
       "2  -870.129230 -167.390687   188.844403  146.715552  -26.563606 -193.394023   \n",
       "3 -3609.285265 -329.696290   820.906496 -311.335744   -6.431842 -656.727123   \n",
       "4 -7942.968633  -45.099455  1154.112662  378.563359    1.866372 -367.816987   \n",
       "\n",
       "         997          998         999  \n",
       "0  -5.240399    71.622838  -61.099827  \n",
       "1 -10.255534   199.057653  -76.936463  \n",
       "2   1.865182   597.525006  102.493200  \n",
       "3  -2.395787  2172.751345  -98.083576  \n",
       "4 -12.497328  6480.458399 -243.627282  \n",
       "\n",
       "[5 rows x 1000 columns]"
      ]
     },
     "execution_count": 30,
     "metadata": {},
     "output_type": "execute_result"
    }
   ],
   "source": [
    "# 5 years projection(rows) 1000 simulations (columns)\n",
    "simulation_df_sc5"
   ]
  },
  {
   "cell_type": "code",
   "execution_count": 31,
   "metadata": {},
   "outputs": [
    {
     "data": {
      "image/png": "[encoded data removed]",
      "text/plain": [
       "<Figure size 432x288 with 1 Axes>"
      ]
     },
     "metadata": {
      "needs_background": "light"
     },
     "output_type": "display_data"
    }
   ],
   "source": [
    "createPlot(simulation_df_sc5)"
   ]
  },
  {
   "cell_type": "markdown",
   "metadata": {},
   "source": [
    "# Statistics"
   ]
  },
  {
   "cell_type": "markdown",
   "metadata": {},
   "source": [
    "## Scenario_1  - Year 5"
   ]
  },
  {
   "cell_type": "code",
   "execution_count": 32,
   "metadata": {},
   "outputs": [],
   "source": [
    "simulation_df_sc1_tr = simulation_df_sc1.transpose()\n",
    "simulation_df_sc1_tr.columns = [2020,2021,2022,2023,2024]"
   ]
  },
  {
   "cell_type": "code",
   "execution_count": 33,
   "metadata": {},
   "outputs": [
    {
     "data": {
      "text/plain": [
       "<AxesSubplot:>"
      ]
     },
     "execution_count": 33,
     "metadata": {},
     "output_type": "execute_result"
    },
    {
     "data": {
      "image/png": "[encoded data removed]",
      "text/plain": [
       "<Figure size 432x288 with 1 Axes>"
      ]
     },
     "metadata": {
      "needs_background": "light"
     },
     "output_type": "display_data"
    }
   ],
   "source": [
    "simulation_df_sc1_tr[2024].hist(bins=100)"
   ]
  },
  {
   "cell_type": "code",
   "execution_count": 34,
   "metadata": {},
   "outputs": [
    {
     "data": {
      "text/plain": [
       "count    1000.000000\n",
       "mean      815.785856\n",
       "std       149.315515\n",
       "min       415.413556\n",
       "25%       707.359037\n",
       "50%       803.178275\n",
       "75%       918.953936\n",
       "max      1365.573883\n",
       "Name: 2024, dtype: float64"
      ]
     },
     "execution_count": 34,
     "metadata": {},
     "output_type": "execute_result"
    }
   ],
   "source": [
    "simulation_df_sc1_tr[2024].describe()"
   ]
  },
  {
   "cell_type": "markdown",
   "metadata": {},
   "source": [
    "## Scenario_2  - Year 5"
   ]
  },
  {
   "cell_type": "code",
   "execution_count": 35,
   "metadata": {},
   "outputs": [],
   "source": [
    "simulation_df_sc2_tr = simulation_df_sc2.transpose()\n",
    "simulation_df_sc2_tr.columns = [2020,2021,2022,2023,2024]"
   ]
  },
  {
   "cell_type": "code",
   "execution_count": 36,
   "metadata": {},
   "outputs": [
    {
     "data": {
      "text/plain": [
       "<AxesSubplot:>"
      ]
     },
     "execution_count": 36,
     "metadata": {},
     "output_type": "execute_result"
    },
    {
     "data": {
      "image/png": "[encoded data removed]",
      "text/plain": [
       "<Figure size 432x288 with 1 Axes>"
      ]
     },
     "metadata": {
      "needs_background": "light"
     },
     "output_type": "display_data"
    }
   ],
   "source": [
    "simulation_df_sc2_tr[2024].hist(bins=100)"
   ]
  },
  {
   "cell_type": "code",
   "execution_count": 37,
   "metadata": {},
   "outputs": [
    {
     "data": {
      "text/plain": [
       "count      1000.000000\n",
       "mean        152.452953\n",
       "std        6874.781328\n",
       "min     -105726.962658\n",
       "25%        -255.785340\n",
       "50%           4.465199\n",
       "75%         497.138354\n",
       "max       94274.529013\n",
       "Name: 2024, dtype: float64"
      ]
     },
     "execution_count": 37,
     "metadata": {},
     "output_type": "execute_result"
    }
   ],
   "source": [
    "simulation_df_sc2_tr[2024].describe()"
   ]
  },
  {
   "cell_type": "markdown",
   "metadata": {},
   "source": [
    "## Scenario_3 - Year 5"
   ]
  },
  {
   "cell_type": "code",
   "execution_count": 38,
   "metadata": {},
   "outputs": [],
   "source": [
    "simulation_df_sc3_tr = simulation_df_sc3.transpose()\n",
    "simulation_df_sc3_tr.columns = [2020,2021,2022,2023,2024]"
   ]
  },
  {
   "cell_type": "code",
   "execution_count": 39,
   "metadata": {},
   "outputs": [
    {
     "data": {
      "text/plain": [
       "<AxesSubplot:>"
      ]
     },
     "execution_count": 39,
     "metadata": {},
     "output_type": "execute_result"
    },
    {
     "data": {
      "image/png": "[encoded data removed]",
      "text/plain": [
       "<Figure size 432x288 with 1 Axes>"
      ]
     },
     "metadata": {
      "needs_background": "light"
     },
     "output_type": "display_data"
    }
   ],
   "source": [
    "simulation_df_sc3_tr[2024].hist(bins=100)"
   ]
  },
  {
   "cell_type": "code",
   "execution_count": 40,
   "metadata": {},
   "outputs": [
    {
     "data": {
      "text/plain": [
       "count     1000.000000\n",
       "mean        60.416849\n",
       "std       2124.415462\n",
       "min     -23431.577838\n",
       "25%       -121.457977\n",
       "50%          0.154684\n",
       "75%        138.428309\n",
       "max      37065.261804\n",
       "Name: 2024, dtype: float64"
      ]
     },
     "execution_count": 40,
     "metadata": {},
     "output_type": "execute_result"
    }
   ],
   "source": [
    "simulation_df_sc3_tr[2024].describe()"
   ]
  },
  {
   "cell_type": "markdown",
   "metadata": {},
   "source": [
    "## Scenario_4 - Year 5"
   ]
  },
  {
   "cell_type": "code",
   "execution_count": 41,
   "metadata": {},
   "outputs": [],
   "source": [
    "simulation_df_sc4_tr = simulation_df_sc4.transpose()\n",
    "simulation_df_sc4_tr.columns = [2020,2021,2022,2023,2024]"
   ]
  },
  {
   "cell_type": "code",
   "execution_count": 42,
   "metadata": {},
   "outputs": [
    {
     "data": {
      "text/plain": [
       "<AxesSubplot:>"
      ]
     },
     "execution_count": 42,
     "metadata": {},
     "output_type": "execute_result"
    },
    {
     "data": {
      "image/png": "[encoded data removed]",
      "text/plain": [
       "<Figure size 432x288 with 1 Axes>"
      ]
     },
     "metadata": {
      "needs_background": "light"
     },
     "output_type": "display_data"
    }
   ],
   "source": [
    "simulation_df_sc4_tr[2024].hist(bins=100)"
   ]
  },
  {
   "cell_type": "code",
   "execution_count": 43,
   "metadata": {},
   "outputs": [
    {
     "data": {
      "text/plain": [
       "count     1000.000000\n",
       "mean        69.332979\n",
       "std       1024.788417\n",
       "min      -8335.303708\n",
       "25%        -48.442991\n",
       "50%          1.223766\n",
       "75%         82.275759\n",
       "max      11011.720335\n",
       "Name: 2024, dtype: float64"
      ]
     },
     "execution_count": 43,
     "metadata": {},
     "output_type": "execute_result"
    }
   ],
   "source": [
    "simulation_df_sc4_tr[2024].describe()"
   ]
  },
  {
   "cell_type": "markdown",
   "metadata": {},
   "source": [
    "## Scenario_5 - Year 5"
   ]
  },
  {
   "cell_type": "code",
   "execution_count": 44,
   "metadata": {},
   "outputs": [],
   "source": [
    "simulation_df_sc5_tr = simulation_df_sc4.transpose()\n",
    "simulation_df_sc5_tr.columns = [2020,2021,2022,2023,2024]"
   ]
  },
  {
   "cell_type": "code",
   "execution_count": 45,
   "metadata": {},
   "outputs": [
    {
     "data": {
      "text/plain": [
       "<AxesSubplot:>"
      ]
     },
     "execution_count": 45,
     "metadata": {},
     "output_type": "execute_result"
    },
    {
     "data": {
      "image/png": "[encoded data removed]",
      "text/plain": [
       "<Figure size 432x288 with 1 Axes>"
      ]
     },
     "metadata": {
      "needs_background": "light"
     },
     "output_type": "display_data"
    }
   ],
   "source": [
    "simulation_df_sc5_tr[2024].hist(bins=100)"
   ]
  },
  {
   "cell_type": "code",
   "execution_count": 46,
   "metadata": {},
   "outputs": [
    {
     "data": {
      "text/plain": [
       "count     1000.000000\n",
       "mean        69.332979\n",
       "std       1024.788417\n",
       "min      -8335.303708\n",
       "25%        -48.442991\n",
       "50%          1.223766\n",
       "75%         82.275759\n",
       "max      11011.720335\n",
       "Name: 2024, dtype: float64"
      ]
     },
     "execution_count": 46,
     "metadata": {},
     "output_type": "execute_result"
    }
   ],
   "source": [
    "simulation_df_sc5_tr[2024].describe()"
   ]
  },
  {
   "cell_type": "code",
   "execution_count": null,
   "metadata": {},
   "outputs": [],
   "source": []
  }
 ],
 "metadata": {
  "kernelspec": {
   "display_name": "Python 3",
   "language": "python",
   "name": "python3"
  },
  "language_info": {
   "codemirror_mode": {
    "name": "ipython",
    "version": 3
   },
   "file_extension": ".py",
   "mimetype": "text/x-python",
   "name": "python",
   "nbconvert_exporter": "python",
   "pygments_lexer": "ipython3",
   "version": "3.8.3"
  }
 },
 "nbformat": 4,
 "nbformat_minor": 4
}

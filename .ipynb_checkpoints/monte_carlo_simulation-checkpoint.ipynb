{
 "cells": [
  {
   "cell_type": "code",
   "execution_count": 1,
   "metadata": {},
   "outputs": [],
   "source": [
    "import pandas_datareader.data as web\n",
    "import pandas as pd\n",
    "import datetime as dt\n",
    "import numpy as np\n",
    "from sklearn.linear_model import LinearRegression\n",
    "%matplotlib inline\n",
    "import matplotlib.pyplot as plt"
   ]
  },
  {
   "cell_type": "code",
   "execution_count": 2,
   "metadata": {},
   "outputs": [],
   "source": [
    "#Number of simulations\n",
    "num_simulations = 1000\n",
    "#Number of years\n",
    "num_years = 5"
   ]
  },
  {
   "cell_type": "markdown",
   "metadata": {},
   "source": [
    "# Import data & create dataframe"
   ]
  },
  {
   "cell_type": "markdown",
   "metadata": {},
   "source": [
    "In this exercise two datasets will be used. The first one includes historic revenue growth, GDP growth and inflation while the second includes five-year forecasts for GDP growth and inflation. The historic figures where extracted from Fever-Tree annual accounts and the office of national statistics while the forecasted from the September 2020 PWC UK Economic Update."
   ]
  },
  {
   "cell_type": "code",
   "execution_count": 3,
   "metadata": {},
   "outputs": [],
   "source": [
    "#read historic data\n",
    "df = pd.read_csv('data.csv',header=None)\n",
    "df.columns=['revenue','%gdp_growth','%inflation']\n",
    "#read forecasted data\n",
    "df_fct = pd.read_csv('data_fct.csv',header=None)\n",
    "df_fct.columns=['%gdp_growth_fct_vs','%inflation_fct_vs','%gdp_growth_fct_ls','%inflation_fct_ls']"
   ]
  },
  {
   "cell_type": "code",
   "execution_count": 4,
   "metadata": {},
   "outputs": [
    {
     "data": {
      "text/html": [
       "<div>\n",
       "<style scoped>\n",
       "    .dataframe tbody tr th:only-of-type {\n",
       "        vertical-align: middle;\n",
       "    }\n",
       "\n",
       "    .dataframe tbody tr th {\n",
       "        vertical-align: top;\n",
       "    }\n",
       "\n",
       "    .dataframe thead th {\n",
       "        text-align: right;\n",
       "    }\n",
       "</style>\n",
       "<table border=\"1\" class=\"dataframe\">\n",
       "  <thead>\n",
       "    <tr style=\"text-align: right;\">\n",
       "      <th></th>\n",
       "      <th>revenue</th>\n",
       "      <th>%gdp_growth</th>\n",
       "      <th>%inflation</th>\n",
       "    </tr>\n",
       "  </thead>\n",
       "  <tbody>\n",
       "    <tr>\n",
       "      <th>0</th>\n",
       "      <td>0.097304</td>\n",
       "      <td>0.015</td>\n",
       "      <td>0.018</td>\n",
       "    </tr>\n",
       "    <tr>\n",
       "      <th>1</th>\n",
       "      <td>0.395067</td>\n",
       "      <td>0.013</td>\n",
       "      <td>0.025</td>\n",
       "    </tr>\n",
       "    <tr>\n",
       "      <th>2</th>\n",
       "      <td>0.664476</td>\n",
       "      <td>0.019</td>\n",
       "      <td>0.027</td>\n",
       "    </tr>\n",
       "    <tr>\n",
       "      <th>3</th>\n",
       "      <td>0.725461</td>\n",
       "      <td>0.019</td>\n",
       "      <td>0.007</td>\n",
       "    </tr>\n",
       "    <tr>\n",
       "      <th>4</th>\n",
       "      <td>0.707993</td>\n",
       "      <td>0.024</td>\n",
       "      <td>0.004</td>\n",
       "    </tr>\n",
       "    <tr>\n",
       "      <th>5</th>\n",
       "      <td>0.488756</td>\n",
       "      <td>0.026</td>\n",
       "      <td>0.015</td>\n",
       "    </tr>\n",
       "    <tr>\n",
       "      <th>6</th>\n",
       "      <td>0.438395</td>\n",
       "      <td>0.021</td>\n",
       "      <td>0.026</td>\n",
       "    </tr>\n",
       "    <tr>\n",
       "      <th>7</th>\n",
       "      <td>0.350000</td>\n",
       "      <td>0.015</td>\n",
       "      <td>0.028</td>\n",
       "    </tr>\n",
       "    <tr>\n",
       "      <th>8</th>\n",
       "      <td>0.791045</td>\n",
       "      <td>0.015</td>\n",
       "      <td>0.045</td>\n",
       "    </tr>\n",
       "  </tbody>\n",
       "</table>\n",
       "</div>"
      ],
      "text/plain": [
       "    revenue  %gdp_growth  %inflation\n",
       "0  0.097304        0.015       0.018\n",
       "1  0.395067        0.013       0.025\n",
       "2  0.664476        0.019       0.027\n",
       "3  0.725461        0.019       0.007\n",
       "4  0.707993        0.024       0.004\n",
       "5  0.488756        0.026       0.015\n",
       "6  0.438395        0.021       0.026\n",
       "7  0.350000        0.015       0.028\n",
       "8  0.791045        0.015       0.045"
      ]
     },
     "execution_count": 4,
     "metadata": {},
     "output_type": "execute_result"
    }
   ],
   "source": [
    "df"
   ]
  },
  {
   "cell_type": "code",
   "execution_count": 5,
   "metadata": {},
   "outputs": [
    {
     "data": {
      "text/html": [
       "<div>\n",
       "<style scoped>\n",
       "    .dataframe tbody tr th:only-of-type {\n",
       "        vertical-align: middle;\n",
       "    }\n",
       "\n",
       "    .dataframe tbody tr th {\n",
       "        vertical-align: top;\n",
       "    }\n",
       "\n",
       "    .dataframe thead th {\n",
       "        text-align: right;\n",
       "    }\n",
       "</style>\n",
       "<table border=\"1\" class=\"dataframe\">\n",
       "  <thead>\n",
       "    <tr style=\"text-align: right;\">\n",
       "      <th></th>\n",
       "      <th>%gdp_growth_fct_vs</th>\n",
       "      <th>%inflation_fct_vs</th>\n",
       "      <th>%gdp_growth_fct_ls</th>\n",
       "      <th>%inflation_fct_ls</th>\n",
       "    </tr>\n",
       "  </thead>\n",
       "  <tbody>\n",
       "    <tr>\n",
       "      <th>0</th>\n",
       "      <td>0.018</td>\n",
       "      <td>0.0162</td>\n",
       "      <td>0.018</td>\n",
       "      <td>0.0162</td>\n",
       "    </tr>\n",
       "    <tr>\n",
       "      <th>1</th>\n",
       "      <td>0.018</td>\n",
       "      <td>0.0162</td>\n",
       "      <td>0.018</td>\n",
       "      <td>0.0162</td>\n",
       "    </tr>\n",
       "    <tr>\n",
       "      <th>2</th>\n",
       "      <td>0.018</td>\n",
       "      <td>0.0162</td>\n",
       "      <td>0.018</td>\n",
       "      <td>0.0162</td>\n",
       "    </tr>\n",
       "    <tr>\n",
       "      <th>3</th>\n",
       "      <td>0.101</td>\n",
       "      <td>0.0150</td>\n",
       "      <td>0.039</td>\n",
       "      <td>0.0120</td>\n",
       "    </tr>\n",
       "    <tr>\n",
       "      <th>4</th>\n",
       "      <td>-0.111</td>\n",
       "      <td>0.0050</td>\n",
       "      <td>-0.120</td>\n",
       "      <td>0.0050</td>\n",
       "    </tr>\n",
       "  </tbody>\n",
       "</table>\n",
       "</div>"
      ],
      "text/plain": [
       "   %gdp_growth_fct_vs  %inflation_fct_vs  %gdp_growth_fct_ls  \\\n",
       "0               0.018             0.0162               0.018   \n",
       "1               0.018             0.0162               0.018   \n",
       "2               0.018             0.0162               0.018   \n",
       "3               0.101             0.0150               0.039   \n",
       "4              -0.111             0.0050              -0.120   \n",
       "\n",
       "   %inflation_fct_ls  \n",
       "0             0.0162  \n",
       "1             0.0162  \n",
       "2             0.0162  \n",
       "3             0.0120  \n",
       "4             0.0050  "
      ]
     },
     "execution_count": 5,
     "metadata": {},
     "output_type": "execute_result"
    }
   ],
   "source": [
    "df_fct"
   ]
  },
  {
   "cell_type": "markdown",
   "metadata": {},
   "source": [
    "# Linkage between GDP & inflation, and the revenue growth of Fevertree"
   ]
  },
  {
   "cell_type": "markdown",
   "metadata": {},
   "source": [
    "A linear relationship is assumed between revenue growth, GDP growth & inflation. Revenue is the dependent variable while GDP growth and inflation are the independent variables. An other assumption is that there is no multicollinearity in the data, that means that GDP growth and inflation are not highly correlated with each other. \n",
    "\n",
    "Multiple linear regression is used to calculate the two coefficients (b1, b2) along and the intercept (b0).\n",
    "\n",
    "$ y =b ₀+b ₁x ₁+b₂x₂+c$  \n",
    "\n",
    "Where y is the revenue growth, b0 the intercept, b1 the coefficient for GDP growth and b2 the coefficient for inflation. After calculating the coefficients and the intercept the equation above becomes:\n",
    "\n",
    "$revenue Growth = 24.92*gdp Growth + 5.62*inflation - 0.06$"
   ]
  },
  {
   "cell_type": "code",
   "execution_count": 6,
   "metadata": {},
   "outputs": [],
   "source": [
    "# create linear regression object\n",
    "mlr = LinearRegression()"
   ]
  },
  {
   "cell_type": "code",
   "execution_count": 7,
   "metadata": {},
   "outputs": [
    {
     "data": {
      "text/plain": [
       "LinearRegression()"
      ]
     },
     "execution_count": 7,
     "metadata": {},
     "output_type": "execute_result"
    }
   ],
   "source": [
    "# fit linear regression\n",
    "mlr.fit(df[['%gdp_growth', '%inflation']], df['revenue'])"
   ]
  },
  {
   "cell_type": "code",
   "execution_count": 8,
   "metadata": {},
   "outputs": [],
   "source": [
    "intercept = mlr.intercept_\n",
    "coefficients = mlr.coef_\n",
    "gdp_coef = coefficients[0]\n",
    "inf_coef = coefficients[1]"
   ]
  },
  {
   "cell_type": "markdown",
   "metadata": {},
   "source": [
    "# Functions"
   ]
  },
  {
   "cell_type": "code",
   "execution_count": 9,
   "metadata": {},
   "outputs": [],
   "source": [
    "def monteCarloDataframe(num_simulations,num_years,gdp_mean,gdp_std,inf_mean,inf_std,gdp_coef,inf_coef,last_revenue,ebitda_pct):\n",
    "    '''Performs the monte carlo simulation and returns a dataframe'''\n",
    "    simulation_df = pd.DataFrame()\n",
    "    for x in range(num_simulations):\n",
    "        count = 0\n",
    "\n",
    "        ebitda_series = []\n",
    "        revenue_series = []\n",
    "        gdp_growth = np.random.normal(loc = gdp_mean, scale = gdp_std)\n",
    "        inflation = np.random.normal(loc = inf_mean, scale = inf_std)\n",
    "        revenue_growth = gdp_coef*gdp_growth + inf_coef*inflation\n",
    "        revenue = last_revenue*(1+revenue_growth)\n",
    "        revenue_series.append(revenue)\n",
    "        ebitda = revenue*ebitda_pct\n",
    "        ebitda_series.append(ebitda)\n",
    "\n",
    "        for y in range(num_years):\n",
    "            if count==num_years-1:\n",
    "                break\n",
    "            gdp_growth = np.random.normal(loc = gdp_mean, scale = gdp_std)\n",
    "            inflation = np.random.normal(loc = inf_mean, scale = inf_std)\n",
    "            revenue_growth = gdp_coef*gdp_growth + inf_coef*inflation\n",
    "            revenue = revenue_series[count]*(1+revenue_growth)\n",
    "            revenue_series.append(revenue)\n",
    "            ebitda = revenue*ebitda_pct\n",
    "            ebitda_series.append(ebitda)\n",
    "            count+=1\n",
    "        simulation_df[x] = ebitda_series\n",
    "        \n",
    "    return simulation_df"
   ]
  },
  {
   "cell_type": "code",
   "execution_count": 10,
   "metadata": {},
   "outputs": [],
   "source": [
    "def createPlot(simulation_df):\n",
    "    ''' Creates a plot'''\n",
    "    fig = plt.figure()\n",
    "    fig.suptitle('Monte Carlo Simulation Fever-Tree')\n",
    "    plt.plot(simulation_df)\n",
    "    plt.axhline(y=last_ebitda,color='r',linestyle='-')\n",
    "    plt.xlabel('Years')\n",
    "    plt.ylabel('EBITDA')\n",
    "    plt.show()"
   ]
  },
  {
   "cell_type": "markdown",
   "metadata": {},
   "source": [
    "# Scenario_1 - Covid didn't Happen"
   ]
  },
  {
   "cell_type": "markdown",
   "metadata": {},
   "source": [
    "The first scenario assumes that covid did not occur and as a result there is no major fluctuations in UK economy. The following assumptions are used:\n",
    "\n",
    "* GDP Growth follows a normal distribution with mean equal to 1.8% and a standard deviation equal to 0.44% (based on past 9 years GDP growth). \n",
    "* Inflation follows a normal distribution with mean 2.1% and standard deviation of 1.2% (based on inflation of the past 9 years)\n",
    "* EBITDA as a percentage of revenues is always the same and equal to 31.52% (average EBITDA of fever-tree the last 7 years)\n",
    "* There is no correlation between gdp growtn and inflation."
   ]
  },
  {
   "cell_type": "code",
   "execution_count": 11,
   "metadata": {},
   "outputs": [],
   "source": [
    "# standard deviation of gdp growth and inflation\n",
    "gdp_std = df['%gdp_growth'].std()\n",
    "inf_std = df['%inflation'].std()\n",
    "#mean of gdp and inflation\n",
    "gdp_mean = df['%gdp_growth'].mean()\n",
    "inf_mean = df['%inflation'].mean()\n",
    "#last reported revenue in millions \n",
    "last_revenue  = 260.5\n",
    "#EBITDA as % of revenue\n",
    "ebitda_pct = 0.3152\n",
    "#last EBITDA\n",
    "last_ebitda = 77.00"
   ]
  },
  {
   "cell_type": "code",
   "execution_count": 12,
   "metadata": {},
   "outputs": [],
   "source": [
    "simulation_df_sc1 = monteCarloDataframe(num_simulations,num_years,gdp_mean,gdp_std,inf_mean,inf_std,gdp_coef,inf_coef,last_revenue,ebitda_pct)"
   ]
  },
  {
   "cell_type": "code",
   "execution_count": 13,
   "metadata": {},
   "outputs": [
    {
     "data": {
      "text/html": [
       "<div>\n",
       "<style scoped>\n",
       "    .dataframe tbody tr th:only-of-type {\n",
       "        vertical-align: middle;\n",
       "    }\n",
       "\n",
       "    .dataframe tbody tr th {\n",
       "        vertical-align: top;\n",
       "    }\n",
       "\n",
       "    .dataframe thead th {\n",
       "        text-align: right;\n",
       "    }\n",
       "</style>\n",
       "<table border=\"1\" class=\"dataframe\">\n",
       "  <thead>\n",
       "    <tr style=\"text-align: right;\">\n",
       "      <th></th>\n",
       "      <th>0</th>\n",
       "      <th>1</th>\n",
       "      <th>2</th>\n",
       "      <th>3</th>\n",
       "      <th>4</th>\n",
       "      <th>5</th>\n",
       "      <th>6</th>\n",
       "      <th>7</th>\n",
       "      <th>8</th>\n",
       "      <th>9</th>\n",
       "      <th>...</th>\n",
       "      <th>990</th>\n",
       "      <th>991</th>\n",
       "      <th>992</th>\n",
       "      <th>993</th>\n",
       "      <th>994</th>\n",
       "      <th>995</th>\n",
       "      <th>996</th>\n",
       "      <th>997</th>\n",
       "      <th>998</th>\n",
       "      <th>999</th>\n",
       "    </tr>\n",
       "  </thead>\n",
       "  <tbody>\n",
       "    <tr>\n",
       "      <th>0</th>\n",
       "      <td>146.928012</td>\n",
       "      <td>138.816398</td>\n",
       "      <td>140.659000</td>\n",
       "      <td>125.418736</td>\n",
       "      <td>143.297872</td>\n",
       "      <td>155.357542</td>\n",
       "      <td>143.515519</td>\n",
       "      <td>140.024839</td>\n",
       "      <td>149.566722</td>\n",
       "      <td>140.989028</td>\n",
       "      <td>...</td>\n",
       "      <td>146.135379</td>\n",
       "      <td>127.906528</td>\n",
       "      <td>129.718782</td>\n",
       "      <td>126.272640</td>\n",
       "      <td>120.530573</td>\n",
       "      <td>136.576292</td>\n",
       "      <td>133.787979</td>\n",
       "      <td>122.126259</td>\n",
       "      <td>134.849127</td>\n",
       "      <td>133.387149</td>\n",
       "    </tr>\n",
       "    <tr>\n",
       "      <th>1</th>\n",
       "      <td>264.863743</td>\n",
       "      <td>187.896522</td>\n",
       "      <td>214.563553</td>\n",
       "      <td>212.923122</td>\n",
       "      <td>242.783042</td>\n",
       "      <td>231.209818</td>\n",
       "      <td>213.327197</td>\n",
       "      <td>202.728433</td>\n",
       "      <td>246.920545</td>\n",
       "      <td>215.502599</td>\n",
       "      <td>...</td>\n",
       "      <td>238.001303</td>\n",
       "      <td>228.724200</td>\n",
       "      <td>197.990014</td>\n",
       "      <td>185.298934</td>\n",
       "      <td>205.237619</td>\n",
       "      <td>220.095525</td>\n",
       "      <td>206.569469</td>\n",
       "      <td>200.201067</td>\n",
       "      <td>199.714570</td>\n",
       "      <td>229.550301</td>\n",
       "    </tr>\n",
       "    <tr>\n",
       "      <th>2</th>\n",
       "      <td>368.789485</td>\n",
       "      <td>313.498151</td>\n",
       "      <td>330.835092</td>\n",
       "      <td>327.654750</td>\n",
       "      <td>440.877472</td>\n",
       "      <td>339.898349</td>\n",
       "      <td>341.330653</td>\n",
       "      <td>324.647044</td>\n",
       "      <td>396.990466</td>\n",
       "      <td>349.138520</td>\n",
       "      <td>...</td>\n",
       "      <td>400.103729</td>\n",
       "      <td>379.868658</td>\n",
       "      <td>334.736697</td>\n",
       "      <td>262.637009</td>\n",
       "      <td>330.529604</td>\n",
       "      <td>310.633152</td>\n",
       "      <td>328.020565</td>\n",
       "      <td>341.195753</td>\n",
       "      <td>313.799987</td>\n",
       "      <td>393.252700</td>\n",
       "    </tr>\n",
       "    <tr>\n",
       "      <th>3</th>\n",
       "      <td>696.442038</td>\n",
       "      <td>537.381195</td>\n",
       "      <td>517.084091</td>\n",
       "      <td>564.299082</td>\n",
       "      <td>726.259148</td>\n",
       "      <td>500.858947</td>\n",
       "      <td>574.928886</td>\n",
       "      <td>528.216185</td>\n",
       "      <td>467.969744</td>\n",
       "      <td>576.973943</td>\n",
       "      <td>...</td>\n",
       "      <td>625.205644</td>\n",
       "      <td>615.124640</td>\n",
       "      <td>609.489567</td>\n",
       "      <td>442.654503</td>\n",
       "      <td>557.978822</td>\n",
       "      <td>512.451612</td>\n",
       "      <td>420.922097</td>\n",
       "      <td>625.623453</td>\n",
       "      <td>527.178755</td>\n",
       "      <td>519.965185</td>\n",
       "    </tr>\n",
       "    <tr>\n",
       "      <th>4</th>\n",
       "      <td>901.251161</td>\n",
       "      <td>924.384559</td>\n",
       "      <td>793.573404</td>\n",
       "      <td>948.162305</td>\n",
       "      <td>1112.551930</td>\n",
       "      <td>892.007683</td>\n",
       "      <td>1028.443257</td>\n",
       "      <td>851.042486</td>\n",
       "      <td>717.028235</td>\n",
       "      <td>901.577165</td>\n",
       "      <td>...</td>\n",
       "      <td>858.884011</td>\n",
       "      <td>999.099121</td>\n",
       "      <td>872.807168</td>\n",
       "      <td>654.974568</td>\n",
       "      <td>865.264886</td>\n",
       "      <td>787.633822</td>\n",
       "      <td>720.431128</td>\n",
       "      <td>1012.229677</td>\n",
       "      <td>922.274813</td>\n",
       "      <td>875.136652</td>\n",
       "    </tr>\n",
       "  </tbody>\n",
       "</table>\n",
       "<p>5 rows × 1000 columns</p>\n",
       "</div>"
      ],
      "text/plain": [
       "          0           1           2           3            4           5    \\\n",
       "0  146.928012  138.816398  140.659000  125.418736   143.297872  155.357542   \n",
       "1  264.863743  187.896522  214.563553  212.923122   242.783042  231.209818   \n",
       "2  368.789485  313.498151  330.835092  327.654750   440.877472  339.898349   \n",
       "3  696.442038  537.381195  517.084091  564.299082   726.259148  500.858947   \n",
       "4  901.251161  924.384559  793.573404  948.162305  1112.551930  892.007683   \n",
       "\n",
       "           6           7           8           9    ...         990  \\\n",
       "0   143.515519  140.024839  149.566722  140.989028  ...  146.135379   \n",
       "1   213.327197  202.728433  246.920545  215.502599  ...  238.001303   \n",
       "2   341.330653  324.647044  396.990466  349.138520  ...  400.103729   \n",
       "3   574.928886  528.216185  467.969744  576.973943  ...  625.205644   \n",
       "4  1028.443257  851.042486  717.028235  901.577165  ...  858.884011   \n",
       "\n",
       "          991         992         993         994         995         996  \\\n",
       "0  127.906528  129.718782  126.272640  120.530573  136.576292  133.787979   \n",
       "1  228.724200  197.990014  185.298934  205.237619  220.095525  206.569469   \n",
       "2  379.868658  334.736697  262.637009  330.529604  310.633152  328.020565   \n",
       "3  615.124640  609.489567  442.654503  557.978822  512.451612  420.922097   \n",
       "4  999.099121  872.807168  654.974568  865.264886  787.633822  720.431128   \n",
       "\n",
       "           997         998         999  \n",
       "0   122.126259  134.849127  133.387149  \n",
       "1   200.201067  199.714570  229.550301  \n",
       "2   341.195753  313.799987  393.252700  \n",
       "3   625.623453  527.178755  519.965185  \n",
       "4  1012.229677  922.274813  875.136652  \n",
       "\n",
       "[5 rows x 1000 columns]"
      ]
     },
     "execution_count": 13,
     "metadata": {},
     "output_type": "execute_result"
    }
   ],
   "source": [
    "# 5 years projection(rows) 1000 simulations (columns)\n",
    "simulation_df_sc1"
   ]
  },
  {
   "cell_type": "code",
   "execution_count": 14,
   "metadata": {},
   "outputs": [
    {
     "data": {
      "image/png": "[encoded data removed]",
      "text/plain": [
       "<Figure size 432x288 with 1 Axes>"
      ]
     },
     "metadata": {
      "needs_background": "light"
     },
     "output_type": "display_data"
    }
   ],
   "source": [
    "createPlot(simulation_df_sc1)"
   ]
  },
  {
   "cell_type": "markdown",
   "metadata": {},
   "source": [
    "# Scenario_2 - Covid did Happen - VShaped Recession"
   ]
  },
  {
   "cell_type": "markdown",
   "metadata": {},
   "source": [
    "The second scenario assumes a major recession in UK economy in 2020, a sharp recovery in 2021 and steady growth thereafter. The GDP growth and inflation forecasts for 2020 and 2021 were obtained from the September PWC UK Economic Update. The GDP growth and inflation for 2022, 2023 and 2024 is assumed to be equal to the average of the last 5 years which signals a return to normality in the medium to long term. The following assumption are used:\n",
    "\n",
    "* GDP Growth follows a normal distribution with mean equal to 0.8% and a standard deviation equal to 7.6% (based on 5 years forecasted Vshaped GDP growth). \n",
    "* Inflation follows a normal distribution with mean 1.3% and standard deviation of 0.4% (based on 5 years forecasted Vshaped inflation).\n",
    "* EBITDA as a percentage of revenues is always the same and equal to 31.52% (average EBITDA of fever-tree the last 7 years).\n",
    "* There is no correlation between gdp growtn and inflation."
   ]
  },
  {
   "cell_type": "code",
   "execution_count": 15,
   "metadata": {},
   "outputs": [],
   "source": [
    "# standard deviation of gdp growth and inflation\n",
    "gdp_std = df_fct['%gdp_growth_fct_vs'].std()\n",
    "inf_std = df_fct['%inflation_fct_vs'].std()\n",
    "#mean of gdp and inflation\n",
    "gdp_mean = df_fct['%gdp_growth_fct_vs'].mean()\n",
    "inf_mean = df_fct['%inflation_fct_vs'].mean()\n",
    "#last reported revenue in millions \n",
    "last_revenue  = 260.5\n",
    "#EBITDA as % of revenue\n",
    "ebitda_pct = 0.3152\n",
    "#last EBITDA\n",
    "last_ebitda = 77.00"
   ]
  },
  {
   "cell_type": "code",
   "execution_count": 16,
   "metadata": {},
   "outputs": [],
   "source": [
    "simulation_df_sc2 = monteCarloDataframe(num_simulations,num_years,gdp_mean,gdp_std,inf_mean,inf_std,gdp_coef,inf_coef,last_revenue,ebitda_pct)"
   ]
  },
  {
   "cell_type": "code",
   "execution_count": 17,
   "metadata": {},
   "outputs": [
    {
     "data": {
      "text/html": [
       "<div>\n",
       "<style scoped>\n",
       "    .dataframe tbody tr th:only-of-type {\n",
       "        vertical-align: middle;\n",
       "    }\n",
       "\n",
       "    .dataframe tbody tr th {\n",
       "        vertical-align: top;\n",
       "    }\n",
       "\n",
       "    .dataframe thead th {\n",
       "        text-align: right;\n",
       "    }\n",
       "</style>\n",
       "<table border=\"1\" class=\"dataframe\">\n",
       "  <thead>\n",
       "    <tr style=\"text-align: right;\">\n",
       "      <th></th>\n",
       "      <th>0</th>\n",
       "      <th>1</th>\n",
       "      <th>2</th>\n",
       "      <th>3</th>\n",
       "      <th>4</th>\n",
       "      <th>5</th>\n",
       "      <th>6</th>\n",
       "      <th>7</th>\n",
       "      <th>8</th>\n",
       "      <th>9</th>\n",
       "      <th>...</th>\n",
       "      <th>990</th>\n",
       "      <th>991</th>\n",
       "      <th>992</th>\n",
       "      <th>993</th>\n",
       "      <th>994</th>\n",
       "      <th>995</th>\n",
       "      <th>996</th>\n",
       "      <th>997</th>\n",
       "      <th>998</th>\n",
       "      <th>999</th>\n",
       "    </tr>\n",
       "  </thead>\n",
       "  <tbody>\n",
       "    <tr>\n",
       "      <th>0</th>\n",
       "      <td>75.374478</td>\n",
       "      <td>262.909787</td>\n",
       "      <td>162.509823</td>\n",
       "      <td>111.794431</td>\n",
       "      <td>320.357733</td>\n",
       "      <td>178.008852</td>\n",
       "      <td>-0.068249</td>\n",
       "      <td>68.221507</td>\n",
       "      <td>131.517177</td>\n",
       "      <td>401.733262</td>\n",
       "      <td>...</td>\n",
       "      <td>-31.072169</td>\n",
       "      <td>253.418771</td>\n",
       "      <td>88.047344</td>\n",
       "      <td>-140.440516</td>\n",
       "      <td>191.750632</td>\n",
       "      <td>-108.447089</td>\n",
       "      <td>119.626562</td>\n",
       "      <td>330.229253</td>\n",
       "      <td>21.399315</td>\n",
       "      <td>109.614691</td>\n",
       "    </tr>\n",
       "    <tr>\n",
       "      <th>1</th>\n",
       "      <td>1.714534</td>\n",
       "      <td>95.708456</td>\n",
       "      <td>555.345730</td>\n",
       "      <td>183.567288</td>\n",
       "      <td>1399.237652</td>\n",
       "      <td>516.197672</td>\n",
       "      <td>0.158970</td>\n",
       "      <td>74.054001</td>\n",
       "      <td>536.516349</td>\n",
       "      <td>337.390255</td>\n",
       "      <td>...</td>\n",
       "      <td>-63.880953</td>\n",
       "      <td>538.004251</td>\n",
       "      <td>105.912541</td>\n",
       "      <td>-80.389281</td>\n",
       "      <td>666.841622</td>\n",
       "      <td>460.503704</td>\n",
       "      <td>-52.196593</td>\n",
       "      <td>-51.359525</td>\n",
       "      <td>45.161083</td>\n",
       "      <td>311.372381</td>\n",
       "    </tr>\n",
       "    <tr>\n",
       "      <th>2</th>\n",
       "      <td>2.317980</td>\n",
       "      <td>372.963683</td>\n",
       "      <td>-33.039337</td>\n",
       "      <td>505.924929</td>\n",
       "      <td>-753.602028</td>\n",
       "      <td>99.776928</td>\n",
       "      <td>0.062186</td>\n",
       "      <td>51.179404</td>\n",
       "      <td>-58.443476</td>\n",
       "      <td>-1294.453517</td>\n",
       "      <td>...</td>\n",
       "      <td>172.757579</td>\n",
       "      <td>-34.151700</td>\n",
       "      <td>258.531399</td>\n",
       "      <td>-50.990544</td>\n",
       "      <td>1153.611326</td>\n",
       "      <td>608.901281</td>\n",
       "      <td>-256.060505</td>\n",
       "      <td>-96.210120</td>\n",
       "      <td>53.598980</td>\n",
       "      <td>435.913522</td>\n",
       "    </tr>\n",
       "    <tr>\n",
       "      <th>3</th>\n",
       "      <td>7.785280</td>\n",
       "      <td>535.249469</td>\n",
       "      <td>-163.424013</td>\n",
       "      <td>620.457600</td>\n",
       "      <td>-3888.908673</td>\n",
       "      <td>30.242107</td>\n",
       "      <td>0.138839</td>\n",
       "      <td>-50.925072</td>\n",
       "      <td>-162.256045</td>\n",
       "      <td>-6915.636886</td>\n",
       "      <td>...</td>\n",
       "      <td>84.349934</td>\n",
       "      <td>-92.609053</td>\n",
       "      <td>1478.826924</td>\n",
       "      <td>-121.896823</td>\n",
       "      <td>1952.945679</td>\n",
       "      <td>512.790350</td>\n",
       "      <td>-1362.190446</td>\n",
       "      <td>-95.249208</td>\n",
       "      <td>11.100948</td>\n",
       "      <td>1232.170689</td>\n",
       "    </tr>\n",
       "    <tr>\n",
       "      <th>4</th>\n",
       "      <td>-11.692163</td>\n",
       "      <td>-42.899331</td>\n",
       "      <td>30.164486</td>\n",
       "      <td>718.438952</td>\n",
       "      <td>-1171.719725</td>\n",
       "      <td>6.420270</td>\n",
       "      <td>0.191606</td>\n",
       "      <td>-22.099627</td>\n",
       "      <td>-273.545790</td>\n",
       "      <td>-11418.796266</td>\n",
       "      <td>...</td>\n",
       "      <td>-128.490225</td>\n",
       "      <td>-257.683152</td>\n",
       "      <td>268.832779</td>\n",
       "      <td>93.021307</td>\n",
       "      <td>-1066.947228</td>\n",
       "      <td>-419.165555</td>\n",
       "      <td>-1208.174730</td>\n",
       "      <td>-35.584608</td>\n",
       "      <td>1.402503</td>\n",
       "      <td>-1566.351141</td>\n",
       "    </tr>\n",
       "  </tbody>\n",
       "</table>\n",
       "<p>5 rows × 1000 columns</p>\n",
       "</div>"
      ],
      "text/plain": [
       "         0           1           2           3            4           5    \\\n",
       "0  75.374478  262.909787  162.509823  111.794431   320.357733  178.008852   \n",
       "1   1.714534   95.708456  555.345730  183.567288  1399.237652  516.197672   \n",
       "2   2.317980  372.963683  -33.039337  505.924929  -753.602028   99.776928   \n",
       "3   7.785280  535.249469 -163.424013  620.457600 -3888.908673   30.242107   \n",
       "4 -11.692163  -42.899331   30.164486  718.438952 -1171.719725    6.420270   \n",
       "\n",
       "        6          7           8             9    ...         990         991  \\\n",
       "0 -0.068249  68.221507  131.517177    401.733262  ...  -31.072169  253.418771   \n",
       "1  0.158970  74.054001  536.516349    337.390255  ...  -63.880953  538.004251   \n",
       "2  0.062186  51.179404  -58.443476  -1294.453517  ...  172.757579  -34.151700   \n",
       "3  0.138839 -50.925072 -162.256045  -6915.636886  ...   84.349934  -92.609053   \n",
       "4  0.191606 -22.099627 -273.545790 -11418.796266  ... -128.490225 -257.683152   \n",
       "\n",
       "           992         993          994         995          996         997  \\\n",
       "0    88.047344 -140.440516   191.750632 -108.447089   119.626562  330.229253   \n",
       "1   105.912541  -80.389281   666.841622  460.503704   -52.196593  -51.359525   \n",
       "2   258.531399  -50.990544  1153.611326  608.901281  -256.060505  -96.210120   \n",
       "3  1478.826924 -121.896823  1952.945679  512.790350 -1362.190446  -95.249208   \n",
       "4   268.832779   93.021307 -1066.947228 -419.165555 -1208.174730  -35.584608   \n",
       "\n",
       "         998          999  \n",
       "0  21.399315   109.614691  \n",
       "1  45.161083   311.372381  \n",
       "2  53.598980   435.913522  \n",
       "3  11.100948  1232.170689  \n",
       "4   1.402503 -1566.351141  \n",
       "\n",
       "[5 rows x 1000 columns]"
      ]
     },
     "execution_count": 17,
     "metadata": {},
     "output_type": "execute_result"
    }
   ],
   "source": [
    "# 5 years projection(rows) 1000 simulations (columns)\n",
    "simulation_df_sc2"
   ]
  },
  {
   "cell_type": "code",
   "execution_count": 18,
   "metadata": {},
   "outputs": [
    {
     "data": {
      "image/png": "[encoded data removed]",
      "text/plain": [
       "<Figure size 432x288 with 1 Axes>"
      ]
     },
     "metadata": {
      "needs_background": "light"
     },
     "output_type": "display_data"
    }
   ],
   "source": [
    "createPlot(simulation_df_sc2)"
   ]
  },
  {
   "cell_type": "markdown",
   "metadata": {},
   "source": [
    "# Scenario_3 - Covid did Happen - LShaped Recession"
   ]
  },
  {
   "cell_type": "markdown",
   "metadata": {},
   "source": [
    "The third scenario assumes a major recession in UK economy in 2020 and gradual recovery from 2021 onwards. The GDP growth and inflation forecasts for 2020 and 2021 were obtained from the September PWC UK Economic Update. I assumed a GDP growth and inflation for 2022, 2023 and 2024 will equal to the average of the last 5 years which signals a return to normality in the medium to long term. The following assumption are used:\n",
    "\n",
    "* GDP Growth follows a normal distribution with mean equal to -0.53% and a standard deviation equal to 6.4% (based on 5 years forecasted Lshaped GDP growth). \n",
    "* Inflation follows a normal distribution with mean 1.3% and standard deviation of 0.48% (based on 5 years forecasted Lshaped inflation).\n",
    "* EBITDA as a percentage of revenues is always the same and equal to 31.52% (average EBITDA of fever-tree the last 7 years).\n",
    "* There is no correlation between gdp growtn and inflation."
   ]
  },
  {
   "cell_type": "code",
   "execution_count": 19,
   "metadata": {},
   "outputs": [],
   "source": [
    "# standard deviation of gdp growth and inflation\n",
    "gdp_std = df_fct['%gdp_growth_fct_ls'].std()\n",
    "inf_std = df_fct['%inflation_fct_ls'].std()\n",
    "#mean of gdp and inflation\n",
    "gdp_mean = df_fct['%gdp_growth_fct_ls'].mean()\n",
    "inf_mean = df_fct['%inflation_fct_ls'].mean()\n",
    "#last reported revenue in millions \n",
    "last_revenue  = 260.5\n",
    "#EBITDA as % of revenue\n",
    "ebitda_pct = 0.3152\n",
    "#last EBITDA\n",
    "last_ebitda = 77.00"
   ]
  },
  {
   "cell_type": "code",
   "execution_count": 20,
   "metadata": {},
   "outputs": [
    {
     "data": {
      "text/plain": [
       "0.004889989775040435"
      ]
     },
     "execution_count": 20,
     "metadata": {},
     "output_type": "execute_result"
    }
   ],
   "source": [
    "inf_std"
   ]
  },
  {
   "cell_type": "code",
   "execution_count": 21,
   "metadata": {},
   "outputs": [],
   "source": [
    "simulation_df_sc3 = monteCarloDataframe(num_simulations,num_years,gdp_mean,gdp_std,inf_mean,inf_std,gdp_coef,inf_coef,last_revenue,ebitda_pct)"
   ]
  },
  {
   "cell_type": "code",
   "execution_count": 22,
   "metadata": {},
   "outputs": [
    {
     "data": {
      "text/html": [
       "<div>\n",
       "<style scoped>\n",
       "    .dataframe tbody tr th:only-of-type {\n",
       "        vertical-align: middle;\n",
       "    }\n",
       "\n",
       "    .dataframe tbody tr th {\n",
       "        vertical-align: top;\n",
       "    }\n",
       "\n",
       "    .dataframe thead th {\n",
       "        text-align: right;\n",
       "    }\n",
       "</style>\n",
       "<table border=\"1\" class=\"dataframe\">\n",
       "  <thead>\n",
       "    <tr style=\"text-align: right;\">\n",
       "      <th></th>\n",
       "      <th>0</th>\n",
       "      <th>1</th>\n",
       "      <th>2</th>\n",
       "      <th>3</th>\n",
       "      <th>4</th>\n",
       "      <th>5</th>\n",
       "      <th>6</th>\n",
       "      <th>7</th>\n",
       "      <th>8</th>\n",
       "      <th>9</th>\n",
       "      <th>...</th>\n",
       "      <th>990</th>\n",
       "      <th>991</th>\n",
       "      <th>992</th>\n",
       "      <th>993</th>\n",
       "      <th>994</th>\n",
       "      <th>995</th>\n",
       "      <th>996</th>\n",
       "      <th>997</th>\n",
       "      <th>998</th>\n",
       "      <th>999</th>\n",
       "    </tr>\n",
       "  </thead>\n",
       "  <tbody>\n",
       "    <tr>\n",
       "      <th>0</th>\n",
       "      <td>-1.402850</td>\n",
       "      <td>28.573921</td>\n",
       "      <td>98.249679</td>\n",
       "      <td>72.848277</td>\n",
       "      <td>101.904321</td>\n",
       "      <td>-122.836153</td>\n",
       "      <td>265.434713</td>\n",
       "      <td>262.231511</td>\n",
       "      <td>76.031025</td>\n",
       "      <td>65.698937</td>\n",
       "      <td>...</td>\n",
       "      <td>-23.639401</td>\n",
       "      <td>188.918616</td>\n",
       "      <td>25.354615</td>\n",
       "      <td>197.892359</td>\n",
       "      <td>329.373177</td>\n",
       "      <td>144.244061</td>\n",
       "      <td>238.262366</td>\n",
       "      <td>-85.297828</td>\n",
       "      <td>75.966624</td>\n",
       "      <td>184.368766</td>\n",
       "    </tr>\n",
       "    <tr>\n",
       "      <th>1</th>\n",
       "      <td>-1.315096</td>\n",
       "      <td>14.781043</td>\n",
       "      <td>41.977290</td>\n",
       "      <td>49.124831</td>\n",
       "      <td>364.139618</td>\n",
       "      <td>-84.143305</td>\n",
       "      <td>185.071147</td>\n",
       "      <td>614.680374</td>\n",
       "      <td>145.900833</td>\n",
       "      <td>-18.314893</td>\n",
       "      <td>...</td>\n",
       "      <td>-21.881353</td>\n",
       "      <td>91.558644</td>\n",
       "      <td>43.089597</td>\n",
       "      <td>105.178478</td>\n",
       "      <td>484.811677</td>\n",
       "      <td>568.342526</td>\n",
       "      <td>-74.799225</td>\n",
       "      <td>-225.754783</td>\n",
       "      <td>296.405765</td>\n",
       "      <td>-12.485830</td>\n",
       "    </tr>\n",
       "    <tr>\n",
       "      <th>2</th>\n",
       "      <td>1.262890</td>\n",
       "      <td>41.550853</td>\n",
       "      <td>24.912566</td>\n",
       "      <td>150.971515</td>\n",
       "      <td>772.842027</td>\n",
       "      <td>-143.825187</td>\n",
       "      <td>-56.970648</td>\n",
       "      <td>631.762480</td>\n",
       "      <td>259.880618</td>\n",
       "      <td>-30.023167</td>\n",
       "      <td>...</td>\n",
       "      <td>-19.192756</td>\n",
       "      <td>-109.292897</td>\n",
       "      <td>-13.430045</td>\n",
       "      <td>40.046198</td>\n",
       "      <td>485.954960</td>\n",
       "      <td>-762.024425</td>\n",
       "      <td>-30.410892</td>\n",
       "      <td>-69.041720</td>\n",
       "      <td>46.576825</td>\n",
       "      <td>-46.940444</td>\n",
       "    </tr>\n",
       "    <tr>\n",
       "      <th>3</th>\n",
       "      <td>-1.913346</td>\n",
       "      <td>44.403093</td>\n",
       "      <td>13.627800</td>\n",
       "      <td>-51.496725</td>\n",
       "      <td>2480.636234</td>\n",
       "      <td>-83.780194</td>\n",
       "      <td>103.286948</td>\n",
       "      <td>95.104002</td>\n",
       "      <td>364.774888</td>\n",
       "      <td>-13.105215</td>\n",
       "      <td>...</td>\n",
       "      <td>5.804031</td>\n",
       "      <td>34.135932</td>\n",
       "      <td>-10.983784</td>\n",
       "      <td>44.074861</td>\n",
       "      <td>1176.270481</td>\n",
       "      <td>-2179.005158</td>\n",
       "      <td>-1.993757</td>\n",
       "      <td>-100.464979</td>\n",
       "      <td>121.118455</td>\n",
       "      <td>25.002773</td>\n",
       "    </tr>\n",
       "    <tr>\n",
       "      <th>4</th>\n",
       "      <td>4.487234</td>\n",
       "      <td>-20.370184</td>\n",
       "      <td>30.219439</td>\n",
       "      <td>-69.910160</td>\n",
       "      <td>1458.133591</td>\n",
       "      <td>-3.642170</td>\n",
       "      <td>182.459859</td>\n",
       "      <td>93.825234</td>\n",
       "      <td>583.383992</td>\n",
       "      <td>-8.289143</td>\n",
       "      <td>...</td>\n",
       "      <td>13.231328</td>\n",
       "      <td>-37.261757</td>\n",
       "      <td>-1.026877</td>\n",
       "      <td>46.774331</td>\n",
       "      <td>3766.301613</td>\n",
       "      <td>2275.722928</td>\n",
       "      <td>-1.616465</td>\n",
       "      <td>-92.011889</td>\n",
       "      <td>198.240380</td>\n",
       "      <td>80.365249</td>\n",
       "    </tr>\n",
       "  </tbody>\n",
       "</table>\n",
       "<p>5 rows × 1000 columns</p>\n",
       "</div>"
      ],
      "text/plain": [
       "        0          1          2           3            4           5    \\\n",
       "0 -1.402850  28.573921  98.249679   72.848277   101.904321 -122.836153   \n",
       "1 -1.315096  14.781043  41.977290   49.124831   364.139618  -84.143305   \n",
       "2  1.262890  41.550853  24.912566  150.971515   772.842027 -143.825187   \n",
       "3 -1.913346  44.403093  13.627800  -51.496725  2480.636234  -83.780194   \n",
       "4  4.487234 -20.370184  30.219439  -69.910160  1458.133591   -3.642170   \n",
       "\n",
       "          6           7           8          9    ...        990         991  \\\n",
       "0  265.434713  262.231511   76.031025  65.698937  ... -23.639401  188.918616   \n",
       "1  185.071147  614.680374  145.900833 -18.314893  ... -21.881353   91.558644   \n",
       "2  -56.970648  631.762480  259.880618 -30.023167  ... -19.192756 -109.292897   \n",
       "3  103.286948   95.104002  364.774888 -13.105215  ...   5.804031   34.135932   \n",
       "4  182.459859   93.825234  583.383992  -8.289143  ...  13.231328  -37.261757   \n",
       "\n",
       "         992         993          994          995         996         997  \\\n",
       "0  25.354615  197.892359   329.373177   144.244061  238.262366  -85.297828   \n",
       "1  43.089597  105.178478   484.811677   568.342526  -74.799225 -225.754783   \n",
       "2 -13.430045   40.046198   485.954960  -762.024425  -30.410892  -69.041720   \n",
       "3 -10.983784   44.074861  1176.270481 -2179.005158   -1.993757 -100.464979   \n",
       "4  -1.026877   46.774331  3766.301613  2275.722928   -1.616465  -92.011889   \n",
       "\n",
       "          998         999  \n",
       "0   75.966624  184.368766  \n",
       "1  296.405765  -12.485830  \n",
       "2   46.576825  -46.940444  \n",
       "3  121.118455   25.002773  \n",
       "4  198.240380   80.365249  \n",
       "\n",
       "[5 rows x 1000 columns]"
      ]
     },
     "execution_count": 22,
     "metadata": {},
     "output_type": "execute_result"
    }
   ],
   "source": [
    "# 5 years projection(rows) 1000 simulations (columns)\n",
    "simulation_df_sc3"
   ]
  },
  {
   "cell_type": "code",
   "execution_count": 23,
   "metadata": {},
   "outputs": [
    {
     "data": {
      "image/png": "[encoded data removed]",
      "text/plain": [
       "<Figure size 432x288 with 1 Axes>"
      ]
     },
     "metadata": {
      "needs_background": "light"
     },
     "output_type": "display_data"
    }
   ],
   "source": [
    "createPlot(simulation_df_sc3)"
   ]
  },
  {
   "cell_type": "markdown",
   "metadata": {},
   "source": [
    "# Scenario_4 - Covid did Happen - LShaped Recession - Major Fixed costs"
   ]
  },
  {
   "cell_type": "markdown",
   "metadata": {},
   "source": [
    "The forth scenario makes the same assumptions as scenario_3 in terms of gdp growth and inflation but this time it assumes that fever-tree has major fixed costs associated with cost of sales and as a result EBITDA as a % of sales is lower. The following assumption are used:\n",
    "\n",
    "* GDP Growth follows a normal distribution with mean equal to -0.53% and a standard deviation equal to 6.4% (based on 5 years forecasted Lshaped GDP growth). \n",
    "* Inflation follows a normal distribution with mean 1.3% and standard deviation of 0.48% (based on 5 years forecasted Lshaped inflation)\n",
    "* EBITDA as a percentage of revenues is always the same and equal to 20.00%.\n",
    "* There is no correlation between gdp growtn and inflation."
   ]
  },
  {
   "cell_type": "code",
   "execution_count": 47,
   "metadata": {},
   "outputs": [],
   "source": [
    "# standard deviation of gdp growth and inflation\n",
    "gdp_std = df_fct['%gdp_growth_fct_ls'].std()\n",
    "inf_std = df_fct['%inflation_fct_ls'].std()\n",
    "#mean of gdp and inflation\n",
    "gdp_mean = df_fct['%gdp_growth_fct_ls'].mean()\n",
    "inf_mean = df_fct['%inflation_fct_ls'].mean()\n",
    "#last reported revenue in millions \n",
    "last_revenue  = 260.5\n",
    "#EBITDA as % of revenue\n",
    "ebitda_pct = 0.20\n",
    "#last EBITDA\n",
    "last_ebitda = 77.00"
   ]
  },
  {
   "cell_type": "code",
   "execution_count": 48,
   "metadata": {},
   "outputs": [],
   "source": [
    "simulation_df_sc4 = monteCarloDataframe(num_simulations,num_years,gdp_mean,gdp_std,inf_mean,inf_std,gdp_coef,inf_coef,last_revenue,ebitda_pct)"
   ]
  },
  {
   "cell_type": "code",
   "execution_count": 49,
   "metadata": {},
   "outputs": [
    {
     "data": {
      "text/html": [
       "<div>\n",
       "<style scoped>\n",
       "    .dataframe tbody tr th:only-of-type {\n",
       "        vertical-align: middle;\n",
       "    }\n",
       "\n",
       "    .dataframe tbody tr th {\n",
       "        vertical-align: top;\n",
       "    }\n",
       "\n",
       "    .dataframe thead th {\n",
       "        text-align: right;\n",
       "    }\n",
       "</style>\n",
       "<table border=\"1\" class=\"dataframe\">\n",
       "  <thead>\n",
       "    <tr style=\"text-align: right;\">\n",
       "      <th></th>\n",
       "      <th>0</th>\n",
       "      <th>1</th>\n",
       "      <th>2</th>\n",
       "      <th>3</th>\n",
       "      <th>4</th>\n",
       "      <th>5</th>\n",
       "      <th>6</th>\n",
       "      <th>7</th>\n",
       "      <th>8</th>\n",
       "      <th>9</th>\n",
       "      <th>...</th>\n",
       "      <th>990</th>\n",
       "      <th>991</th>\n",
       "      <th>992</th>\n",
       "      <th>993</th>\n",
       "      <th>994</th>\n",
       "      <th>995</th>\n",
       "      <th>996</th>\n",
       "      <th>997</th>\n",
       "      <th>998</th>\n",
       "      <th>999</th>\n",
       "    </tr>\n",
       "  </thead>\n",
       "  <tbody>\n",
       "    <tr>\n",
       "      <th>0</th>\n",
       "      <td>182.284945</td>\n",
       "      <td>75.687145</td>\n",
       "      <td>-59.667496</td>\n",
       "      <td>99.888835</td>\n",
       "      <td>-22.276880</td>\n",
       "      <td>21.414914</td>\n",
       "      <td>61.741056</td>\n",
       "      <td>175.586513</td>\n",
       "      <td>160.418196</td>\n",
       "      <td>-61.591302</td>\n",
       "      <td>...</td>\n",
       "      <td>127.518738</td>\n",
       "      <td>-18.982413</td>\n",
       "      <td>109.888471</td>\n",
       "      <td>-70.853506</td>\n",
       "      <td>-31.549052</td>\n",
       "      <td>16.512492</td>\n",
       "      <td>42.772834</td>\n",
       "      <td>152.718240</td>\n",
       "      <td>97.409092</td>\n",
       "      <td>45.935031</td>\n",
       "    </tr>\n",
       "    <tr>\n",
       "      <th>1</th>\n",
       "      <td>724.309701</td>\n",
       "      <td>-46.328663</td>\n",
       "      <td>-92.663238</td>\n",
       "      <td>68.992221</td>\n",
       "      <td>-29.175890</td>\n",
       "      <td>5.371945</td>\n",
       "      <td>-16.374538</td>\n",
       "      <td>338.860947</td>\n",
       "      <td>484.268260</td>\n",
       "      <td>-11.477846</td>\n",
       "      <td>...</td>\n",
       "      <td>13.489547</td>\n",
       "      <td>-4.034458</td>\n",
       "      <td>1.811152</td>\n",
       "      <td>-178.922599</td>\n",
       "      <td>28.418104</td>\n",
       "      <td>-4.046495</td>\n",
       "      <td>67.445429</td>\n",
       "      <td>-252.967206</td>\n",
       "      <td>-41.370829</td>\n",
       "      <td>104.956729</td>\n",
       "    </tr>\n",
       "    <tr>\n",
       "      <th>2</th>\n",
       "      <td>-162.099679</td>\n",
       "      <td>-56.576062</td>\n",
       "      <td>-272.157142</td>\n",
       "      <td>322.009657</td>\n",
       "      <td>34.637035</td>\n",
       "      <td>12.811080</td>\n",
       "      <td>9.454688</td>\n",
       "      <td>497.937705</td>\n",
       "      <td>-295.221839</td>\n",
       "      <td>7.241079</td>\n",
       "      <td>...</td>\n",
       "      <td>-3.533370</td>\n",
       "      <td>-1.271312</td>\n",
       "      <td>1.607351</td>\n",
       "      <td>56.264072</td>\n",
       "      <td>98.333819</td>\n",
       "      <td>0.635872</td>\n",
       "      <td>41.959212</td>\n",
       "      <td>-389.424099</td>\n",
       "      <td>15.897548</td>\n",
       "      <td>-116.713306</td>\n",
       "    </tr>\n",
       "    <tr>\n",
       "      <th>3</th>\n",
       "      <td>124.592334</td>\n",
       "      <td>-134.202663</td>\n",
       "      <td>170.577959</td>\n",
       "      <td>696.756323</td>\n",
       "      <td>38.434164</td>\n",
       "      <td>36.703554</td>\n",
       "      <td>28.652137</td>\n",
       "      <td>25.833893</td>\n",
       "      <td>-480.342108</td>\n",
       "      <td>-0.477656</td>\n",
       "      <td>...</td>\n",
       "      <td>1.678955</td>\n",
       "      <td>1.806450</td>\n",
       "      <td>1.762150</td>\n",
       "      <td>59.282222</td>\n",
       "      <td>189.780400</td>\n",
       "      <td>-2.034488</td>\n",
       "      <td>36.288556</td>\n",
       "      <td>753.776958</td>\n",
       "      <td>-19.415210</td>\n",
       "      <td>-9.373805</td>\n",
       "    </tr>\n",
       "    <tr>\n",
       "      <th>4</th>\n",
       "      <td>299.149503</td>\n",
       "      <td>484.922307</td>\n",
       "      <td>-448.411567</td>\n",
       "      <td>-353.629760</td>\n",
       "      <td>41.490082</td>\n",
       "      <td>55.510685</td>\n",
       "      <td>-37.862211</td>\n",
       "      <td>57.767885</td>\n",
       "      <td>-1836.476476</td>\n",
       "      <td>0.682029</td>\n",
       "      <td>...</td>\n",
       "      <td>2.001763</td>\n",
       "      <td>2.387547</td>\n",
       "      <td>2.744792</td>\n",
       "      <td>95.135193</td>\n",
       "      <td>-155.743928</td>\n",
       "      <td>-6.304211</td>\n",
       "      <td>67.189772</td>\n",
       "      <td>-318.825791</td>\n",
       "      <td>-23.965919</td>\n",
       "      <td>7.800324</td>\n",
       "    </tr>\n",
       "  </tbody>\n",
       "</table>\n",
       "<p>5 rows × 1000 columns</p>\n",
       "</div>"
      ],
      "text/plain": [
       "          0           1           2           3          4          5    \\\n",
       "0  182.284945   75.687145  -59.667496   99.888835 -22.276880  21.414914   \n",
       "1  724.309701  -46.328663  -92.663238   68.992221 -29.175890   5.371945   \n",
       "2 -162.099679  -56.576062 -272.157142  322.009657  34.637035  12.811080   \n",
       "3  124.592334 -134.202663  170.577959  696.756323  38.434164  36.703554   \n",
       "4  299.149503  484.922307 -448.411567 -353.629760  41.490082  55.510685   \n",
       "\n",
       "         6           7            8          9    ...         990        991  \\\n",
       "0  61.741056  175.586513   160.418196 -61.591302  ...  127.518738 -18.982413   \n",
       "1 -16.374538  338.860947   484.268260 -11.477846  ...   13.489547  -4.034458   \n",
       "2   9.454688  497.937705  -295.221839   7.241079  ...   -3.533370  -1.271312   \n",
       "3  28.652137   25.833893  -480.342108  -0.477656  ...    1.678955   1.806450   \n",
       "4 -37.862211   57.767885 -1836.476476   0.682029  ...    2.001763   2.387547   \n",
       "\n",
       "          992         993         994        995        996         997  \\\n",
       "0  109.888471  -70.853506  -31.549052  16.512492  42.772834  152.718240   \n",
       "1    1.811152 -178.922599   28.418104  -4.046495  67.445429 -252.967206   \n",
       "2    1.607351   56.264072   98.333819   0.635872  41.959212 -389.424099   \n",
       "3    1.762150   59.282222  189.780400  -2.034488  36.288556  753.776958   \n",
       "4    2.744792   95.135193 -155.743928  -6.304211  67.189772 -318.825791   \n",
       "\n",
       "         998         999  \n",
       "0  97.409092   45.935031  \n",
       "1 -41.370829  104.956729  \n",
       "2  15.897548 -116.713306  \n",
       "3 -19.415210   -9.373805  \n",
       "4 -23.965919    7.800324  \n",
       "\n",
       "[5 rows x 1000 columns]"
      ]
     },
     "execution_count": 49,
     "metadata": {},
     "output_type": "execute_result"
    }
   ],
   "source": [
    "# 5 years projection(rows) 1000 simulations (columns)\n",
    "simulation_df_sc4"
   ]
  },
  {
   "cell_type": "code",
   "execution_count": 50,
   "metadata": {},
   "outputs": [
    {
     "data": {
      "image/png": "[encoded data removed]",
      "text/plain": [
       "<Figure size 432x288 with 1 Axes>"
      ]
     },
     "metadata": {
      "needs_background": "light"
     },
     "output_type": "display_data"
    }
   ],
   "source": [
    "createPlot(simulation_df_sc4)"
   ]
  },
  {
   "cell_type": "markdown",
   "metadata": {},
   "source": [
    "# Scenario_5 - Covid did Happen - VShaped Recession - Major Fixed costs"
   ]
  },
  {
   "cell_type": "markdown",
   "metadata": {},
   "source": [
    "The forth scenario makes the same assumptions as scenario_2 in terms of gdp growth and inflation but this time it assumes that fever-tree has major fixed costs associated with cost of sales and as a result EBITDA as a % of sales is lower. The following assumption are used:\n",
    "\n",
    "* GDP Growth follows a normal distribution with mean equal to 0.8% and a standard deviation equal to 7.6% (based on 5 years forecasted Vshaped GDP growth). \n",
    "* Inflation follows a normal distribution with mean 1.3% and standard deviation of 0.4% (based on 5 years forecasted Vshaped inflation)\n",
    "* EBITDA as a percentage of revenues is always the same and equal to 20.00%.\n",
    "* There is no correlation between gdp growtn and inflation."
   ]
  },
  {
   "cell_type": "code",
   "execution_count": 51,
   "metadata": {},
   "outputs": [],
   "source": [
    "# standard deviation of gdp growth and inflation\n",
    "gdp_std = df_fct['%gdp_growth_fct_vs'].std()\n",
    "inf_std = df_fct['%inflation_fct_vs'].std()\n",
    "#mean of gdp and inflation\n",
    "gdp_mean = df_fct['%gdp_growth_fct_vs'].mean()\n",
    "inf_mean = df_fct['%inflation_fct_vs'].mean()\n",
    "#last reported revenue in millions \n",
    "last_revenue  = 260.5\n",
    "#EBITDA as % of revenue\n",
    "ebitda_pct = 0.20\n",
    "#last EBITDA\n",
    "last_ebitda = 77.00"
   ]
  },
  {
   "cell_type": "code",
   "execution_count": 52,
   "metadata": {},
   "outputs": [],
   "source": [
    "simulation_df_sc5 = monteCarloDataframe(num_simulations,num_years,gdp_mean,gdp_std,inf_mean,inf_std,gdp_coef,inf_coef,last_revenue,ebitda_pct)"
   ]
  },
  {
   "cell_type": "code",
   "execution_count": 53,
   "metadata": {},
   "outputs": [
    {
     "data": {
      "text/html": [
       "<div>\n",
       "<style scoped>\n",
       "    .dataframe tbody tr th:only-of-type {\n",
       "        vertical-align: middle;\n",
       "    }\n",
       "\n",
       "    .dataframe tbody tr th {\n",
       "        vertical-align: top;\n",
       "    }\n",
       "\n",
       "    .dataframe thead th {\n",
       "        text-align: right;\n",
       "    }\n",
       "</style>\n",
       "<table border=\"1\" class=\"dataframe\">\n",
       "  <thead>\n",
       "    <tr style=\"text-align: right;\">\n",
       "      <th></th>\n",
       "      <th>0</th>\n",
       "      <th>1</th>\n",
       "      <th>2</th>\n",
       "      <th>3</th>\n",
       "      <th>4</th>\n",
       "      <th>5</th>\n",
       "      <th>6</th>\n",
       "      <th>7</th>\n",
       "      <th>8</th>\n",
       "      <th>9</th>\n",
       "      <th>...</th>\n",
       "      <th>990</th>\n",
       "      <th>991</th>\n",
       "      <th>992</th>\n",
       "      <th>993</th>\n",
       "      <th>994</th>\n",
       "      <th>995</th>\n",
       "      <th>996</th>\n",
       "      <th>997</th>\n",
       "      <th>998</th>\n",
       "      <th>999</th>\n",
       "    </tr>\n",
       "  </thead>\n",
       "  <tbody>\n",
       "    <tr>\n",
       "      <th>0</th>\n",
       "      <td>-82.223117</td>\n",
       "      <td>163.993963</td>\n",
       "      <td>-49.676011</td>\n",
       "      <td>-54.101487</td>\n",
       "      <td>-13.904666</td>\n",
       "      <td>63.772746</td>\n",
       "      <td>186.547910</td>\n",
       "      <td>321.583423</td>\n",
       "      <td>49.498677</td>\n",
       "      <td>-8.502488</td>\n",
       "      <td>...</td>\n",
       "      <td>162.059593</td>\n",
       "      <td>121.131646</td>\n",
       "      <td>111.654137</td>\n",
       "      <td>125.905219</td>\n",
       "      <td>24.140219</td>\n",
       "      <td>44.650938</td>\n",
       "      <td>96.702602</td>\n",
       "      <td>99.409698</td>\n",
       "      <td>102.214753</td>\n",
       "      <td>262.122551</td>\n",
       "    </tr>\n",
       "    <tr>\n",
       "      <th>1</th>\n",
       "      <td>-187.141039</td>\n",
       "      <td>33.601111</td>\n",
       "      <td>-36.848104</td>\n",
       "      <td>-158.791122</td>\n",
       "      <td>4.722423</td>\n",
       "      <td>86.590848</td>\n",
       "      <td>-8.189125</td>\n",
       "      <td>-107.994944</td>\n",
       "      <td>63.611843</td>\n",
       "      <td>10.690082</td>\n",
       "      <td>...</td>\n",
       "      <td>448.686936</td>\n",
       "      <td>42.122794</td>\n",
       "      <td>207.533323</td>\n",
       "      <td>-112.251809</td>\n",
       "      <td>80.802872</td>\n",
       "      <td>46.191390</td>\n",
       "      <td>197.704224</td>\n",
       "      <td>-192.120872</td>\n",
       "      <td>-23.244586</td>\n",
       "      <td>838.072076</td>\n",
       "    </tr>\n",
       "    <tr>\n",
       "      <th>2</th>\n",
       "      <td>-911.052035</td>\n",
       "      <td>73.622932</td>\n",
       "      <td>23.080901</td>\n",
       "      <td>-340.813499</td>\n",
       "      <td>11.234717</td>\n",
       "      <td>-190.016971</td>\n",
       "      <td>-12.045744</td>\n",
       "      <td>3.938158</td>\n",
       "      <td>199.912368</td>\n",
       "      <td>-7.018251</td>\n",
       "      <td>...</td>\n",
       "      <td>750.543158</td>\n",
       "      <td>-26.925653</td>\n",
       "      <td>293.409446</td>\n",
       "      <td>216.711201</td>\n",
       "      <td>201.178061</td>\n",
       "      <td>84.465836</td>\n",
       "      <td>-172.854554</td>\n",
       "      <td>-484.550267</td>\n",
       "      <td>21.927002</td>\n",
       "      <td>1614.219469</td>\n",
       "    </tr>\n",
       "    <tr>\n",
       "      <th>3</th>\n",
       "      <td>-3517.035000</td>\n",
       "      <td>247.323412</td>\n",
       "      <td>74.474789</td>\n",
       "      <td>355.540530</td>\n",
       "      <td>49.891595</td>\n",
       "      <td>14.647314</td>\n",
       "      <td>16.698073</td>\n",
       "      <td>4.419168</td>\n",
       "      <td>277.424506</td>\n",
       "      <td>-13.218161</td>\n",
       "      <td>...</td>\n",
       "      <td>918.108727</td>\n",
       "      <td>108.000354</td>\n",
       "      <td>-110.247022</td>\n",
       "      <td>531.067828</td>\n",
       "      <td>-290.819805</td>\n",
       "      <td>161.497347</td>\n",
       "      <td>-455.395241</td>\n",
       "      <td>-1003.985090</td>\n",
       "      <td>62.740431</td>\n",
       "      <td>1227.099405</td>\n",
       "    </tr>\n",
       "    <tr>\n",
       "      <th>4</th>\n",
       "      <td>-14074.861784</td>\n",
       "      <td>-98.012273</td>\n",
       "      <td>121.582024</td>\n",
       "      <td>1106.483402</td>\n",
       "      <td>-65.337834</td>\n",
       "      <td>13.707510</td>\n",
       "      <td>28.787628</td>\n",
       "      <td>14.712778</td>\n",
       "      <td>106.762784</td>\n",
       "      <td>26.609470</td>\n",
       "      <td>...</td>\n",
       "      <td>-1848.680737</td>\n",
       "      <td>-138.611998</td>\n",
       "      <td>-43.992927</td>\n",
       "      <td>-160.379946</td>\n",
       "      <td>-990.805054</td>\n",
       "      <td>406.183957</td>\n",
       "      <td>35.726906</td>\n",
       "      <td>-4468.049255</td>\n",
       "      <td>88.665542</td>\n",
       "      <td>1944.304959</td>\n",
       "    </tr>\n",
       "  </tbody>\n",
       "</table>\n",
       "<p>5 rows × 1000 columns</p>\n",
       "</div>"
      ],
      "text/plain": [
       "            0           1           2            3          4           5    \\\n",
       "0    -82.223117  163.993963  -49.676011   -54.101487 -13.904666   63.772746   \n",
       "1   -187.141039   33.601111  -36.848104  -158.791122   4.722423   86.590848   \n",
       "2   -911.052035   73.622932   23.080901  -340.813499  11.234717 -190.016971   \n",
       "3  -3517.035000  247.323412   74.474789   355.540530  49.891595   14.647314   \n",
       "4 -14074.861784  -98.012273  121.582024  1106.483402 -65.337834   13.707510   \n",
       "\n",
       "          6           7           8          9    ...          990  \\\n",
       "0  186.547910  321.583423   49.498677  -8.502488  ...   162.059593   \n",
       "1   -8.189125 -107.994944   63.611843  10.690082  ...   448.686936   \n",
       "2  -12.045744    3.938158  199.912368  -7.018251  ...   750.543158   \n",
       "3   16.698073    4.419168  277.424506 -13.218161  ...   918.108727   \n",
       "4   28.787628   14.712778  106.762784  26.609470  ... -1848.680737   \n",
       "\n",
       "          991         992         993         994         995         996  \\\n",
       "0  121.131646  111.654137  125.905219   24.140219   44.650938   96.702602   \n",
       "1   42.122794  207.533323 -112.251809   80.802872   46.191390  197.704224   \n",
       "2  -26.925653  293.409446  216.711201  201.178061   84.465836 -172.854554   \n",
       "3  108.000354 -110.247022  531.067828 -290.819805  161.497347 -455.395241   \n",
       "4 -138.611998  -43.992927 -160.379946 -990.805054  406.183957   35.726906   \n",
       "\n",
       "           997         998          999  \n",
       "0    99.409698  102.214753   262.122551  \n",
       "1  -192.120872  -23.244586   838.072076  \n",
       "2  -484.550267   21.927002  1614.219469  \n",
       "3 -1003.985090   62.740431  1227.099405  \n",
       "4 -4468.049255   88.665542  1944.304959  \n",
       "\n",
       "[5 rows x 1000 columns]"
      ]
     },
     "execution_count": 53,
     "metadata": {},
     "output_type": "execute_result"
    }
   ],
   "source": [
    "# 5 years projection(rows) 1000 simulations (columns)\n",
    "simulation_df_sc5"
   ]
  },
  {
   "cell_type": "code",
   "execution_count": 54,
   "metadata": {},
   "outputs": [
    {
     "data": {
      "image/png": "[encoded data removed]",
      "text/plain": [
       "<Figure size 432x288 with 1 Axes>"
      ]
     },
     "metadata": {
      "needs_background": "light"
     },
     "output_type": "display_data"
    }
   ],
   "source": [
    "createPlot(simulation_df_sc5)"
   ]
  },
  {
   "cell_type": "markdown",
   "metadata": {},
   "source": [
    "# Statistics"
   ]
  },
  {
   "cell_type": "markdown",
   "metadata": {},
   "source": [
    "## Scenario_1  - Year 5 EBITDA Projections"
   ]
  },
  {
   "cell_type": "markdown",
   "metadata": {},
   "source": [
    "### Key observations\n",
    "* In 50% of projections EBITDA takes values between 716m and 917m\n",
    "* The mean is 823m and the median 811m which suggests that the distribution of our data is slightly positively skewed."
   ]
  },
  {
   "cell_type": "code",
   "execution_count": 70,
   "metadata": {},
   "outputs": [],
   "source": [
    "simulation_df_sc1_tr = simulation_df_sc1.transpose()\n",
    "simulation_df_sc1_tr.columns = [2020,2021,2022,2023,2024]"
   ]
  },
  {
   "cell_type": "code",
   "execution_count": 71,
   "metadata": {},
   "outputs": [
    {
     "data": {
      "text/plain": [
       "<AxesSubplot:>"
      ]
     },
     "execution_count": 71,
     "metadata": {},
     "output_type": "execute_result"
    },
    {
     "data": {
      "image/png": "[encoded data removed]",
      "text/plain": [
       "<Figure size 432x288 with 1 Axes>"
      ]
     },
     "metadata": {
      "needs_background": "light"
     },
     "output_type": "display_data"
    }
   ],
   "source": [
    "simulation_df_sc1_tr[2024].hist(bins=100)"
   ]
  },
  {
   "cell_type": "code",
   "execution_count": 72,
   "metadata": {},
   "outputs": [
    {
     "data": {
      "text/plain": [
       "count    1000.000000\n",
       "mean      823.222925\n",
       "std       149.220028\n",
       "min       428.723042\n",
       "25%       716.940842\n",
       "50%       811.775768\n",
       "75%       917.301932\n",
       "max      1330.252320\n",
       "Name: 2024, dtype: float64"
      ]
     },
     "execution_count": 72,
     "metadata": {},
     "output_type": "execute_result"
    }
   ],
   "source": [
    "simulation_df_sc1_tr[2024].describe()"
   ]
  },
  {
   "cell_type": "markdown",
   "metadata": {},
   "source": [
    "## Scenario_2  - Year 5"
   ]
  },
  {
   "cell_type": "markdown",
   "metadata": {},
   "source": [
    "### Key observations\n",
    "* In 50% of projections EBITDA takes values between -268m and 321m\n",
    "* The mean is 411m and the media close to zero which suggests that the distribution of our data is heavily positively skewed."
   ]
  },
  {
   "cell_type": "code",
   "execution_count": 73,
   "metadata": {},
   "outputs": [],
   "source": [
    "simulation_df_sc2_tr = simulation_df_sc2.transpose()\n",
    "simulation_df_sc2_tr.columns = [2020,2021,2022,2023,2024]"
   ]
  },
  {
   "cell_type": "code",
   "execution_count": 74,
   "metadata": {},
   "outputs": [
    {
     "data": {
      "text/plain": [
       "<AxesSubplot:>"
      ]
     },
     "execution_count": 74,
     "metadata": {},
     "output_type": "execute_result"
    },
    {
     "data": {
      "image/png": "[encoded data removed]",
      "text/plain": [
       "<Figure size 432x288 with 1 Axes>"
      ]
     },
     "metadata": {
      "needs_background": "light"
     },
     "output_type": "display_data"
    }
   ],
   "source": [
    "simulation_df_sc2_tr[2024].hist(bins=100)"
   ]
  },
  {
   "cell_type": "code",
   "execution_count": 75,
   "metadata": {},
   "outputs": [
    {
     "data": {
      "text/plain": [
       "count     1000.000000\n",
       "mean       411.161522\n",
       "std       5160.989425\n",
       "min     -50062.833905\n",
       "25%       -268.580825\n",
       "50%          0.154580\n",
       "75%        321.136302\n",
       "max      50259.000739\n",
       "Name: 2024, dtype: float64"
      ]
     },
     "execution_count": 75,
     "metadata": {},
     "output_type": "execute_result"
    }
   ],
   "source": [
    "simulation_df_sc2_tr[2024].describe()"
   ]
  },
  {
   "cell_type": "markdown",
   "metadata": {},
   "source": [
    "## Scenario_3 - Year 5"
   ]
  },
  {
   "cell_type": "markdown",
   "metadata": {},
   "source": [
    "### Key observations\n",
    "* In 50% of projections EBITDA takes values between -93m and 138m\n",
    "* The mean is 93m and the median close to zero which suggests that the distribution of our data is heavily positively skewed."
   ]
  },
  {
   "cell_type": "code",
   "execution_count": 61,
   "metadata": {},
   "outputs": [],
   "source": [
    "simulation_df_sc3_tr = simulation_df_sc3.transpose()\n",
    "simulation_df_sc3_tr.columns = [2020,2021,2022,2023,2024]"
   ]
  },
  {
   "cell_type": "code",
   "execution_count": 62,
   "metadata": {},
   "outputs": [
    {
     "data": {
      "text/plain": [
       "<AxesSubplot:>"
      ]
     },
     "execution_count": 62,
     "metadata": {},
     "output_type": "execute_result"
    },
    {
     "data": {
      "image/png": "[encoded data removed]",
      "text/plain": [
       "<Figure size 432x288 with 1 Axes>"
      ]
     },
     "metadata": {
      "needs_background": "light"
     },
     "output_type": "display_data"
    }
   ],
   "source": [
    "simulation_df_sc3_tr[2024].hist(bins=100)"
   ]
  },
  {
   "cell_type": "code",
   "execution_count": 63,
   "metadata": {},
   "outputs": [
    {
     "data": {
      "text/plain": [
       "count     1000.000000\n",
       "mean        93.073725\n",
       "std       1809.823198\n",
       "min     -16889.932688\n",
       "25%        -93.657011\n",
       "50%          0.723803\n",
       "75%        138.674970\n",
       "max      27118.602464\n",
       "Name: 2024, dtype: float64"
      ]
     },
     "execution_count": 63,
     "metadata": {},
     "output_type": "execute_result"
    }
   ],
   "source": [
    "simulation_df_sc3_tr[2024].describe()"
   ]
  },
  {
   "cell_type": "markdown",
   "metadata": {},
   "source": [
    "## Scenario_4 - Year 5"
   ]
  },
  {
   "cell_type": "markdown",
   "metadata": {},
   "source": [
    "### Key observations\n",
    "* In 50% of projections EBITDA takes values between -59m and 98m\n",
    "* The mean is 62m and the median close to zero."
   ]
  },
  {
   "cell_type": "code",
   "execution_count": 80,
   "metadata": {},
   "outputs": [],
   "source": [
    "simulation_df_sc4_tr = simulation_df_sc4.transpose()\n",
    "simulation_df_sc4_tr.columns = [2020,2021,2022,2023,2024]"
   ]
  },
  {
   "cell_type": "code",
   "execution_count": 81,
   "metadata": {},
   "outputs": [
    {
     "data": {
      "text/plain": [
       "<AxesSubplot:>"
      ]
     },
     "execution_count": 81,
     "metadata": {},
     "output_type": "execute_result"
    },
    {
     "data": {
      "image/png": "[encoded data removed]",
      "text/plain": [
       "<Figure size 432x288 with 1 Axes>"
      ]
     },
     "metadata": {
      "needs_background": "light"
     },
     "output_type": "display_data"
    }
   ],
   "source": [
    "simulation_df_sc4_tr[2024].hist(bins=100)"
   ]
  },
  {
   "cell_type": "code",
   "execution_count": 82,
   "metadata": {},
   "outputs": [
    {
     "data": {
      "text/plain": [
       "count     1000.000000\n",
       "mean        62.159737\n",
       "std       1272.001803\n",
       "min     -17334.350598\n",
       "25%        -59.335874\n",
       "50%          0.587432\n",
       "75%         98.258924\n",
       "max      12687.029018\n",
       "Name: 2024, dtype: float64"
      ]
     },
     "execution_count": 82,
     "metadata": {},
     "output_type": "execute_result"
    }
   ],
   "source": [
    "simulation_df_sc4_tr[2024].describe()"
   ]
  },
  {
   "cell_type": "markdown",
   "metadata": {},
   "source": [
    "## Scenario_5 - Year 5"
   ]
  },
  {
   "cell_type": "markdown",
   "metadata": {},
   "source": [
    "### Key observations\n",
    "* In 50% of projections EBITDA takes values between -166m and 260m\n",
    "* The mean is 167m and the median 2.4m."
   ]
  },
  {
   "cell_type": "code",
   "execution_count": 92,
   "metadata": {},
   "outputs": [],
   "source": [
    "simulation_df_sc5_tr = simulation_df_sc5.transpose()\n",
    "simulation_df_sc5_tr.columns = [2020,2021,2022,2023,2024]"
   ]
  },
  {
   "cell_type": "code",
   "execution_count": 93,
   "metadata": {},
   "outputs": [
    {
     "data": {
      "text/plain": [
       "<AxesSubplot:>"
      ]
     },
     "execution_count": 93,
     "metadata": {},
     "output_type": "execute_result"
    },
    {
     "data": {
      "image/png": "[encoded data removed]",
      "text/plain": [
       "<Figure size 432x288 with 1 Axes>"
      ]
     },
     "metadata": {
      "needs_background": "light"
     },
     "output_type": "display_data"
    }
   ],
   "source": [
    "simulation_df_sc5_tr[2024].hist(bins=100)"
   ]
  },
  {
   "cell_type": "code",
   "execution_count": 94,
   "metadata": {},
   "outputs": [
    {
     "data": {
      "text/plain": [
       "count     1000.000000\n",
       "mean       167.032579\n",
       "std       3088.238358\n",
       "min     -25716.860883\n",
       "25%       -166.090074\n",
       "50%          2.485985\n",
       "75%        260.621362\n",
       "max      49781.522072\n",
       "Name: 2024, dtype: float64"
      ]
     },
     "execution_count": 94,
     "metadata": {},
     "output_type": "execute_result"
    }
   ],
   "source": [
    "simulation_df_sc5_tr[2024].describe()"
   ]
  },
  {
   "cell_type": "markdown",
   "metadata": {},
   "source": [
    "# Conlusion & Limitation of Analysis"
   ]
  },
  {
   "cell_type": "markdown",
   "metadata": {},
   "source": [
    "In this analysis multiple linear regression and Monte Carlo simulation were used to predict the EBITDA of Fever-Tree the next five years. Two predictors were used to estimate Fever-Tree's revenue growth. Namely GDP growth and inflation. It was assumed that a linear relationship exists between the independent (GDP growth, inflation) and the dependent (revenue growth) variables. Moreover, it was assumed that there is no correlation between GDP growth and inflation. Finally, it was assumed that EBITDA as a percentage of revenue is always the same. Five different scenarios were run to examine the effect of no recession, Vshaped recession, Lshaped recession on EBITDA predictions. All the results along with statistics are documented above.\n",
    "\n",
    "The limitations of the analysis above are the following:\n",
    "* Limited available data e.g. is 9 years historic and five years of forecasted data.\n",
    "* Multiple linear regression requires at least 30 independent observations to estimate coefficients but due to lack of data only nine were used in this exercise.\n",
    "* The standard deviation of historic data is not suitable for predicting future results e.g. the standard deviation of GDP Growth is expected to be much higher due to recession caused by covid.\n",
    "* The forecasted standard deviation could produce extreme positive or negative EBITDA predictions when Monte Carlo simulation is used.\n",
    "* GDP growth and inflation are assumed to have zero correlation which is reality could be not true.\n",
    "* Only two predictors where used to estimate revenue growth e.g. GDP growth and Inflation. There are more predictors which could explain Fever-Tree’s revenue e.g. unemployment growth.\n",
    "* The relation between revenue growth and the independent variables could be nonlinear. It would be interesting to experiment with a nonlinear model like nonlinear support vector regression.\n",
    "* For simplicity EBITDA as a percentage of revenue was assumed to be always the same. In reality this is not true because cost of sales includes a mixture of fixed and variable costs.\n",
    "\n"
   ]
  },
  {
   "cell_type": "code",
   "execution_count": null,
   "metadata": {},
   "outputs": [],
   "source": []
  }
 ],
 "metadata": {
  "kernelspec": {
   "display_name": "Python 3",
   "language": "python",
   "name": "python3"
  },
  "language_info": {
   "codemirror_mode": {
    "name": "ipython",
    "version": 3
   },
   "file_extension": ".py",
   "mimetype": "text/x-python",
   "name": "python",
   "nbconvert_exporter": "python",
   "pygments_lexer": "ipython3",
   "version": "3.8.3"
  }
 },
 "nbformat": 4,
 "nbformat_minor": 4
}

{
 "cells": [
  {
   "cell_type": "code",
   "execution_count": 1,
   "metadata": {},
   "outputs": [],
   "source": [
    "import pandas_datareader.data as web\n",
    "import pandas as pd\n",
    "import datetime as dt\n",
    "import numpy as np\n",
    "from sklearn.linear_model import LinearRegression\n",
    "%matplotlib inline\n",
    "import matplotlib.pyplot as plt"
   ]
  },
  {
   "cell_type": "code",
   "execution_count": 2,
   "metadata": {},
   "outputs": [],
   "source": [
    "#Number of simulations\n",
    "num_simulations = 1000\n",
    "#Number of years\n",
    "num_years = 5"
   ]
  },
  {
   "cell_type": "markdown",
   "metadata": {},
   "source": [
    "# Import data & create dataframe"
   ]
  },
  {
   "cell_type": "markdown",
   "metadata": {},
   "source": [
    "In this exercise two datasets will be used. The first one includes historic revenue growth, GDP growth and inflation while the second includes five-year forecasts for GDP growth and inflation. The historic figures where extracted from Fever-Tree annual accounts and the office of national statistics while the forecasted from the September 2020 PWC UK Economic Update."
   ]
  },
  {
   "cell_type": "code",
   "execution_count": 3,
   "metadata": {},
   "outputs": [],
   "source": [
    "#read historic data\n",
    "df = pd.read_csv('data.csv',header=None)\n",
    "df.columns=['revenue','%gdp_growth','%inflation']\n",
    "#read forecasted data\n",
    "df_fct = pd.read_csv('data_fct.csv',header=None)\n",
    "df_fct.columns=['%gdp_growth_fct_vs','%inflation_fct_vs','%gdp_growth_fct_ls','%inflation_fct_ls']"
   ]
  },
  {
   "cell_type": "code",
   "execution_count": 4,
   "metadata": {},
   "outputs": [
    {
     "data": {
      "text/html": [
       "<div>\n",
       "<style scoped>\n",
       "    .dataframe tbody tr th:only-of-type {\n",
       "        vertical-align: middle;\n",
       "    }\n",
       "\n",
       "    .dataframe tbody tr th {\n",
       "        vertical-align: top;\n",
       "    }\n",
       "\n",
       "    .dataframe thead th {\n",
       "        text-align: right;\n",
       "    }\n",
       "</style>\n",
       "<table border=\"1\" class=\"dataframe\">\n",
       "  <thead>\n",
       "    <tr style=\"text-align: right;\">\n",
       "      <th></th>\n",
       "      <th>revenue</th>\n",
       "      <th>%gdp_growth</th>\n",
       "      <th>%inflation</th>\n",
       "    </tr>\n",
       "  </thead>\n",
       "  <tbody>\n",
       "    <tr>\n",
       "      <th>0</th>\n",
       "      <td>0.097304</td>\n",
       "      <td>0.015</td>\n",
       "      <td>0.018</td>\n",
       "    </tr>\n",
       "    <tr>\n",
       "      <th>1</th>\n",
       "      <td>0.395067</td>\n",
       "      <td>0.013</td>\n",
       "      <td>0.025</td>\n",
       "    </tr>\n",
       "    <tr>\n",
       "      <th>2</th>\n",
       "      <td>0.664476</td>\n",
       "      <td>0.019</td>\n",
       "      <td>0.027</td>\n",
       "    </tr>\n",
       "    <tr>\n",
       "      <th>3</th>\n",
       "      <td>0.725461</td>\n",
       "      <td>0.019</td>\n",
       "      <td>0.007</td>\n",
       "    </tr>\n",
       "    <tr>\n",
       "      <th>4</th>\n",
       "      <td>0.707993</td>\n",
       "      <td>0.024</td>\n",
       "      <td>0.004</td>\n",
       "    </tr>\n",
       "    <tr>\n",
       "      <th>5</th>\n",
       "      <td>0.488756</td>\n",
       "      <td>0.026</td>\n",
       "      <td>0.015</td>\n",
       "    </tr>\n",
       "    <tr>\n",
       "      <th>6</th>\n",
       "      <td>0.438395</td>\n",
       "      <td>0.021</td>\n",
       "      <td>0.026</td>\n",
       "    </tr>\n",
       "    <tr>\n",
       "      <th>7</th>\n",
       "      <td>0.350000</td>\n",
       "      <td>0.015</td>\n",
       "      <td>0.028</td>\n",
       "    </tr>\n",
       "    <tr>\n",
       "      <th>8</th>\n",
       "      <td>0.791045</td>\n",
       "      <td>0.015</td>\n",
       "      <td>0.045</td>\n",
       "    </tr>\n",
       "  </tbody>\n",
       "</table>\n",
       "</div>"
      ],
      "text/plain": [
       "    revenue  %gdp_growth  %inflation\n",
       "0  0.097304        0.015       0.018\n",
       "1  0.395067        0.013       0.025\n",
       "2  0.664476        0.019       0.027\n",
       "3  0.725461        0.019       0.007\n",
       "4  0.707993        0.024       0.004\n",
       "5  0.488756        0.026       0.015\n",
       "6  0.438395        0.021       0.026\n",
       "7  0.350000        0.015       0.028\n",
       "8  0.791045        0.015       0.045"
      ]
     },
     "execution_count": 4,
     "metadata": {},
     "output_type": "execute_result"
    }
   ],
   "source": [
    "df"
   ]
  },
  {
   "cell_type": "code",
   "execution_count": 5,
   "metadata": {},
   "outputs": [
    {
     "data": {
      "text/html": [
       "<div>\n",
       "<style scoped>\n",
       "    .dataframe tbody tr th:only-of-type {\n",
       "        vertical-align: middle;\n",
       "    }\n",
       "\n",
       "    .dataframe tbody tr th {\n",
       "        vertical-align: top;\n",
       "    }\n",
       "\n",
       "    .dataframe thead th {\n",
       "        text-align: right;\n",
       "    }\n",
       "</style>\n",
       "<table border=\"1\" class=\"dataframe\">\n",
       "  <thead>\n",
       "    <tr style=\"text-align: right;\">\n",
       "      <th></th>\n",
       "      <th>%gdp_growth_fct_vs</th>\n",
       "      <th>%inflation_fct_vs</th>\n",
       "      <th>%gdp_growth_fct_ls</th>\n",
       "      <th>%inflation_fct_ls</th>\n",
       "    </tr>\n",
       "  </thead>\n",
       "  <tbody>\n",
       "    <tr>\n",
       "      <th>0</th>\n",
       "      <td>0.018</td>\n",
       "      <td>0.0162</td>\n",
       "      <td>0.018</td>\n",
       "      <td>0.0162</td>\n",
       "    </tr>\n",
       "    <tr>\n",
       "      <th>1</th>\n",
       "      <td>0.018</td>\n",
       "      <td>0.0162</td>\n",
       "      <td>0.018</td>\n",
       "      <td>0.0162</td>\n",
       "    </tr>\n",
       "    <tr>\n",
       "      <th>2</th>\n",
       "      <td>0.018</td>\n",
       "      <td>0.0162</td>\n",
       "      <td>0.018</td>\n",
       "      <td>0.0162</td>\n",
       "    </tr>\n",
       "    <tr>\n",
       "      <th>3</th>\n",
       "      <td>0.101</td>\n",
       "      <td>0.0150</td>\n",
       "      <td>0.039</td>\n",
       "      <td>0.0120</td>\n",
       "    </tr>\n",
       "    <tr>\n",
       "      <th>4</th>\n",
       "      <td>-0.111</td>\n",
       "      <td>0.0050</td>\n",
       "      <td>-0.120</td>\n",
       "      <td>0.0050</td>\n",
       "    </tr>\n",
       "  </tbody>\n",
       "</table>\n",
       "</div>"
      ],
      "text/plain": [
       "   %gdp_growth_fct_vs  %inflation_fct_vs  %gdp_growth_fct_ls  \\\n",
       "0               0.018             0.0162               0.018   \n",
       "1               0.018             0.0162               0.018   \n",
       "2               0.018             0.0162               0.018   \n",
       "3               0.101             0.0150               0.039   \n",
       "4              -0.111             0.0050              -0.120   \n",
       "\n",
       "   %inflation_fct_ls  \n",
       "0             0.0162  \n",
       "1             0.0162  \n",
       "2             0.0162  \n",
       "3             0.0120  \n",
       "4             0.0050  "
      ]
     },
     "execution_count": 5,
     "metadata": {},
     "output_type": "execute_result"
    }
   ],
   "source": [
    "df_fct"
   ]
  },
  {
   "cell_type": "markdown",
   "metadata": {},
   "source": [
    "# Linkage between GDP & inflation, and the revenue growth of Fevertree"
   ]
  },
  {
   "cell_type": "markdown",
   "metadata": {},
   "source": [
    "A linear relationship is assumed between revenue growth, GDP growth & inflation. Revenue is the dependent variable while GDP growth and inflation are the independent variables.\n",
    "\n",
    "Multiple linear regression is used to calculate the two coefficients (b1, b2) along and the intercept (b0).\n",
    "\n",
    "$ y =b ₀+b ₁x ₁+b₂x₂+c$  \n",
    "\n",
    "Where y is the revenue growth, b0 the intercept, b1 the coefficient for GDP growth and b2 the coefficient for inflation. After calculating the coefficients and the intercept the equation above becomes:\n",
    "\n",
    "$revenue Growth = 24.92*gdp Growth + 5.62*inflation - 0.06$"
   ]
  },
  {
   "cell_type": "code",
   "execution_count": 6,
   "metadata": {},
   "outputs": [],
   "source": [
    "# create linear regression object\n",
    "mlr = LinearRegression()"
   ]
  },
  {
   "cell_type": "code",
   "execution_count": 7,
   "metadata": {},
   "outputs": [
    {
     "data": {
      "text/plain": [
       "LinearRegression()"
      ]
     },
     "execution_count": 7,
     "metadata": {},
     "output_type": "execute_result"
    }
   ],
   "source": [
    "# fit linear regression\n",
    "mlr.fit(df[['%gdp_growth', '%inflation']], df['revenue'])"
   ]
  },
  {
   "cell_type": "code",
   "execution_count": 8,
   "metadata": {},
   "outputs": [],
   "source": [
    "intercept = mlr.intercept_\n",
    "coefficients = mlr.coef_\n",
    "gdp_coef = coefficients[0]\n",
    "inf_coef = coefficients[1]"
   ]
  },
  {
   "cell_type": "markdown",
   "metadata": {},
   "source": [
    "# Functions"
   ]
  },
  {
   "cell_type": "code",
   "execution_count": 9,
   "metadata": {},
   "outputs": [],
   "source": [
    "def monteCarloDataframe(num_simulations,num_years,gdp_mean,gdp_std,inf_mean,inf_std,gdp_coef,inf_coef,last_revenue,ebitda_pct):\n",
    "    '''Performs the monte carlo simulation and returns a dataframe'''\n",
    "    simulation_df = pd.DataFrame()\n",
    "    for x in range(num_simulations):\n",
    "        count = 0\n",
    "\n",
    "        ebitda_series = []\n",
    "        revenue_series = []\n",
    "        gdp_growth = np.random.normal(loc = gdp_mean, scale = gdp_std)\n",
    "        inflation = np.random.normal(loc = inf_mean, scale = inf_std)\n",
    "        revenue_growth = gdp_coef*gdp_growth + inf_coef*inflation\n",
    "        revenue = last_revenue*(1+revenue_growth)\n",
    "        revenue_series.append(revenue)\n",
    "        ebitda = revenue*ebitda_pct\n",
    "        ebitda_series.append(ebitda)\n",
    "\n",
    "        for y in range(num_years):\n",
    "            if count==num_years-1:\n",
    "                break\n",
    "            gdp_growth = np.random.normal(loc = gdp_mean, scale = gdp_std)\n",
    "            inflation = np.random.normal(loc = inf_mean, scale = inf_std)\n",
    "            revenue_growth = gdp_coef*gdp_growth + inf_coef*inflation\n",
    "            revenue = revenue_series[count]*(1+revenue_growth)\n",
    "            revenue_series.append(revenue)\n",
    "            ebitda = revenue*ebitda_pct\n",
    "            ebitda_series.append(ebitda)\n",
    "            count+=1\n",
    "        simulation_df[x] = ebitda_series\n",
    "        \n",
    "    return simulation_df"
   ]
  },
  {
   "cell_type": "code",
   "execution_count": 10,
   "metadata": {},
   "outputs": [],
   "source": [
    "def createPlot(simulation_df):\n",
    "    ''' Creates a plot'''\n",
    "    fig = plt.figure()\n",
    "    fig.suptitle('Monte Carlo Simulation Fever-Tree')\n",
    "    plt.plot(simulation_df)\n",
    "    plt.axhline(y=last_ebitda,color='r',linestyle='-')\n",
    "    plt.xlabel('Years')\n",
    "    plt.ylabel('EBITDA')\n",
    "    plt.show()"
   ]
  },
  {
   "cell_type": "markdown",
   "metadata": {},
   "source": [
    "# Scenario_1 - Covid didn't Happen"
   ]
  },
  {
   "cell_type": "markdown",
   "metadata": {},
   "source": [
    "The first scenario assumes that covid did not occur and as a result there is no major fluctuations in UK economy. The following assumptions are used:\n",
    "\n",
    "* GDP Growth follows a normal distribution with mean equal to 1.8% and a standard deviation equal to 0.44% (based on past 9 years GDP growth). \n",
    "* Inflation follows a normal distribution with mean 2.1% and standard deviation of 1.2% (based on inflation of the past 9 years)\n",
    "* EBITDA as a percentage of revenues is always the same and equal to 31.52% (average EBITDA of fever-tree the last 7 years)\n",
    "* Inflation and GDP are independent variables e.g. changes in inflation does not affect GDP and vice versa."
   ]
  },
  {
   "cell_type": "code",
   "execution_count": 11,
   "metadata": {},
   "outputs": [],
   "source": [
    "# standard deviation of gdp growth and inflation\n",
    "gdp_std = df['%gdp_growth'].std()\n",
    "inf_std = df['%inflation'].std()\n",
    "#mean of gdp and inflation\n",
    "gdp_mean = df['%gdp_growth'].mean()\n",
    "inf_mean = df['%inflation'].mean()\n",
    "#last reported revenue in millions \n",
    "last_revenue  = 260.5\n",
    "#EBITDA as % of revenue\n",
    "ebitda_pct = 0.3152\n",
    "#last EBITDA\n",
    "last_ebitda = 77.00"
   ]
  },
  {
   "cell_type": "code",
   "execution_count": 12,
   "metadata": {},
   "outputs": [],
   "source": [
    "simulation_df_sc1 = monteCarloDataframe(num_simulations,num_years,gdp_mean,gdp_std,inf_mean,inf_std,gdp_coef,inf_coef,last_revenue,ebitda_pct)"
   ]
  },
  {
   "cell_type": "code",
   "execution_count": 13,
   "metadata": {},
   "outputs": [
    {
     "data": {
      "text/html": [
       "<div>\n",
       "<style scoped>\n",
       "    .dataframe tbody tr th:only-of-type {\n",
       "        vertical-align: middle;\n",
       "    }\n",
       "\n",
       "    .dataframe tbody tr th {\n",
       "        vertical-align: top;\n",
       "    }\n",
       "\n",
       "    .dataframe thead th {\n",
       "        text-align: right;\n",
       "    }\n",
       "</style>\n",
       "<table border=\"1\" class=\"dataframe\">\n",
       "  <thead>\n",
       "    <tr style=\"text-align: right;\">\n",
       "      <th></th>\n",
       "      <th>0</th>\n",
       "      <th>1</th>\n",
       "      <th>2</th>\n",
       "      <th>3</th>\n",
       "      <th>4</th>\n",
       "      <th>5</th>\n",
       "      <th>6</th>\n",
       "      <th>7</th>\n",
       "      <th>8</th>\n",
       "      <th>9</th>\n",
       "      <th>...</th>\n",
       "      <th>990</th>\n",
       "      <th>991</th>\n",
       "      <th>992</th>\n",
       "      <th>993</th>\n",
       "      <th>994</th>\n",
       "      <th>995</th>\n",
       "      <th>996</th>\n",
       "      <th>997</th>\n",
       "      <th>998</th>\n",
       "      <th>999</th>\n",
       "    </tr>\n",
       "  </thead>\n",
       "  <tbody>\n",
       "    <tr>\n",
       "      <th>0</th>\n",
       "      <td>135.333967</td>\n",
       "      <td>149.409093</td>\n",
       "      <td>135.773765</td>\n",
       "      <td>134.895524</td>\n",
       "      <td>142.074401</td>\n",
       "      <td>131.491101</td>\n",
       "      <td>146.884634</td>\n",
       "      <td>123.596223</td>\n",
       "      <td>146.260536</td>\n",
       "      <td>123.885573</td>\n",
       "      <td>...</td>\n",
       "      <td>118.784258</td>\n",
       "      <td>110.496359</td>\n",
       "      <td>120.840422</td>\n",
       "      <td>124.882365</td>\n",
       "      <td>145.685627</td>\n",
       "      <td>135.926104</td>\n",
       "      <td>134.767120</td>\n",
       "      <td>119.025663</td>\n",
       "      <td>127.184689</td>\n",
       "      <td>121.282553</td>\n",
       "    </tr>\n",
       "    <tr>\n",
       "      <th>1</th>\n",
       "      <td>192.571898</td>\n",
       "      <td>215.687104</td>\n",
       "      <td>207.934297</td>\n",
       "      <td>207.135108</td>\n",
       "      <td>228.681380</td>\n",
       "      <td>185.640070</td>\n",
       "      <td>249.182317</td>\n",
       "      <td>198.626382</td>\n",
       "      <td>210.510224</td>\n",
       "      <td>215.338335</td>\n",
       "      <td>...</td>\n",
       "      <td>175.212236</td>\n",
       "      <td>154.892830</td>\n",
       "      <td>187.508574</td>\n",
       "      <td>205.753421</td>\n",
       "      <td>218.689111</td>\n",
       "      <td>240.350138</td>\n",
       "      <td>193.075352</td>\n",
       "      <td>205.011853</td>\n",
       "      <td>201.424174</td>\n",
       "      <td>183.068121</td>\n",
       "    </tr>\n",
       "    <tr>\n",
       "      <th>2</th>\n",
       "      <td>327.739744</td>\n",
       "      <td>342.733803</td>\n",
       "      <td>322.461304</td>\n",
       "      <td>382.792023</td>\n",
       "      <td>365.883344</td>\n",
       "      <td>300.293616</td>\n",
       "      <td>367.671219</td>\n",
       "      <td>329.283273</td>\n",
       "      <td>346.343821</td>\n",
       "      <td>329.354876</td>\n",
       "      <td>...</td>\n",
       "      <td>218.468049</td>\n",
       "      <td>218.284707</td>\n",
       "      <td>308.789350</td>\n",
       "      <td>330.304908</td>\n",
       "      <td>344.277321</td>\n",
       "      <td>383.594738</td>\n",
       "      <td>352.993305</td>\n",
       "      <td>322.105159</td>\n",
       "      <td>321.520715</td>\n",
       "      <td>314.918586</td>\n",
       "    </tr>\n",
       "    <tr>\n",
       "      <th>3</th>\n",
       "      <td>537.090184</td>\n",
       "      <td>612.531096</td>\n",
       "      <td>502.747087</td>\n",
       "      <td>591.587087</td>\n",
       "      <td>579.206171</td>\n",
       "      <td>456.713606</td>\n",
       "      <td>668.620250</td>\n",
       "      <td>474.979053</td>\n",
       "      <td>565.938401</td>\n",
       "      <td>452.242727</td>\n",
       "      <td>...</td>\n",
       "      <td>334.321623</td>\n",
       "      <td>357.059508</td>\n",
       "      <td>505.261554</td>\n",
       "      <td>517.401900</td>\n",
       "      <td>538.610460</td>\n",
       "      <td>583.679034</td>\n",
       "      <td>533.999630</td>\n",
       "      <td>538.416727</td>\n",
       "      <td>551.838879</td>\n",
       "      <td>505.835282</td>\n",
       "    </tr>\n",
       "    <tr>\n",
       "      <th>4</th>\n",
       "      <td>906.554817</td>\n",
       "      <td>803.294908</td>\n",
       "      <td>776.108502</td>\n",
       "      <td>988.431897</td>\n",
       "      <td>957.391694</td>\n",
       "      <td>791.643034</td>\n",
       "      <td>991.602388</td>\n",
       "      <td>728.081688</td>\n",
       "      <td>944.485560</td>\n",
       "      <td>787.508004</td>\n",
       "      <td>...</td>\n",
       "      <td>522.877422</td>\n",
       "      <td>614.212774</td>\n",
       "      <td>728.166692</td>\n",
       "      <td>793.141076</td>\n",
       "      <td>871.537944</td>\n",
       "      <td>970.187450</td>\n",
       "      <td>941.051564</td>\n",
       "      <td>885.715724</td>\n",
       "      <td>703.240416</td>\n",
       "      <td>761.018809</td>\n",
       "    </tr>\n",
       "  </tbody>\n",
       "</table>\n",
       "<p>5 rows × 1000 columns</p>\n",
       "</div>"
      ],
      "text/plain": [
       "          0           1           2           3           4           5    \\\n",
       "0  135.333967  149.409093  135.773765  134.895524  142.074401  131.491101   \n",
       "1  192.571898  215.687104  207.934297  207.135108  228.681380  185.640070   \n",
       "2  327.739744  342.733803  322.461304  382.792023  365.883344  300.293616   \n",
       "3  537.090184  612.531096  502.747087  591.587087  579.206171  456.713606   \n",
       "4  906.554817  803.294908  776.108502  988.431897  957.391694  791.643034   \n",
       "\n",
       "          6           7           8           9    ...         990  \\\n",
       "0  146.884634  123.596223  146.260536  123.885573  ...  118.784258   \n",
       "1  249.182317  198.626382  210.510224  215.338335  ...  175.212236   \n",
       "2  367.671219  329.283273  346.343821  329.354876  ...  218.468049   \n",
       "3  668.620250  474.979053  565.938401  452.242727  ...  334.321623   \n",
       "4  991.602388  728.081688  944.485560  787.508004  ...  522.877422   \n",
       "\n",
       "          991         992         993         994         995         996  \\\n",
       "0  110.496359  120.840422  124.882365  145.685627  135.926104  134.767120   \n",
       "1  154.892830  187.508574  205.753421  218.689111  240.350138  193.075352   \n",
       "2  218.284707  308.789350  330.304908  344.277321  383.594738  352.993305   \n",
       "3  357.059508  505.261554  517.401900  538.610460  583.679034  533.999630   \n",
       "4  614.212774  728.166692  793.141076  871.537944  970.187450  941.051564   \n",
       "\n",
       "          997         998         999  \n",
       "0  119.025663  127.184689  121.282553  \n",
       "1  205.011853  201.424174  183.068121  \n",
       "2  322.105159  321.520715  314.918586  \n",
       "3  538.416727  551.838879  505.835282  \n",
       "4  885.715724  703.240416  761.018809  \n",
       "\n",
       "[5 rows x 1000 columns]"
      ]
     },
     "execution_count": 13,
     "metadata": {},
     "output_type": "execute_result"
    }
   ],
   "source": [
    "# 5 years projection(rows) 1000 simulations (columns)\n",
    "simulation_df_sc1"
   ]
  },
  {
   "cell_type": "code",
   "execution_count": 14,
   "metadata": {},
   "outputs": [
    {
     "data": {
      "image/png": "[encoded data removed]",
      "text/plain": [
       "<Figure size 432x288 with 1 Axes>"
      ]
     },
     "metadata": {
      "needs_background": "light"
     },
     "output_type": "display_data"
    }
   ],
   "source": [
    "createPlot(simulation_df_sc1)"
   ]
  },
  {
   "cell_type": "markdown",
   "metadata": {},
   "source": [
    "# Scenario_2 - Covid did Happen - VShaped Recession"
   ]
  },
  {
   "cell_type": "markdown",
   "metadata": {},
   "source": [
    "The second scenario assumes a major recession in UK economy in 2020, a sharp recovery in 2021 and steady growth thereafter. The GDP growth and inflation forecasts for 2020 and 2021 were obtained from the September PWC UK Economic Update. The GDP growth and inflation for 2022, 2023 and 2024 is assumed to be equal to the average of the last 5 years which signals a return to normality in the medium to long term. The following assumption are used:\n",
    "\n",
    "* GDP Growth follows a normal distribution with mean equal to 0.8% and a standard deviation equal to 7.6% (based on 5 years forecasted Vshaped GDP growth). \n",
    "* Inflation follows a normal distribution with mean 1.3% and standard deviation of 0.4% (based on 5 years forecasted Vshaped inflation).\n",
    "* EBITDA as a percentage of revenues is always the same and equal to 31.52% (average EBITDA of fever-tree the last 7 years).\n",
    "* Inflation and GDP are independent variables e.g. changes in inflation does not affect GDP and vice versa."
   ]
  },
  {
   "cell_type": "code",
   "execution_count": 15,
   "metadata": {},
   "outputs": [],
   "source": [
    "# standard deviation of gdp growth and inflation\n",
    "gdp_std = df_fct['%gdp_growth_fct_vs'].std()\n",
    "inf_std = df_fct['%inflation_fct_vs'].std()\n",
    "#mean of gdp and inflation\n",
    "gdp_mean = df_fct['%gdp_growth_fct_vs'].mean()\n",
    "inf_mean = df_fct['%inflation_fct_vs'].mean()\n",
    "#last reported revenue in millions \n",
    "last_revenue  = 260.5\n",
    "#EBITDA as % of revenue\n",
    "ebitda_pct = 0.3152\n",
    "#last EBITDA\n",
    "last_ebitda = 77.00"
   ]
  },
  {
   "cell_type": "code",
   "execution_count": 16,
   "metadata": {},
   "outputs": [],
   "source": [
    "simulation_df_sc2 = monteCarloDataframe(num_simulations,num_years,gdp_mean,gdp_std,inf_mean,inf_std,gdp_coef,inf_coef,last_revenue,ebitda_pct)"
   ]
  },
  {
   "cell_type": "code",
   "execution_count": 17,
   "metadata": {},
   "outputs": [
    {
     "data": {
      "text/html": [
       "<div>\n",
       "<style scoped>\n",
       "    .dataframe tbody tr th:only-of-type {\n",
       "        vertical-align: middle;\n",
       "    }\n",
       "\n",
       "    .dataframe tbody tr th {\n",
       "        vertical-align: top;\n",
       "    }\n",
       "\n",
       "    .dataframe thead th {\n",
       "        text-align: right;\n",
       "    }\n",
       "</style>\n",
       "<table border=\"1\" class=\"dataframe\">\n",
       "  <thead>\n",
       "    <tr style=\"text-align: right;\">\n",
       "      <th></th>\n",
       "      <th>0</th>\n",
       "      <th>1</th>\n",
       "      <th>2</th>\n",
       "      <th>3</th>\n",
       "      <th>4</th>\n",
       "      <th>5</th>\n",
       "      <th>6</th>\n",
       "      <th>7</th>\n",
       "      <th>8</th>\n",
       "      <th>9</th>\n",
       "      <th>...</th>\n",
       "      <th>990</th>\n",
       "      <th>991</th>\n",
       "      <th>992</th>\n",
       "      <th>993</th>\n",
       "      <th>994</th>\n",
       "      <th>995</th>\n",
       "      <th>996</th>\n",
       "      <th>997</th>\n",
       "      <th>998</th>\n",
       "      <th>999</th>\n",
       "    </tr>\n",
       "  </thead>\n",
       "  <tbody>\n",
       "    <tr>\n",
       "      <th>0</th>\n",
       "      <td>71.298701</td>\n",
       "      <td>144.293310</td>\n",
       "      <td>247.495982</td>\n",
       "      <td>194.496085</td>\n",
       "      <td>-217.161464</td>\n",
       "      <td>488.041774</td>\n",
       "      <td>90.605628</td>\n",
       "      <td>240.195524</td>\n",
       "      <td>111.341336</td>\n",
       "      <td>99.721535</td>\n",
       "      <td>...</td>\n",
       "      <td>-1.044319</td>\n",
       "      <td>56.588013</td>\n",
       "      <td>-87.445470</td>\n",
       "      <td>-105.158540</td>\n",
       "      <td>82.158181</td>\n",
       "      <td>49.056770</td>\n",
       "      <td>30.739954</td>\n",
       "      <td>574.974585</td>\n",
       "      <td>153.985675</td>\n",
       "      <td>97.290989</td>\n",
       "    </tr>\n",
       "    <tr>\n",
       "      <th>1</th>\n",
       "      <td>125.071727</td>\n",
       "      <td>60.299502</td>\n",
       "      <td>443.670727</td>\n",
       "      <td>182.756714</td>\n",
       "      <td>-305.942145</td>\n",
       "      <td>-328.492577</td>\n",
       "      <td>126.449017</td>\n",
       "      <td>943.506563</td>\n",
       "      <td>356.082504</td>\n",
       "      <td>112.806377</td>\n",
       "      <td>...</td>\n",
       "      <td>-3.173561</td>\n",
       "      <td>-77.901494</td>\n",
       "      <td>-217.546627</td>\n",
       "      <td>-150.202867</td>\n",
       "      <td>-153.087703</td>\n",
       "      <td>234.787033</td>\n",
       "      <td>22.242040</td>\n",
       "      <td>2050.708353</td>\n",
       "      <td>496.940175</td>\n",
       "      <td>137.853894</td>\n",
       "    </tr>\n",
       "    <tr>\n",
       "      <th>2</th>\n",
       "      <td>351.760281</td>\n",
       "      <td>11.733273</td>\n",
       "      <td>2730.501794</td>\n",
       "      <td>-106.616368</td>\n",
       "      <td>-1824.474171</td>\n",
       "      <td>-953.927167</td>\n",
       "      <td>87.974774</td>\n",
       "      <td>3143.364947</td>\n",
       "      <td>253.936292</td>\n",
       "      <td>162.669645</td>\n",
       "      <td>...</td>\n",
       "      <td>1.542556</td>\n",
       "      <td>-106.602268</td>\n",
       "      <td>-381.242177</td>\n",
       "      <td>-192.312278</td>\n",
       "      <td>-359.834412</td>\n",
       "      <td>390.653711</td>\n",
       "      <td>16.772866</td>\n",
       "      <td>6175.373737</td>\n",
       "      <td>2503.954009</td>\n",
       "      <td>506.888955</td>\n",
       "    </tr>\n",
       "    <tr>\n",
       "      <th>3</th>\n",
       "      <td>594.140938</td>\n",
       "      <td>3.757483</td>\n",
       "      <td>2974.121697</td>\n",
       "      <td>-437.226992</td>\n",
       "      <td>3741.886280</td>\n",
       "      <td>-1382.335739</td>\n",
       "      <td>142.496936</td>\n",
       "      <td>3639.009101</td>\n",
       "      <td>140.130936</td>\n",
       "      <td>420.156241</td>\n",
       "      <td>...</td>\n",
       "      <td>-3.580811</td>\n",
       "      <td>-473.880921</td>\n",
       "      <td>-989.161875</td>\n",
       "      <td>-306.576297</td>\n",
       "      <td>-711.856880</td>\n",
       "      <td>-341.105928</td>\n",
       "      <td>12.679189</td>\n",
       "      <td>12676.452254</td>\n",
       "      <td>2910.020185</td>\n",
       "      <td>421.475205</td>\n",
       "    </tr>\n",
       "    <tr>\n",
       "      <th>4</th>\n",
       "      <td>548.340555</td>\n",
       "      <td>7.184455</td>\n",
       "      <td>6474.239163</td>\n",
       "      <td>-20.093088</td>\n",
       "      <td>6400.807918</td>\n",
       "      <td>-1944.696534</td>\n",
       "      <td>302.997836</td>\n",
       "      <td>-3060.551704</td>\n",
       "      <td>-32.548147</td>\n",
       "      <td>597.019017</td>\n",
       "      <td>...</td>\n",
       "      <td>-9.819965</td>\n",
       "      <td>-1261.476004</td>\n",
       "      <td>-620.341313</td>\n",
       "      <td>-129.758979</td>\n",
       "      <td>-1953.770106</td>\n",
       "      <td>-1222.430675</td>\n",
       "      <td>-28.629616</td>\n",
       "      <td>18639.254891</td>\n",
       "      <td>-8037.492520</td>\n",
       "      <td>1205.608830</td>\n",
       "    </tr>\n",
       "  </tbody>\n",
       "</table>\n",
       "<p>5 rows × 1000 columns</p>\n",
       "</div>"
      ],
      "text/plain": [
       "          0           1            2           3            4            5    \\\n",
       "0   71.298701  144.293310   247.495982  194.496085  -217.161464   488.041774   \n",
       "1  125.071727   60.299502   443.670727  182.756714  -305.942145  -328.492577   \n",
       "2  351.760281   11.733273  2730.501794 -106.616368 -1824.474171  -953.927167   \n",
       "3  594.140938    3.757483  2974.121697 -437.226992  3741.886280 -1382.335739   \n",
       "4  548.340555    7.184455  6474.239163  -20.093088  6400.807918 -1944.696534   \n",
       "\n",
       "          6            7           8           9    ...       990  \\\n",
       "0   90.605628   240.195524  111.341336   99.721535  ... -1.044319   \n",
       "1  126.449017   943.506563  356.082504  112.806377  ... -3.173561   \n",
       "2   87.974774  3143.364947  253.936292  162.669645  ...  1.542556   \n",
       "3  142.496936  3639.009101  140.130936  420.156241  ... -3.580811   \n",
       "4  302.997836 -3060.551704  -32.548147  597.019017  ... -9.819965   \n",
       "\n",
       "           991         992         993          994          995        996  \\\n",
       "0    56.588013  -87.445470 -105.158540    82.158181    49.056770  30.739954   \n",
       "1   -77.901494 -217.546627 -150.202867  -153.087703   234.787033  22.242040   \n",
       "2  -106.602268 -381.242177 -192.312278  -359.834412   390.653711  16.772866   \n",
       "3  -473.880921 -989.161875 -306.576297  -711.856880  -341.105928  12.679189   \n",
       "4 -1261.476004 -620.341313 -129.758979 -1953.770106 -1222.430675 -28.629616   \n",
       "\n",
       "            997          998          999  \n",
       "0    574.974585   153.985675    97.290989  \n",
       "1   2050.708353   496.940175   137.853894  \n",
       "2   6175.373737  2503.954009   506.888955  \n",
       "3  12676.452254  2910.020185   421.475205  \n",
       "4  18639.254891 -8037.492520  1205.608830  \n",
       "\n",
       "[5 rows x 1000 columns]"
      ]
     },
     "execution_count": 17,
     "metadata": {},
     "output_type": "execute_result"
    }
   ],
   "source": [
    "# 5 years projection(rows) 1000 simulations (columns)\n",
    "simulation_df_sc2"
   ]
  },
  {
   "cell_type": "code",
   "execution_count": 18,
   "metadata": {},
   "outputs": [
    {
     "data": {
      "image/png": "[encoded data removed]",
      "text/plain": [
       "<Figure size 432x288 with 1 Axes>"
      ]
     },
     "metadata": {
      "needs_background": "light"
     },
     "output_type": "display_data"
    }
   ],
   "source": [
    "createPlot(simulation_df_sc2)"
   ]
  },
  {
   "cell_type": "markdown",
   "metadata": {},
   "source": [
    "# Scenario_3 - Covid did Happen - LShaped Recession"
   ]
  },
  {
   "cell_type": "markdown",
   "metadata": {},
   "source": [
    "The third scenario assumes a major recession in UK economy in 2020 and gradual recovery from 2021 onwards. The GDP growth and inflation forecasts for 2020 and 2021 were obtained from the September PWC UK Economic Update. I assumed a GDP growth and inflation for 2022, 2023 and 2024 will equal to the average of the last 5 years which signals a return to normality in the medium to long term. The following assumption are used:\n",
    "\n",
    "* GDP Growth follows a normal distribution with mean equal to -0.53% and a standard deviation equal to 6.4% (based on 5 years forecasted Lshaped GDP growth). \n",
    "* Inflation follows a normal distribution with mean 1.3% and standard deviation of 0.48% (based on 5 years forecasted Lshaped inflation).\n",
    "* EBITDA as a percentage of revenues is always the same and equal to 31.52% (average EBITDA of fever-tree the last 7 years).\n",
    "* Inflation and GDP are independent variables e.g. changes in inflation does not affect GDP and vice versa."
   ]
  },
  {
   "cell_type": "code",
   "execution_count": 25,
   "metadata": {},
   "outputs": [],
   "source": [
    "# standard deviation of gdp growth and inflation\n",
    "gdp_std = df_fct['%gdp_growth_fct_ls'].std()\n",
    "inf_std = df_fct['%inflation_fct_ls'].std()\n",
    "#mean of gdp and inflation\n",
    "gdp_mean = df_fct['%gdp_growth_fct_ls'].mean()\n",
    "inf_mean = df_fct['%inflation_fct_ls'].mean()\n",
    "#last reported revenue in millions \n",
    "last_revenue  = 260.5\n",
    "#EBITDA as % of revenue\n",
    "ebitda_pct = 0.3152\n",
    "#last EBITDA\n",
    "last_ebitda = 77.00"
   ]
  },
  {
   "cell_type": "code",
   "execution_count": 29,
   "metadata": {},
   "outputs": [
    {
     "data": {
      "text/plain": [
       "0.004889989775040435"
      ]
     },
     "execution_count": 29,
     "metadata": {},
     "output_type": "execute_result"
    }
   ],
   "source": [
    "inf_std"
   ]
  },
  {
   "cell_type": "code",
   "execution_count": 20,
   "metadata": {},
   "outputs": [],
   "source": [
    "simulation_df_sc3 = monteCarloDataframe(num_simulations,num_years,gdp_mean,gdp_std,inf_mean,inf_std,gdp_coef,inf_coef,last_revenue,ebitda_pct)"
   ]
  },
  {
   "cell_type": "code",
   "execution_count": 23,
   "metadata": {},
   "outputs": [
    {
     "data": {
      "text/html": [
       "<div>\n",
       "<style scoped>\n",
       "    .dataframe tbody tr th:only-of-type {\n",
       "        vertical-align: middle;\n",
       "    }\n",
       "\n",
       "    .dataframe tbody tr th {\n",
       "        vertical-align: top;\n",
       "    }\n",
       "\n",
       "    .dataframe thead th {\n",
       "        text-align: right;\n",
       "    }\n",
       "</style>\n",
       "<table border=\"1\" class=\"dataframe\">\n",
       "  <thead>\n",
       "    <tr style=\"text-align: right;\">\n",
       "      <th></th>\n",
       "      <th>0</th>\n",
       "      <th>1</th>\n",
       "      <th>2</th>\n",
       "      <th>3</th>\n",
       "      <th>4</th>\n",
       "      <th>5</th>\n",
       "      <th>6</th>\n",
       "      <th>7</th>\n",
       "      <th>8</th>\n",
       "      <th>9</th>\n",
       "      <th>...</th>\n",
       "      <th>990</th>\n",
       "      <th>991</th>\n",
       "      <th>992</th>\n",
       "      <th>993</th>\n",
       "      <th>994</th>\n",
       "      <th>995</th>\n",
       "      <th>996</th>\n",
       "      <th>997</th>\n",
       "      <th>998</th>\n",
       "      <th>999</th>\n",
       "    </tr>\n",
       "  </thead>\n",
       "  <tbody>\n",
       "    <tr>\n",
       "      <th>0</th>\n",
       "      <td>221.064476</td>\n",
       "      <td>350.392961</td>\n",
       "      <td>20.961770</td>\n",
       "      <td>152.242990</td>\n",
       "      <td>-29.866795</td>\n",
       "      <td>-165.479488</td>\n",
       "      <td>29.772961</td>\n",
       "      <td>34.214443</td>\n",
       "      <td>206.580930</td>\n",
       "      <td>-138.554865</td>\n",
       "      <td>...</td>\n",
       "      <td>99.108917</td>\n",
       "      <td>58.604326</td>\n",
       "      <td>-12.341955</td>\n",
       "      <td>-195.647763</td>\n",
       "      <td>166.744000</td>\n",
       "      <td>-146.192825</td>\n",
       "      <td>252.247070</td>\n",
       "      <td>-40.526943</td>\n",
       "      <td>-52.754698</td>\n",
       "      <td>273.086448</td>\n",
       "    </tr>\n",
       "    <tr>\n",
       "      <th>1</th>\n",
       "      <td>96.663287</td>\n",
       "      <td>-156.286780</td>\n",
       "      <td>23.292240</td>\n",
       "      <td>83.532753</td>\n",
       "      <td>-5.461211</td>\n",
       "      <td>407.958579</td>\n",
       "      <td>20.940035</td>\n",
       "      <td>-2.188818</td>\n",
       "      <td>587.518281</td>\n",
       "      <td>-125.523916</td>\n",
       "      <td>...</td>\n",
       "      <td>209.207816</td>\n",
       "      <td>1.426422</td>\n",
       "      <td>5.534309</td>\n",
       "      <td>-524.688550</td>\n",
       "      <td>351.953746</td>\n",
       "      <td>-65.242822</td>\n",
       "      <td>73.518713</td>\n",
       "      <td>-51.795605</td>\n",
       "      <td>-47.041800</td>\n",
       "      <td>47.243573</td>\n",
       "    </tr>\n",
       "    <tr>\n",
       "      <th>2</th>\n",
       "      <td>56.373777</td>\n",
       "      <td>-342.545932</td>\n",
       "      <td>33.223179</td>\n",
       "      <td>372.615452</td>\n",
       "      <td>4.813229</td>\n",
       "      <td>571.192301</td>\n",
       "      <td>33.836904</td>\n",
       "      <td>-5.209585</td>\n",
       "      <td>519.130626</td>\n",
       "      <td>233.422806</td>\n",
       "      <td>...</td>\n",
       "      <td>687.644712</td>\n",
       "      <td>6.730089</td>\n",
       "      <td>7.821447</td>\n",
       "      <td>-329.390530</td>\n",
       "      <td>325.281733</td>\n",
       "      <td>-164.188405</td>\n",
       "      <td>105.718358</td>\n",
       "      <td>-98.980002</td>\n",
       "      <td>12.435187</td>\n",
       "      <td>55.506177</td>\n",
       "    </tr>\n",
       "    <tr>\n",
       "      <th>3</th>\n",
       "      <td>102.708657</td>\n",
       "      <td>-895.524003</td>\n",
       "      <td>40.579481</td>\n",
       "      <td>417.453698</td>\n",
       "      <td>7.983761</td>\n",
       "      <td>764.595685</td>\n",
       "      <td>-34.090389</td>\n",
       "      <td>7.680542</td>\n",
       "      <td>983.591617</td>\n",
       "      <td>343.315458</td>\n",
       "      <td>...</td>\n",
       "      <td>2311.060906</td>\n",
       "      <td>1.829907</td>\n",
       "      <td>9.553102</td>\n",
       "      <td>-165.111427</td>\n",
       "      <td>-67.389531</td>\n",
       "      <td>77.541302</td>\n",
       "      <td>414.345244</td>\n",
       "      <td>-220.954092</td>\n",
       "      <td>16.197549</td>\n",
       "      <td>106.989948</td>\n",
       "    </tr>\n",
       "    <tr>\n",
       "      <th>4</th>\n",
       "      <td>66.506270</td>\n",
       "      <td>-3393.447197</td>\n",
       "      <td>17.686723</td>\n",
       "      <td>184.412463</td>\n",
       "      <td>-0.432783</td>\n",
       "      <td>1815.154976</td>\n",
       "      <td>-0.541597</td>\n",
       "      <td>3.332024</td>\n",
       "      <td>1117.623145</td>\n",
       "      <td>427.459532</td>\n",
       "      <td>...</td>\n",
       "      <td>2933.951921</td>\n",
       "      <td>-0.476706</td>\n",
       "      <td>-8.103703</td>\n",
       "      <td>-412.191597</td>\n",
       "      <td>-80.707242</td>\n",
       "      <td>-30.441876</td>\n",
       "      <td>309.921590</td>\n",
       "      <td>294.843345</td>\n",
       "      <td>45.498339</td>\n",
       "      <td>314.738981</td>\n",
       "    </tr>\n",
       "  </tbody>\n",
       "</table>\n",
       "<p>5 rows × 1000 columns</p>\n",
       "</div>"
      ],
      "text/plain": [
       "          0            1          2           3          4            5    \\\n",
       "0  221.064476   350.392961  20.961770  152.242990 -29.866795  -165.479488   \n",
       "1   96.663287  -156.286780  23.292240   83.532753  -5.461211   407.958579   \n",
       "2   56.373777  -342.545932  33.223179  372.615452   4.813229   571.192301   \n",
       "3  102.708657  -895.524003  40.579481  417.453698   7.983761   764.595685   \n",
       "4   66.506270 -3393.447197  17.686723  184.412463  -0.432783  1815.154976   \n",
       "\n",
       "         6          7            8           9    ...          990        991  \\\n",
       "0  29.772961  34.214443   206.580930 -138.554865  ...    99.108917  58.604326   \n",
       "1  20.940035  -2.188818   587.518281 -125.523916  ...   209.207816   1.426422   \n",
       "2  33.836904  -5.209585   519.130626  233.422806  ...   687.644712   6.730089   \n",
       "3 -34.090389   7.680542   983.591617  343.315458  ...  2311.060906   1.829907   \n",
       "4  -0.541597   3.332024  1117.623145  427.459532  ...  2933.951921  -0.476706   \n",
       "\n",
       "         992         993         994         995         996         997  \\\n",
       "0 -12.341955 -195.647763  166.744000 -146.192825  252.247070  -40.526943   \n",
       "1   5.534309 -524.688550  351.953746  -65.242822   73.518713  -51.795605   \n",
       "2   7.821447 -329.390530  325.281733 -164.188405  105.718358  -98.980002   \n",
       "3   9.553102 -165.111427  -67.389531   77.541302  414.345244 -220.954092   \n",
       "4  -8.103703 -412.191597  -80.707242  -30.441876  309.921590  294.843345   \n",
       "\n",
       "         998         999  \n",
       "0 -52.754698  273.086448  \n",
       "1 -47.041800   47.243573  \n",
       "2  12.435187   55.506177  \n",
       "3  16.197549  106.989948  \n",
       "4  45.498339  314.738981  \n",
       "\n",
       "[5 rows x 1000 columns]"
      ]
     },
     "execution_count": 23,
     "metadata": {},
     "output_type": "execute_result"
    }
   ],
   "source": [
    "# 5 years projection(rows) 1000 simulations (columns)\n",
    "simulation_df_sc3"
   ]
  },
  {
   "cell_type": "code",
   "execution_count": 21,
   "metadata": {},
   "outputs": [
    {
     "data": {
      "image/png": "[encoded data removed]",
      "text/plain": [
       "<Figure size 432x288 with 1 Axes>"
      ]
     },
     "metadata": {
      "needs_background": "light"
     },
     "output_type": "display_data"
    }
   ],
   "source": [
    "createPlot(simulation_df_sc3)"
   ]
  },
  {
   "cell_type": "markdown",
   "metadata": {},
   "source": [
    "# Scenario_4 - Covid did Happen - LShaped Recession - Major Fixed costs"
   ]
  },
  {
   "cell_type": "markdown",
   "metadata": {},
   "source": [
    "The forth scenario makes the same assumptions as scenario_3 in terms of gdp growth and inflation but this time it assumes that fever-tree has major fixed costs associated with cost of sales and as a result EBITDA as a % of sales is lower. The following assumption are used:\n",
    "\n",
    "* GDP Growth follows a normal distribution with mean equal to -0.53% and a standard deviation equal to 6.4% (based on 5 years forecasted Lshaped GDP growth). \n",
    "* Inflation follows a normal distribution with mean 1.3% and standard deviation of 0.48% (based on 5 years forecasted Lshaped inflation)\n",
    "* EBITDA as a percentage of revenues is always the same and equal to 20.00%.\n",
    "* Inflation and GDP are independent variables e.g. changes in inflation does not affect GDP and vice versa."
   ]
  },
  {
   "cell_type": "code",
   "execution_count": 30,
   "metadata": {},
   "outputs": [],
   "source": [
    "# standard deviation of gdp growth and inflation\n",
    "gdp_std = df_fct['%gdp_growth_fct_ls'].std()\n",
    "inf_std = df_fct['%inflation_fct_ls'].std()\n",
    "#mean of gdp and inflation\n",
    "gdp_mean = df_fct['%gdp_growth_fct_ls'].mean()\n",
    "inf_mean = df_fct['%inflation_fct_ls'].mean()\n",
    "#last reported revenue in millions \n",
    "last_revenue  = 260.5\n",
    "#EBITDA as % of revenue\n",
    "ebitda_pct = 0.20\n",
    "#last EBITDA\n",
    "last_ebitda = 77.00"
   ]
  },
  {
   "cell_type": "code",
   "execution_count": 31,
   "metadata": {},
   "outputs": [],
   "source": [
    "simulation_df_sc4 = monteCarloDataframe(num_simulations,num_years,gdp_mean,gdp_std,inf_mean,inf_std,gdp_coef,inf_coef,last_revenue,ebitda_pct)"
   ]
  },
  {
   "cell_type": "code",
   "execution_count": 34,
   "metadata": {},
   "outputs": [
    {
     "data": {
      "text/html": [
       "<div>\n",
       "<style scoped>\n",
       "    .dataframe tbody tr th:only-of-type {\n",
       "        vertical-align: middle;\n",
       "    }\n",
       "\n",
       "    .dataframe tbody tr th {\n",
       "        vertical-align: top;\n",
       "    }\n",
       "\n",
       "    .dataframe thead th {\n",
       "        text-align: right;\n",
       "    }\n",
       "</style>\n",
       "<table border=\"1\" class=\"dataframe\">\n",
       "  <thead>\n",
       "    <tr style=\"text-align: right;\">\n",
       "      <th></th>\n",
       "      <th>0</th>\n",
       "      <th>1</th>\n",
       "      <th>2</th>\n",
       "      <th>3</th>\n",
       "      <th>4</th>\n",
       "      <th>5</th>\n",
       "      <th>6</th>\n",
       "      <th>7</th>\n",
       "      <th>8</th>\n",
       "      <th>9</th>\n",
       "      <th>...</th>\n",
       "      <th>990</th>\n",
       "      <th>991</th>\n",
       "      <th>992</th>\n",
       "      <th>993</th>\n",
       "      <th>994</th>\n",
       "      <th>995</th>\n",
       "      <th>996</th>\n",
       "      <th>997</th>\n",
       "      <th>998</th>\n",
       "      <th>999</th>\n",
       "    </tr>\n",
       "  </thead>\n",
       "  <tbody>\n",
       "    <tr>\n",
       "      <th>0</th>\n",
       "      <td>107.183517</td>\n",
       "      <td>26.475323</td>\n",
       "      <td>-17.092285</td>\n",
       "      <td>-64.038037</td>\n",
       "      <td>16.872118</td>\n",
       "      <td>-63.318926</td>\n",
       "      <td>108.455524</td>\n",
       "      <td>32.273226</td>\n",
       "      <td>114.603880</td>\n",
       "      <td>136.260468</td>\n",
       "      <td>...</td>\n",
       "      <td>179.764834</td>\n",
       "      <td>167.395775</td>\n",
       "      <td>7.724939</td>\n",
       "      <td>70.144846</td>\n",
       "      <td>31.696577</td>\n",
       "      <td>119.376839</td>\n",
       "      <td>103.128833</td>\n",
       "      <td>-83.373975</td>\n",
       "      <td>81.169379</td>\n",
       "      <td>100.665653</td>\n",
       "    </tr>\n",
       "    <tr>\n",
       "      <th>1</th>\n",
       "      <td>-254.300586</td>\n",
       "      <td>-44.458654</td>\n",
       "      <td>17.337549</td>\n",
       "      <td>-141.394119</td>\n",
       "      <td>47.183996</td>\n",
       "      <td>-211.499455</td>\n",
       "      <td>207.532024</td>\n",
       "      <td>-66.583012</td>\n",
       "      <td>442.188260</td>\n",
       "      <td>210.087358</td>\n",
       "      <td>...</td>\n",
       "      <td>-26.355757</td>\n",
       "      <td>674.780625</td>\n",
       "      <td>23.721578</td>\n",
       "      <td>171.064236</td>\n",
       "      <td>121.579295</td>\n",
       "      <td>67.356650</td>\n",
       "      <td>1.411960</td>\n",
       "      <td>169.746584</td>\n",
       "      <td>227.889850</td>\n",
       "      <td>19.979539</td>\n",
       "    </tr>\n",
       "    <tr>\n",
       "      <th>2</th>\n",
       "      <td>-352.861503</td>\n",
       "      <td>-94.406473</td>\n",
       "      <td>23.023196</td>\n",
       "      <td>-114.605063</td>\n",
       "      <td>-53.300878</td>\n",
       "      <td>-160.103721</td>\n",
       "      <td>-416.552040</td>\n",
       "      <td>-256.120411</td>\n",
       "      <td>1019.691109</td>\n",
       "      <td>67.642082</td>\n",
       "      <td>...</td>\n",
       "      <td>-38.611476</td>\n",
       "      <td>1860.912125</td>\n",
       "      <td>75.048125</td>\n",
       "      <td>-204.674678</td>\n",
       "      <td>302.923507</td>\n",
       "      <td>84.078695</td>\n",
       "      <td>2.681718</td>\n",
       "      <td>319.553399</td>\n",
       "      <td>290.821445</td>\n",
       "      <td>-18.257438</td>\n",
       "    </tr>\n",
       "    <tr>\n",
       "      <th>3</th>\n",
       "      <td>3.711572</td>\n",
       "      <td>-9.921867</td>\n",
       "      <td>63.256247</td>\n",
       "      <td>-376.525026</td>\n",
       "      <td>-56.656364</td>\n",
       "      <td>119.905206</td>\n",
       "      <td>-348.736712</td>\n",
       "      <td>633.011183</td>\n",
       "      <td>269.267304</td>\n",
       "      <td>-35.768768</td>\n",
       "      <td>...</td>\n",
       "      <td>94.676896</td>\n",
       "      <td>501.418982</td>\n",
       "      <td>99.756616</td>\n",
       "      <td>-632.538156</td>\n",
       "      <td>561.639432</td>\n",
       "      <td>179.893399</td>\n",
       "      <td>-2.578592</td>\n",
       "      <td>756.485736</td>\n",
       "      <td>42.737661</td>\n",
       "      <td>39.661428</td>\n",
       "    </tr>\n",
       "    <tr>\n",
       "      <th>4</th>\n",
       "      <td>9.985478</td>\n",
       "      <td>10.123276</td>\n",
       "      <td>124.817394</td>\n",
       "      <td>394.918705</td>\n",
       "      <td>-130.876357</td>\n",
       "      <td>-217.238697</td>\n",
       "      <td>-65.746766</td>\n",
       "      <td>-380.517158</td>\n",
       "      <td>-572.212741</td>\n",
       "      <td>-24.471228</td>\n",
       "      <td>...</td>\n",
       "      <td>-6.203400</td>\n",
       "      <td>-552.360067</td>\n",
       "      <td>37.765278</td>\n",
       "      <td>-1673.718872</td>\n",
       "      <td>932.251765</td>\n",
       "      <td>36.705592</td>\n",
       "      <td>-2.515029</td>\n",
       "      <td>752.250996</td>\n",
       "      <td>4.359119</td>\n",
       "      <td>83.938198</td>\n",
       "    </tr>\n",
       "  </tbody>\n",
       "</table>\n",
       "<p>5 rows × 1000 columns</p>\n",
       "</div>"
      ],
      "text/plain": [
       "          0          1           2           3           4           5    \\\n",
       "0  107.183517  26.475323  -17.092285  -64.038037   16.872118  -63.318926   \n",
       "1 -254.300586 -44.458654   17.337549 -141.394119   47.183996 -211.499455   \n",
       "2 -352.861503 -94.406473   23.023196 -114.605063  -53.300878 -160.103721   \n",
       "3    3.711572  -9.921867   63.256247 -376.525026  -56.656364  119.905206   \n",
       "4    9.985478  10.123276  124.817394  394.918705 -130.876357 -217.238697   \n",
       "\n",
       "          6           7            8           9    ...         990  \\\n",
       "0  108.455524   32.273226   114.603880  136.260468  ...  179.764834   \n",
       "1  207.532024  -66.583012   442.188260  210.087358  ...  -26.355757   \n",
       "2 -416.552040 -256.120411  1019.691109   67.642082  ...  -38.611476   \n",
       "3 -348.736712  633.011183   269.267304  -35.768768  ...   94.676896   \n",
       "4  -65.746766 -380.517158  -572.212741  -24.471228  ...   -6.203400   \n",
       "\n",
       "           991        992          993         994         995         996  \\\n",
       "0   167.395775   7.724939    70.144846   31.696577  119.376839  103.128833   \n",
       "1   674.780625  23.721578   171.064236  121.579295   67.356650    1.411960   \n",
       "2  1860.912125  75.048125  -204.674678  302.923507   84.078695    2.681718   \n",
       "3   501.418982  99.756616  -632.538156  561.639432  179.893399   -2.578592   \n",
       "4  -552.360067  37.765278 -1673.718872  932.251765   36.705592   -2.515029   \n",
       "\n",
       "          997         998         999  \n",
       "0  -83.373975   81.169379  100.665653  \n",
       "1  169.746584  227.889850   19.979539  \n",
       "2  319.553399  290.821445  -18.257438  \n",
       "3  756.485736   42.737661   39.661428  \n",
       "4  752.250996    4.359119   83.938198  \n",
       "\n",
       "[5 rows x 1000 columns]"
      ]
     },
     "execution_count": 34,
     "metadata": {},
     "output_type": "execute_result"
    }
   ],
   "source": [
    "# 5 years projection(rows) 1000 simulations (columns)\n",
    "simulation_df_sc4"
   ]
  },
  {
   "cell_type": "code",
   "execution_count": 33,
   "metadata": {},
   "outputs": [
    {
     "data": {
      "image/png": "[encoded data removed]",
      "text/plain": [
       "<Figure size 432x288 with 1 Axes>"
      ]
     },
     "metadata": {
      "needs_background": "light"
     },
     "output_type": "display_data"
    }
   ],
   "source": [
    "createPlot(simulation_df_sc4)"
   ]
  },
  {
   "cell_type": "markdown",
   "metadata": {},
   "source": [
    "# Scenario_5 - Covid did Happen - VShaped Recession - Major Fixed costs"
   ]
  },
  {
   "cell_type": "markdown",
   "metadata": {},
   "source": [
    "The forth scenario makes the same assumptions as scenario_2 in terms of gdp growth and inflation but this time it assumes that fever-tree has major fixed costs associated with cost of sales and as a result EBITDA as a % of sales is lower. The following assumption are used:\n",
    "\n",
    "* GDP Growth follows a normal distribution with mean equal to 0.8% and a standard deviation equal to 7.6% (based on 5 years forecasted Vshaped GDP growth). \n",
    "* Inflation follows a normal distribution with mean 1.3% and standard deviation of 0.4% (based on 5 years forecasted Vshaped inflation)\n",
    "* EBITDA as a percentage of revenues is always the same and equal to 20.00% (average EBITDA of fever-tree the last 7 years)\n",
    "* Inflation and GDP are independent variables e.g. changes in inflation does not affect GDP and vice versa."
   ]
  },
  {
   "cell_type": "code",
   "execution_count": 42,
   "metadata": {},
   "outputs": [],
   "source": [
    "# standard deviation of gdp growth and inflation\n",
    "gdp_std = df_fct['%gdp_growth_fct_vs'].std()\n",
    "inf_std = df_fct['%inflation_fct_vs'].std()\n",
    "#mean of gdp and inflation\n",
    "gdp_mean = df_fct['%gdp_growth_fct_vs'].mean()\n",
    "inf_mean = df_fct['%inflation_fct_vs'].mean()\n",
    "#last reported revenue in millions \n",
    "last_revenue  = 260.5\n",
    "#EBITDA as % of revenue\n",
    "ebitda_pct = 0.20\n",
    "#last EBITDA\n",
    "last_ebitda = 77.00"
   ]
  },
  {
   "cell_type": "code",
   "execution_count": 43,
   "metadata": {},
   "outputs": [],
   "source": [
    "simulation_df_sc5 = monteCarloDataframe(num_simulations,num_years,gdp_mean,gdp_std,inf_mean,inf_std,gdp_coef,inf_coef,last_revenue,ebitda_pct)"
   ]
  },
  {
   "cell_type": "code",
   "execution_count": 44,
   "metadata": {},
   "outputs": [
    {
     "data": {
      "text/html": [
       "<div>\n",
       "<style scoped>\n",
       "    .dataframe tbody tr th:only-of-type {\n",
       "        vertical-align: middle;\n",
       "    }\n",
       "\n",
       "    .dataframe tbody tr th {\n",
       "        vertical-align: top;\n",
       "    }\n",
       "\n",
       "    .dataframe thead th {\n",
       "        text-align: right;\n",
       "    }\n",
       "</style>\n",
       "<table border=\"1\" class=\"dataframe\">\n",
       "  <thead>\n",
       "    <tr style=\"text-align: right;\">\n",
       "      <th></th>\n",
       "      <th>0</th>\n",
       "      <th>1</th>\n",
       "      <th>2</th>\n",
       "      <th>3</th>\n",
       "      <th>4</th>\n",
       "      <th>5</th>\n",
       "      <th>6</th>\n",
       "      <th>7</th>\n",
       "      <th>8</th>\n",
       "      <th>9</th>\n",
       "      <th>...</th>\n",
       "      <th>990</th>\n",
       "      <th>991</th>\n",
       "      <th>992</th>\n",
       "      <th>993</th>\n",
       "      <th>994</th>\n",
       "      <th>995</th>\n",
       "      <th>996</th>\n",
       "      <th>997</th>\n",
       "      <th>998</th>\n",
       "      <th>999</th>\n",
       "    </tr>\n",
       "  </thead>\n",
       "  <tbody>\n",
       "    <tr>\n",
       "      <th>0</th>\n",
       "      <td>91.004568</td>\n",
       "      <td>117.762495</td>\n",
       "      <td>83.487716</td>\n",
       "      <td>39.704896</td>\n",
       "      <td>119.422501</td>\n",
       "      <td>167.533697</td>\n",
       "      <td>28.967905</td>\n",
       "      <td>-37.325542</td>\n",
       "      <td>5.254481</td>\n",
       "      <td>165.527642</td>\n",
       "      <td>...</td>\n",
       "      <td>330.215243</td>\n",
       "      <td>115.358700</td>\n",
       "      <td>125.445725</td>\n",
       "      <td>91.198467</td>\n",
       "      <td>8.771410</td>\n",
       "      <td>117.460085</td>\n",
       "      <td>102.487764</td>\n",
       "      <td>89.115070</td>\n",
       "      <td>-5.897281</td>\n",
       "      <td>-133.023070</td>\n",
       "    </tr>\n",
       "    <tr>\n",
       "      <th>1</th>\n",
       "      <td>160.094504</td>\n",
       "      <td>-76.309959</td>\n",
       "      <td>-25.388790</td>\n",
       "      <td>-76.492749</td>\n",
       "      <td>15.320041</td>\n",
       "      <td>58.955174</td>\n",
       "      <td>82.025432</td>\n",
       "      <td>88.764331</td>\n",
       "      <td>-10.992361</td>\n",
       "      <td>50.590617</td>\n",
       "      <td>...</td>\n",
       "      <td>405.386572</td>\n",
       "      <td>56.311788</td>\n",
       "      <td>-2.243358</td>\n",
       "      <td>112.046661</td>\n",
       "      <td>4.464885</td>\n",
       "      <td>519.990393</td>\n",
       "      <td>76.682781</td>\n",
       "      <td>17.092436</td>\n",
       "      <td>-19.536493</td>\n",
       "      <td>14.378343</td>\n",
       "    </tr>\n",
       "    <tr>\n",
       "      <th>2</th>\n",
       "      <td>209.184631</td>\n",
       "      <td>-280.741752</td>\n",
       "      <td>-30.886438</td>\n",
       "      <td>-48.428563</td>\n",
       "      <td>39.239035</td>\n",
       "      <td>-55.785419</td>\n",
       "      <td>45.297349</td>\n",
       "      <td>27.709002</td>\n",
       "      <td>4.602233</td>\n",
       "      <td>158.420447</td>\n",
       "      <td>...</td>\n",
       "      <td>-165.670950</td>\n",
       "      <td>232.013499</td>\n",
       "      <td>-1.377730</td>\n",
       "      <td>422.128716</td>\n",
       "      <td>8.034125</td>\n",
       "      <td>983.648987</td>\n",
       "      <td>24.896449</td>\n",
       "      <td>-42.428030</td>\n",
       "      <td>0.346990</td>\n",
       "      <td>4.419537</td>\n",
       "    </tr>\n",
       "    <tr>\n",
       "      <th>3</th>\n",
       "      <td>-697.324026</td>\n",
       "      <td>-395.865169</td>\n",
       "      <td>5.707724</td>\n",
       "      <td>18.129847</td>\n",
       "      <td>-13.887039</td>\n",
       "      <td>-19.957103</td>\n",
       "      <td>19.988760</td>\n",
       "      <td>8.908813</td>\n",
       "      <td>3.727335</td>\n",
       "      <td>1002.610615</td>\n",
       "      <td>...</td>\n",
       "      <td>-153.533587</td>\n",
       "      <td>185.005590</td>\n",
       "      <td>-2.406754</td>\n",
       "      <td>-837.979506</td>\n",
       "      <td>14.875361</td>\n",
       "      <td>2092.823542</td>\n",
       "      <td>28.805970</td>\n",
       "      <td>-2.230035</td>\n",
       "      <td>-0.042818</td>\n",
       "      <td>9.860525</td>\n",
       "    </tr>\n",
       "    <tr>\n",
       "      <th>4</th>\n",
       "      <td>-1763.869084</td>\n",
       "      <td>-73.680667</td>\n",
       "      <td>10.776953</td>\n",
       "      <td>-50.214475</td>\n",
       "      <td>-33.633379</td>\n",
       "      <td>-100.671591</td>\n",
       "      <td>10.826782</td>\n",
       "      <td>11.682299</td>\n",
       "      <td>5.406743</td>\n",
       "      <td>2221.867698</td>\n",
       "      <td>...</td>\n",
       "      <td>-494.824747</td>\n",
       "      <td>649.015373</td>\n",
       "      <td>-8.913940</td>\n",
       "      <td>-1839.087748</td>\n",
       "      <td>-22.717242</td>\n",
       "      <td>-2480.010650</td>\n",
       "      <td>143.544544</td>\n",
       "      <td>-5.005395</td>\n",
       "      <td>-0.126232</td>\n",
       "      <td>22.691698</td>\n",
       "    </tr>\n",
       "  </tbody>\n",
       "</table>\n",
       "<p>5 rows × 1000 columns</p>\n",
       "</div>"
      ],
      "text/plain": [
       "           0           1          2          3           4           5    \\\n",
       "0    91.004568  117.762495  83.487716  39.704896  119.422501  167.533697   \n",
       "1   160.094504  -76.309959 -25.388790 -76.492749   15.320041   58.955174   \n",
       "2   209.184631 -280.741752 -30.886438 -48.428563   39.239035  -55.785419   \n",
       "3  -697.324026 -395.865169   5.707724  18.129847  -13.887039  -19.957103   \n",
       "4 -1763.869084  -73.680667  10.776953 -50.214475  -33.633379 -100.671591   \n",
       "\n",
       "         6          7          8            9    ...         990         991  \\\n",
       "0  28.967905 -37.325542   5.254481   165.527642  ...  330.215243  115.358700   \n",
       "1  82.025432  88.764331 -10.992361    50.590617  ...  405.386572   56.311788   \n",
       "2  45.297349  27.709002   4.602233   158.420447  ... -165.670950  232.013499   \n",
       "3  19.988760   8.908813   3.727335  1002.610615  ... -153.533587  185.005590   \n",
       "4  10.826782  11.682299   5.406743  2221.867698  ... -494.824747  649.015373   \n",
       "\n",
       "          992          993        994          995         996        997  \\\n",
       "0  125.445725    91.198467   8.771410   117.460085  102.487764  89.115070   \n",
       "1   -2.243358   112.046661   4.464885   519.990393   76.682781  17.092436   \n",
       "2   -1.377730   422.128716   8.034125   983.648987   24.896449 -42.428030   \n",
       "3   -2.406754  -837.979506  14.875361  2092.823542   28.805970  -2.230035   \n",
       "4   -8.913940 -1839.087748 -22.717242 -2480.010650  143.544544  -5.005395   \n",
       "\n",
       "         998         999  \n",
       "0  -5.897281 -133.023070  \n",
       "1 -19.536493   14.378343  \n",
       "2   0.346990    4.419537  \n",
       "3  -0.042818    9.860525  \n",
       "4  -0.126232   22.691698  \n",
       "\n",
       "[5 rows x 1000 columns]"
      ]
     },
     "execution_count": 44,
     "metadata": {},
     "output_type": "execute_result"
    }
   ],
   "source": [
    "# 5 years projection(rows) 1000 simulations (columns)\n",
    "simulation_df_sc5"
   ]
  },
  {
   "cell_type": "code",
   "execution_count": 45,
   "metadata": {},
   "outputs": [
    {
     "data": {
      "image/png": "[encoded data removed]",
      "text/plain": [
       "<Figure size 432x288 with 1 Axes>"
      ]
     },
     "metadata": {
      "needs_background": "light"
     },
     "output_type": "display_data"
    }
   ],
   "source": [
    "createPlot(simulation_df_sc5)"
   ]
  },
  {
   "cell_type": "markdown",
   "metadata": {},
   "source": [
    "# Statistics"
   ]
  },
  {
   "cell_type": "markdown",
   "metadata": {},
   "source": [
    "## Scenario_1  - Year 5"
   ]
  },
  {
   "cell_type": "code",
   "execution_count": 69,
   "metadata": {},
   "outputs": [],
   "source": [
    "simulation_df_sc1_tr = simulation_df_sc1.transpose()\n",
    "simulation_df_sc1_tr.columns = [2020,2021,2022,2023,2024]"
   ]
  },
  {
   "cell_type": "code",
   "execution_count": 72,
   "metadata": {},
   "outputs": [
    {
     "data": {
      "text/plain": [
       "<AxesSubplot:>"
      ]
     },
     "execution_count": 72,
     "metadata": {},
     "output_type": "execute_result"
    },
    {
     "data": {
      "image/png": "[encoded data removed]",
      "text/plain": [
       "<Figure size 432x288 with 1 Axes>"
      ]
     },
     "metadata": {
      "needs_background": "light"
     },
     "output_type": "display_data"
    }
   ],
   "source": [
    "simulation_df_sc1_tr[2024].hist(bins=100)"
   ]
  },
  {
   "cell_type": "code",
   "execution_count": 73,
   "metadata": {},
   "outputs": [
    {
     "data": {
      "text/plain": [
       "count    1000.000000\n",
       "mean      820.401396\n",
       "std       148.372409\n",
       "min       420.286628\n",
       "25%       713.047650\n",
       "50%       805.219711\n",
       "75%       916.770618\n",
       "max      1390.594245\n",
       "Name: 2024, dtype: float64"
      ]
     },
     "execution_count": 73,
     "metadata": {},
     "output_type": "execute_result"
    }
   ],
   "source": [
    "simulation_df_sc1_tr[2024].describe()"
   ]
  },
  {
   "cell_type": "markdown",
   "metadata": {},
   "source": [
    "## Scenario_2  - Year 5"
   ]
  },
  {
   "cell_type": "code",
   "execution_count": 74,
   "metadata": {},
   "outputs": [],
   "source": [
    "simulation_df_sc2_tr = simulation_df_sc2.transpose()\n",
    "simulation_df_sc2_tr.columns = [2020,2021,2022,2023,2024]"
   ]
  },
  {
   "cell_type": "code",
   "execution_count": 80,
   "metadata": {},
   "outputs": [
    {
     "data": {
      "text/plain": [
       "<AxesSubplot:>"
      ]
     },
     "execution_count": 80,
     "metadata": {},
     "output_type": "execute_result"
    },
    {
     "data": {
      "image/png": "[encoded data removed]",
      "text/plain": [
       "<Figure size 432x288 with 1 Axes>"
      ]
     },
     "metadata": {
      "needs_background": "light"
     },
     "output_type": "display_data"
    }
   ],
   "source": [
    "simulation_df_sc2_tr[2024].hist(bins=100)"
   ]
  },
  {
   "cell_type": "code",
   "execution_count": 81,
   "metadata": {},
   "outputs": [
    {
     "data": {
      "text/plain": [
       "count     1000.000000\n",
       "mean       234.205141\n",
       "std       4407.743057\n",
       "min     -24273.827809\n",
       "25%       -265.795990\n",
       "50%          0.744809\n",
       "75%        389.852673\n",
       "max      55848.354265\n",
       "Name: 2024, dtype: float64"
      ]
     },
     "execution_count": 81,
     "metadata": {},
     "output_type": "execute_result"
    }
   ],
   "source": [
    "simulation_df_sc2_tr[2024].describe()"
   ]
  },
  {
   "cell_type": "markdown",
   "metadata": {},
   "source": [
    "## Scenario_3 - Year 5"
   ]
  },
  {
   "cell_type": "code",
   "execution_count": 82,
   "metadata": {},
   "outputs": [],
   "source": [
    "simulation_df_sc3_tr = simulation_df_sc3.transpose()\n",
    "simulation_df_sc3_tr.columns = [2020,2021,2022,2023,2024]"
   ]
  },
  {
   "cell_type": "code",
   "execution_count": 84,
   "metadata": {},
   "outputs": [
    {
     "data": {
      "text/plain": [
       "<AxesSubplot:>"
      ]
     },
     "execution_count": 84,
     "metadata": {},
     "output_type": "execute_result"
    },
    {
     "data": {
      "image/png": "[encoded data removed]",
      "text/plain": [
       "<Figure size 432x288 with 1 Axes>"
      ]
     },
     "metadata": {
      "needs_background": "light"
     },
     "output_type": "display_data"
    }
   ],
   "source": [
    "simulation_df_sc3_tr[2024].hist(bins=100)"
   ]
  },
  {
   "cell_type": "code",
   "execution_count": 85,
   "metadata": {},
   "outputs": [
    {
     "data": {
      "text/plain": [
       "count     1000.000000\n",
       "mean        79.571044\n",
       "std       1729.713630\n",
       "min     -15960.592001\n",
       "25%       -114.214613\n",
       "50%          0.092171\n",
       "75%        131.708583\n",
       "max      20346.531370\n",
       "Name: 2024, dtype: float64"
      ]
     },
     "execution_count": 85,
     "metadata": {},
     "output_type": "execute_result"
    }
   ],
   "source": [
    "simulation_df_sc3_tr[2024].describe()"
   ]
  },
  {
   "cell_type": "markdown",
   "metadata": {},
   "source": [
    "## Scenario_4 - Year 5"
   ]
  },
  {
   "cell_type": "code",
   "execution_count": 86,
   "metadata": {},
   "outputs": [],
   "source": [
    "simulation_df_sc4_tr = simulation_df_sc4.transpose()\n",
    "simulation_df_sc4_tr.columns = [2020,2021,2022,2023,2024]"
   ]
  },
  {
   "cell_type": "code",
   "execution_count": 87,
   "metadata": {},
   "outputs": [
    {
     "data": {
      "text/plain": [
       "<AxesSubplot:>"
      ]
     },
     "execution_count": 87,
     "metadata": {},
     "output_type": "execute_result"
    },
    {
     "data": {
      "image/png": "[encoded data removed]",
      "text/plain": [
       "<Figure size 432x288 with 1 Axes>"
      ]
     },
     "metadata": {
      "needs_background": "light"
     },
     "output_type": "display_data"
    }
   ],
   "source": [
    "simulation_df_sc4_tr[2024].hist(bins=100)"
   ]
  },
  {
   "cell_type": "code",
   "execution_count": 88,
   "metadata": {},
   "outputs": [
    {
     "data": {
      "text/plain": [
       "count     1000.000000\n",
       "mean        66.340976\n",
       "std       1106.805319\n",
       "min      -8812.851655\n",
       "25%        -51.061112\n",
       "50%          1.113893\n",
       "75%         78.978461\n",
       "max      11775.560150\n",
       "Name: 2024, dtype: float64"
      ]
     },
     "execution_count": 88,
     "metadata": {},
     "output_type": "execute_result"
    }
   ],
   "source": [
    "simulation_df_sc4_tr[2024].describe()"
   ]
  },
  {
   "cell_type": "markdown",
   "metadata": {},
   "source": [
    "## Scenario_5 - Year 5"
   ]
  },
  {
   "cell_type": "code",
   "execution_count": 89,
   "metadata": {},
   "outputs": [],
   "source": [
    "simulation_df_sc5_tr = simulation_df_sc4.transpose()\n",
    "simulation_df_sc5_tr.columns = [2020,2021,2022,2023,2024]"
   ]
  },
  {
   "cell_type": "code",
   "execution_count": 90,
   "metadata": {},
   "outputs": [
    {
     "data": {
      "text/plain": [
       "<AxesSubplot:>"
      ]
     },
     "execution_count": 90,
     "metadata": {},
     "output_type": "execute_result"
    },
    {
     "data": {
      "image/png": "[encoded data removed]",
      "text/plain": [
       "<Figure size 432x288 with 1 Axes>"
      ]
     },
     "metadata": {
      "needs_background": "light"
     },
     "output_type": "display_data"
    }
   ],
   "source": [
    "simulation_df_sc5_tr[2024].hist(bins=100)"
   ]
  },
  {
   "cell_type": "code",
   "execution_count": 91,
   "metadata": {},
   "outputs": [
    {
     "data": {
      "text/plain": [
       "count     1000.000000\n",
       "mean        66.340976\n",
       "std       1106.805319\n",
       "min      -8812.851655\n",
       "25%        -51.061112\n",
       "50%          1.113893\n",
       "75%         78.978461\n",
       "max      11775.560150\n",
       "Name: 2024, dtype: float64"
      ]
     },
     "execution_count": 91,
     "metadata": {},
     "output_type": "execute_result"
    }
   ],
   "source": [
    "simulation_df_sc5_tr[2024].describe()"
   ]
  },
  {
   "cell_type": "code",
   "execution_count": null,
   "metadata": {},
   "outputs": [],
   "source": []
  }
 ],
 "metadata": {
  "kernelspec": {
   "display_name": "Python 3",
   "language": "python",
   "name": "python3"
  },
  "language_info": {
   "codemirror_mode": {
    "name": "ipython",
    "version": 3
   },
   "file_extension": ".py",
   "mimetype": "text/x-python",
   "name": "python",
   "nbconvert_exporter": "python",
   "pygments_lexer": "ipython3",
   "version": "3.8.3"
  }
 },
 "nbformat": 4,
 "nbformat_minor": 4
}
